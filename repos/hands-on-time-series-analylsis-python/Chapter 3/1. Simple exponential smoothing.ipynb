{
 "cells": [
  {
   "cell_type": "code",
   "execution_count": 3,
   "metadata": {
    "ExecuteTime": {
     "end_time": "2020-05-31T04:30:40.507382Z",
     "start_time": "2020-05-31T04:30:37.289907Z"
    }
   },
   "outputs": [],
   "source": [
    "from statsmodels.tsa.api import SimpleExpSmoothing\n",
    "import pandas as pd\n",
    "import numpy as np\n",
    "from sklearn import metrics\n",
    "df = pd.read_csv(r'../Data/FB.csv')"
   ]
  },
  {
   "cell_type": "code",
   "execution_count": 4,
   "metadata": {
    "ExecuteTime": {
     "end_time": "2020-05-31T04:30:41.913587Z",
     "start_time": "2020-05-31T04:30:41.880678Z"
    },
    "scrolled": true
   },
   "outputs": [
    {
     "data": {
      "text/html": [
       "<div>\n",
       "<style scoped>\n",
       "    .dataframe tbody tr th:only-of-type {\n",
       "        vertical-align: middle;\n",
       "    }\n",
       "\n",
       "    .dataframe tbody tr th {\n",
       "        vertical-align: top;\n",
       "    }\n",
       "\n",
       "    .dataframe thead th {\n",
       "        text-align: right;\n",
       "    }\n",
       "</style>\n",
       "<table border=\"1\" class=\"dataframe\">\n",
       "  <thead>\n",
       "    <tr style=\"text-align: right;\">\n",
       "      <th></th>\n",
       "      <th>Date</th>\n",
       "      <th>Open</th>\n",
       "      <th>High</th>\n",
       "      <th>Low</th>\n",
       "      <th>Close</th>\n",
       "      <th>Adj Close</th>\n",
       "      <th>Volume</th>\n",
       "    </tr>\n",
       "  </thead>\n",
       "  <tbody>\n",
       "    <tr>\n",
       "      <th>0</th>\n",
       "      <td>2014-12-08</td>\n",
       "      <td>76.180000</td>\n",
       "      <td>77.250000</td>\n",
       "      <td>75.400002</td>\n",
       "      <td>76.519997</td>\n",
       "      <td>76.519997</td>\n",
       "      <td>25733900</td>\n",
       "    </tr>\n",
       "    <tr>\n",
       "      <th>1</th>\n",
       "      <td>2014-12-09</td>\n",
       "      <td>75.199997</td>\n",
       "      <td>76.930000</td>\n",
       "      <td>74.779999</td>\n",
       "      <td>76.839996</td>\n",
       "      <td>76.839996</td>\n",
       "      <td>25358600</td>\n",
       "    </tr>\n",
       "    <tr>\n",
       "      <th>2</th>\n",
       "      <td>2014-12-10</td>\n",
       "      <td>76.650002</td>\n",
       "      <td>77.550003</td>\n",
       "      <td>76.070000</td>\n",
       "      <td>76.180000</td>\n",
       "      <td>76.180000</td>\n",
       "      <td>32210500</td>\n",
       "    </tr>\n",
       "    <tr>\n",
       "      <th>3</th>\n",
       "      <td>2014-12-11</td>\n",
       "      <td>76.519997</td>\n",
       "      <td>78.519997</td>\n",
       "      <td>76.480003</td>\n",
       "      <td>77.730003</td>\n",
       "      <td>77.730003</td>\n",
       "      <td>33462100</td>\n",
       "    </tr>\n",
       "    <tr>\n",
       "      <th>4</th>\n",
       "      <td>2014-12-12</td>\n",
       "      <td>77.160004</td>\n",
       "      <td>78.879997</td>\n",
       "      <td>77.019997</td>\n",
       "      <td>77.830002</td>\n",
       "      <td>77.830002</td>\n",
       "      <td>28091600</td>\n",
       "    </tr>\n",
       "    <tr>\n",
       "      <th>5</th>\n",
       "      <td>2014-12-15</td>\n",
       "      <td>78.459999</td>\n",
       "      <td>78.580002</td>\n",
       "      <td>76.559998</td>\n",
       "      <td>76.989998</td>\n",
       "      <td>76.989998</td>\n",
       "      <td>29396500</td>\n",
       "    </tr>\n",
       "    <tr>\n",
       "      <th>6</th>\n",
       "      <td>2014-12-16</td>\n",
       "      <td>76.190002</td>\n",
       "      <td>77.389999</td>\n",
       "      <td>74.589996</td>\n",
       "      <td>74.690002</td>\n",
       "      <td>74.690002</td>\n",
       "      <td>31554600</td>\n",
       "    </tr>\n",
       "    <tr>\n",
       "      <th>7</th>\n",
       "      <td>2014-12-17</td>\n",
       "      <td>75.010002</td>\n",
       "      <td>76.410004</td>\n",
       "      <td>74.900002</td>\n",
       "      <td>76.110001</td>\n",
       "      <td>76.110001</td>\n",
       "      <td>29203900</td>\n",
       "    </tr>\n",
       "    <tr>\n",
       "      <th>8</th>\n",
       "      <td>2014-12-18</td>\n",
       "      <td>76.889999</td>\n",
       "      <td>78.400002</td>\n",
       "      <td>76.510002</td>\n",
       "      <td>78.400002</td>\n",
       "      <td>78.400002</td>\n",
       "      <td>34222100</td>\n",
       "    </tr>\n",
       "    <tr>\n",
       "      <th>9</th>\n",
       "      <td>2014-12-19</td>\n",
       "      <td>78.750000</td>\n",
       "      <td>80.000000</td>\n",
       "      <td>78.330002</td>\n",
       "      <td>79.879997</td>\n",
       "      <td>79.879997</td>\n",
       "      <td>43335000</td>\n",
       "    </tr>\n",
       "  </tbody>\n",
       "</table>\n",
       "</div>"
      ],
      "text/plain": [
       "         Date       Open       High        Low      Close  Adj Close    Volume\n",
       "0  2014-12-08  76.180000  77.250000  75.400002  76.519997  76.519997  25733900\n",
       "1  2014-12-09  75.199997  76.930000  74.779999  76.839996  76.839996  25358600\n",
       "2  2014-12-10  76.650002  77.550003  76.070000  76.180000  76.180000  32210500\n",
       "3  2014-12-11  76.519997  78.519997  76.480003  77.730003  77.730003  33462100\n",
       "4  2014-12-12  77.160004  78.879997  77.019997  77.830002  77.830002  28091600\n",
       "5  2014-12-15  78.459999  78.580002  76.559998  76.989998  76.989998  29396500\n",
       "6  2014-12-16  76.190002  77.389999  74.589996  74.690002  74.690002  31554600\n",
       "7  2014-12-17  75.010002  76.410004  74.900002  76.110001  76.110001  29203900\n",
       "8  2014-12-18  76.889999  78.400002  76.510002  78.400002  78.400002  34222100\n",
       "9  2014-12-19  78.750000  80.000000  78.330002  79.879997  79.879997  43335000"
      ]
     },
     "execution_count": 4,
     "metadata": {},
     "output_type": "execute_result"
    }
   ],
   "source": [
    "df.head(10)"
   ]
  },
  {
   "cell_type": "code",
   "execution_count": 5,
   "metadata": {
    "ExecuteTime": {
     "end_time": "2020-05-31T04:30:43.707790Z",
     "start_time": "2020-05-31T04:30:43.703799Z"
    }
   },
   "outputs": [],
   "source": [
    "X = df['Close']"
   ]
  },
  {
   "cell_type": "code",
   "execution_count": 6,
   "metadata": {
    "ExecuteTime": {
     "end_time": "2020-05-31T04:30:46.305839Z",
     "start_time": "2020-05-31T04:30:46.300852Z"
    },
    "scrolled": true
   },
   "outputs": [],
   "source": [
    "test = X.iloc[-30:]"
   ]
  },
  {
   "cell_type": "code",
   "execution_count": 7,
   "metadata": {
    "ExecuteTime": {
     "end_time": "2020-05-31T04:30:47.338114Z",
     "start_time": "2020-05-31T04:30:47.333095Z"
    },
    "scrolled": true
   },
   "outputs": [],
   "source": [
    "train = X.iloc[:-30]"
   ]
  },
  {
   "cell_type": "code",
   "execution_count": 8,
   "metadata": {},
   "outputs": [
    {
     "ename": "SyntaxError",
     "evalue": "EOL while scanning string literal (<ipython-input-8-58282c2a7da9>, line 4)",
     "output_type": "error",
     "traceback": [
      "\u001b[0;36m  File \u001b[0;32m\"<ipython-input-8-58282c2a7da9>\"\u001b[0;36m, line \u001b[0;32m4\u001b[0m\n\u001b[0;31m    ''''\u001b[0m\n\u001b[0m        \n^\u001b[0m\n\u001b[0;31mSyntaxError\u001b[0m\u001b[0;31m:\u001b[0m EOL while scanning string literal\n"
     ]
    }
   ],
   "source": [
    "''''\n",
    "smoothing_level (float, optional) – The smoothing_level value of the simple exponential smoothing, if the value is set then this value will be used as the value.\n",
    "optimized (bool) – Should the values that have not been set above be optimized automatically?\n",
    "''''"
   ]
  },
  {
   "cell_type": "code",
   "execution_count": 9,
   "metadata": {
    "ExecuteTime": {
     "end_time": "2020-05-31T04:30:49.974030Z",
     "start_time": "2020-05-31T04:30:49.967046Z"
    }
   },
   "outputs": [],
   "source": [
    "def timeseries_evaluation_metrics_func(y_true, y_pred):\n",
    "    \n",
    "    def mean_absolute_percentage_error(y_true, y_pred): \n",
    "        y_true, y_pred = np.array(y_true), np.array(y_pred)\n",
    "        return np.mean(np.abs((y_true - y_pred) / y_true)) * 100\n",
    "    print('Evaluation metric results:-')\n",
    "    print(f'MSE is : {metrics.mean_squared_error(y_true, y_pred)}')\n",
    "    print(f'MAE is : {metrics.mean_absolute_error(y_true, y_pred)}')\n",
    "    print(f'RMSE is : {np.sqrt(metrics.mean_squared_error(y_true, y_pred))}')\n",
    "    print(f'MAPE is : {mean_absolute_percentage_error(y_true, y_pred)}')\n",
    "    print(f'R2 is : {metrics.r2_score(y_true, y_pred)}',end='\\n\\n')"
   ]
  },
  {
   "cell_type": "code",
   "execution_count": 10,
   "metadata": {
    "ExecuteTime": {
     "end_time": "2020-05-31T04:31:04.946018Z",
     "start_time": "2020-05-31T04:31:04.768460Z"
    },
    "scrolled": true
   },
   "outputs": [
    {
     "name": "stdout",
     "output_type": "stream",
     "text": [
      "Fitting for smoothing level= 0\n",
      "Evaluation metric results:-\n",
      "MSE is : 3060.5224710608522\n",
      "MAE is : 55.156320393038946\n",
      "RMSE is : 55.32198903746007\n",
      "MAPE is : 28.209610670924977\n",
      "R2 is : -166.21615538095995\n",
      "\n",
      "Fitting for smoothing level= 0.1\n",
      "Evaluation metric results:-\n",
      "MSE is : 130.19890782430633\n",
      "MAE is : 10.578096050945016\n",
      "RMSE is : 11.41047360210374\n",
      "MAPE is : 5.371184257014935\n",
      "R2 is : -6.113609198116427\n",
      "\n",
      "Fitting for smoothing level= 0.2\n",
      "Evaluation metric results:-\n",
      "MSE is : 108.84519758407878\n",
      "MAE is : 9.515377334756147\n",
      "RMSE is : 10.432890183648958\n",
      "MAPE is : 4.826729569629682\n",
      "R2 is : -4.946917770998036\n",
      "\n",
      "Fitting for smoothing level= 0.3\n",
      "Evaluation metric results:-\n",
      "MSE is : 101.81858360183577\n",
      "MAE is : 9.13869749146715\n",
      "RMSE is : 10.090519491177636\n",
      "MAPE is : 4.633748018445831\n",
      "R2 is : -4.563008361226736\n",
      "\n",
      "Fitting for smoothing level= 0.4\n",
      "Evaluation metric results:-\n",
      "MSE is : 101.76016636355348\n",
      "MAE is : 9.135500785521595\n",
      "RMSE is : 10.087624416261416\n",
      "MAPE is : 4.632110274130487\n",
      "R2 is : -4.55981664932594\n",
      "\n",
      "Fitting for smoothing level= 0.5\n",
      "Evaluation metric results:-\n",
      "MSE is : 102.74142204977626\n",
      "MAE is : 9.189049476876729\n",
      "RMSE is : 10.136144338444291\n",
      "MAPE is : 4.659544472444225\n",
      "R2 is : -4.613428999781581\n",
      "\n",
      "Fitting for smoothing level= 0.6\n",
      "Evaluation metric results:-\n",
      "MSE is : 102.80335052433028\n",
      "MAE is : 9.19241854807768\n",
      "RMSE is : 10.139198712143395\n",
      "MAPE is : 4.6612705233545455\n",
      "R2 is : -4.616812553250457\n",
      "\n",
      "Fitting for smoothing level= 0.7\n",
      "Evaluation metric results:-\n",
      "MSE is : 101.78748505086264\n",
      "MAE is : 9.136995856931033\n",
      "RMSE is : 10.08897839480602\n",
      "MAPE is : 4.6328762328215705\n",
      "R2 is : -4.561309246065577\n",
      "\n",
      "Fitting for smoothing level= 0.8\n",
      "Evaluation metric results:-\n",
      "MSE is : 100.16155507977345\n",
      "MAE is : 9.047583286076213\n",
      "RMSE is : 10.008074494115911\n",
      "MAPE is : 4.58706816284831\n",
      "R2 is : -4.472474166024499\n",
      "\n",
      "Fitting for smoothing level= 0.9\n",
      "Evaluation metric results:-\n",
      "MSE is : 98.5429853240396\n",
      "MAE is : 8.957689074909434\n",
      "RMSE is : 9.926881953767738\n",
      "MAPE is : 4.54101333771634\n",
      "R2 is : -4.384041222195827\n",
      "\n",
      "Fitting for smoothing level= 1\n",
      "Evaluation metric results:-\n",
      "MSE is : 97.57797868071496\n",
      "MAE is : 8.90366143333332\n",
      "RMSE is : 9.878156643864024\n",
      "MAPE is : 4.513333762437967\n",
      "R2 is : -4.331316662144517\n",
      "\n"
     ]
    },
    {
     "name": "stderr",
     "output_type": "stream",
     "text": [
      "/anaconda/envs/jobs/lib/python3.8/site-packages/statsmodels/tsa/holtwinters/model.py:427: FutureWarning: After 0.13 initialization must be handled at model creation\n",
      "  warnings.warn(\n",
      "/anaconda/envs/jobs/lib/python3.8/site-packages/statsmodels/tsa/holtwinters/model.py:427: FutureWarning: After 0.13 initialization must be handled at model creation\n",
      "  warnings.warn(\n",
      "/anaconda/envs/jobs/lib/python3.8/site-packages/statsmodels/tsa/holtwinters/model.py:427: FutureWarning: After 0.13 initialization must be handled at model creation\n",
      "  warnings.warn(\n",
      "/anaconda/envs/jobs/lib/python3.8/site-packages/statsmodels/tsa/holtwinters/model.py:427: FutureWarning: After 0.13 initialization must be handled at model creation\n",
      "  warnings.warn(\n",
      "/anaconda/envs/jobs/lib/python3.8/site-packages/statsmodels/tsa/holtwinters/model.py:427: FutureWarning: After 0.13 initialization must be handled at model creation\n",
      "  warnings.warn(\n",
      "/anaconda/envs/jobs/lib/python3.8/site-packages/statsmodels/tsa/holtwinters/model.py:427: FutureWarning: After 0.13 initialization must be handled at model creation\n",
      "  warnings.warn(\n",
      "/anaconda/envs/jobs/lib/python3.8/site-packages/statsmodels/tsa/holtwinters/model.py:427: FutureWarning: After 0.13 initialization must be handled at model creation\n",
      "  warnings.warn(\n",
      "/anaconda/envs/jobs/lib/python3.8/site-packages/statsmodels/tsa/holtwinters/model.py:427: FutureWarning: After 0.13 initialization must be handled at model creation\n",
      "  warnings.warn(\n",
      "/anaconda/envs/jobs/lib/python3.8/site-packages/statsmodels/tsa/holtwinters/model.py:427: FutureWarning: After 0.13 initialization must be handled at model creation\n",
      "  warnings.warn(\n",
      "/anaconda/envs/jobs/lib/python3.8/site-packages/statsmodels/tsa/holtwinters/model.py:427: FutureWarning: After 0.13 initialization must be handled at model creation\n",
      "  warnings.warn(\n",
      "/anaconda/envs/jobs/lib/python3.8/site-packages/statsmodels/tsa/holtwinters/model.py:427: FutureWarning: After 0.13 initialization must be handled at model creation\n",
      "  warnings.warn(\n"
     ]
    },
    {
     "data": {
      "text/html": [
       "<div>\n",
       "<style scoped>\n",
       "    .dataframe tbody tr th:only-of-type {\n",
       "        vertical-align: middle;\n",
       "    }\n",
       "\n",
       "    .dataframe tbody tr th {\n",
       "        vertical-align: top;\n",
       "    }\n",
       "\n",
       "    .dataframe thead th {\n",
       "        text-align: right;\n",
       "    }\n",
       "</style>\n",
       "<table border=\"1\" class=\"dataframe\">\n",
       "  <thead>\n",
       "    <tr style=\"text-align: right;\">\n",
       "      <th></th>\n",
       "      <th>RMSE</th>\n",
       "      <th>smoothing parameter</th>\n",
       "    </tr>\n",
       "  </thead>\n",
       "  <tbody>\n",
       "    <tr>\n",
       "      <th>10</th>\n",
       "      <td>9.878157</td>\n",
       "      <td>1.0</td>\n",
       "    </tr>\n",
       "    <tr>\n",
       "      <th>9</th>\n",
       "      <td>9.926882</td>\n",
       "      <td>0.9</td>\n",
       "    </tr>\n",
       "    <tr>\n",
       "      <th>8</th>\n",
       "      <td>10.008074</td>\n",
       "      <td>0.8</td>\n",
       "    </tr>\n",
       "  </tbody>\n",
       "</table>\n",
       "</div>"
      ],
      "text/plain": [
       "         RMSE  smoothing parameter\n",
       "10   9.878157                  1.0\n",
       "9    9.926882                  0.9\n",
       "8   10.008074                  0.8"
      ]
     },
     "execution_count": 10,
     "metadata": {},
     "output_type": "execute_result"
    }
   ],
   "source": [
    "resu = []\n",
    "temp_df = pd.DataFrame()\n",
    "#df2 = pd.DataFrame(columns=['smoothing parameter', 'RMSE'])\n",
    "for i in [0 , 0.10, 0.20, 0.30, 0.40, 0.50, 0.60, 0.70, 0.80, 0.90,1]:\n",
    "    print(f'Fitting for smoothing level= {i}')\n",
    "    fit_v = SimpleExpSmoothing(np.asarray(train)).fit(i)\n",
    "    fcst_pred_v= fit_v.forecast(30)\n",
    "    timeseries_evaluation_metrics_func(test,fcst_pred_v)\n",
    "    rmse = np.sqrt(metrics.mean_squared_error(test, fcst_pred_v))\n",
    "    df3 = {'smoothing parameter':i, 'RMSE': rmse}\n",
    "    temp_df = temp_df.append(df3, ignore_index=True)\n",
    "temp_df.sort_values(by=['RMSE']).head(3)"
   ]
  },
  {
   "cell_type": "code",
   "execution_count": 11,
   "metadata": {
    "ExecuteTime": {
     "end_time": "2020-05-31T04:31:09.128794Z",
     "start_time": "2020-05-31T04:31:09.104859Z"
    }
   },
   "outputs": [
    {
     "name": "stdout",
     "output_type": "stream",
     "text": [
      "Evaluation metric results:-\n",
      "MSE is : 130.19890782430633\n",
      "MAE is : 10.578096050945016\n",
      "RMSE is : 11.41047360210374\n",
      "MAPE is : 5.371184257014935\n",
      "R2 is : -6.113609198116427\n",
      "\n"
     ]
    },
    {
     "name": "stderr",
     "output_type": "stream",
     "text": [
      "/anaconda/envs/jobs/lib/python3.8/site-packages/statsmodels/tsa/holtwinters/model.py:427: FutureWarning: After 0.13 initialization must be handled at model creation\n",
      "  warnings.warn(\n"
     ]
    }
   ],
   "source": [
    "#using values from grid search\n",
    "fitSES = SimpleExpSmoothing(np.asarray(train)).fit( smoothing_level = 0.1,optimized= False)\n",
    "fcst_gs_pred = fitSES.forecast(30)\n",
    "timeseries_evaluation_metrics_func(test,fcst_gs_pred)"
   ]
  },
  {
   "cell_type": "code",
   "execution_count": 12,
   "metadata": {
    "ExecuteTime": {
     "end_time": "2020-05-31T04:31:10.890083Z",
     "start_time": "2020-05-31T04:31:10.867144Z"
    }
   },
   "outputs": [
    {
     "name": "stdout",
     "output_type": "stream",
     "text": [
      "Evaluation metric results:-\n",
      "MSE is : 97.68044565575117\n",
      "MAE is : 8.909413779506675\n",
      "RMSE is : 9.883341826313162\n",
      "MAPE is : 4.516280818690797\n",
      "R2 is : -4.33691509632727\n",
      "\n"
     ]
    },
    {
     "name": "stderr",
     "output_type": "stream",
     "text": [
      "/anaconda/envs/jobs/lib/python3.8/site-packages/statsmodels/tsa/holtwinters/model.py:427: FutureWarning: After 0.13 initialization must be handled at model creation\n",
      "  warnings.warn(\n"
     ]
    }
   ],
   "source": [
    "#Automated smoothing_level\n",
    "fitSESauto = SimpleExpSmoothing(np.asarray(train)).fit( optimized= True, use_brute = True)\n",
    "fcst_auto_pred = fitSESauto.forecast(30)\n",
    "timeseries_evaluation_metrics_func(test,fcst_auto_pred)"
   ]
  },
  {
   "cell_type": "code",
   "execution_count": 13,
   "metadata": {
    "ExecuteTime": {
     "end_time": "2020-05-31T04:31:15.389050Z",
     "start_time": "2020-05-31T04:31:15.365116Z"
    }
   },
   "outputs": [
    {
     "data": {
      "text/html": [
       "<table class=\"simpletable\">\n",
       "<caption>SimpleExpSmoothing Model Results</caption>\n",
       "<tr>\n",
       "  <th>Dep. Variable:</th>           <td>endog</td>       <th>  No. Observations:  </th>       <td>1229</td>      \n",
       "</tr>\n",
       "<tr>\n",
       "  <th>Model:</th>            <td>SimpleExpSmoothing</td> <th>  SSE                </th>     <td>8965.774</td>    \n",
       "</tr>\n",
       "<tr>\n",
       "  <th>Optimized:</th>               <td>True</td>        <th>  AIC                </th>     <td>2446.285</td>    \n",
       "</tr>\n",
       "<tr>\n",
       "  <th>Trend:</th>                   <td>None</td>        <th>  BIC                </th>     <td>2456.513</td>    \n",
       "</tr>\n",
       "<tr>\n",
       "  <th>Seasonal:</th>                <td>None</td>        <th>  AICC               </th>     <td>2446.318</td>    \n",
       "</tr>\n",
       "<tr>\n",
       "  <th>Seasonal Periods:</th>        <td>None</td>        <th>  Date:              </th> <td>Mon, 03 May 2021</td>\n",
       "</tr>\n",
       "<tr>\n",
       "  <th>Box-Cox:</th>                 <td>False</td>       <th>  Time:              </th>     <td>14:35:53</td>    \n",
       "</tr>\n",
       "<tr>\n",
       "  <th>Box-Cox Coeff.:</th>          <td>None</td>        <th>                     </th>         <td> </td>       \n",
       "</tr>\n",
       "</table>\n",
       "<table class=\"simpletable\">\n",
       "<tr>\n",
       "         <td></td>                 <th>coeff</th>                <th>code</th>               <th>optimized</th>     \n",
       "</tr>\n",
       "<tr>\n",
       "  <th>smoothing_level</th> <td>           0.9808445</td> <td>               alpha</td> <td>                True</td>\n",
       "</tr>\n",
       "<tr>\n",
       "  <th>initial_level</th>   <td>           76.525895</td> <td>                 l.0</td> <td>                True</td>\n",
       "</tr>\n",
       "</table>"
      ],
      "text/plain": [
       "<class 'statsmodels.iolib.summary.Summary'>\n",
       "\"\"\"\n",
       "                       SimpleExpSmoothing Model Results                       \n",
       "==============================================================================\n",
       "Dep. Variable:                  endog   No. Observations:                 1229\n",
       "Model:             SimpleExpSmoothing   SSE                           8965.774\n",
       "Optimized:                       True   AIC                           2446.285\n",
       "Trend:                           None   BIC                           2456.513\n",
       "Seasonal:                        None   AICC                          2446.318\n",
       "Seasonal Periods:                None   Date:                 Mon, 03 May 2021\n",
       "Box-Cox:                        False   Time:                         14:35:53\n",
       "Box-Cox Coeff.:                  None                                         \n",
       "==============================================================================\n",
       "                       coeff                 code              optimized      \n",
       "------------------------------------------------------------------------------\n",
       "smoothing_level            0.9808445                alpha                 True\n",
       "initial_level              76.525895                  l.0                 True\n",
       "------------------------------------------------------------------------------\n",
       "\"\"\""
      ]
     },
     "execution_count": 13,
     "metadata": {},
     "output_type": "execute_result"
    }
   ],
   "source": [
    "fitSESauto.summary()"
   ]
  },
  {
   "cell_type": "code",
   "execution_count": 14,
   "metadata": {
    "ExecuteTime": {
     "end_time": "2020-05-31T04:31:18.413959Z",
     "start_time": "2020-05-31T04:31:18.406980Z"
    }
   },
   "outputs": [],
   "source": [
    "\n",
    "df_fcst_gs_pred = pd.DataFrame(fcst_gs_pred, columns=['Close_grid_Search'])\n",
    "df_fcst_gs_pred[\"new_index\"] = range(1229    , 1259)\n",
    "df_fcst_gs_pred = df_fcst_gs_pred.set_index(\"new_index\")\n"
   ]
  },
  {
   "cell_type": "code",
   "execution_count": 15,
   "metadata": {
    "ExecuteTime": {
     "end_time": "2020-05-31T04:31:20.144331Z",
     "start_time": "2020-05-31T04:31:20.136355Z"
    }
   },
   "outputs": [],
   "source": [
    "df_fcst_auto_pred = pd.DataFrame(fcst_auto_pred, columns=['Close_auto_search'])\n",
    "df_fcst_auto_pred[\"new_index\"] = range(1229    , 1259)\n",
    "df_fcst_auto_pred = df_fcst_auto_pred.set_index(\"new_index\")"
   ]
  },
  {
   "cell_type": "code",
   "execution_count": 16,
   "metadata": {
    "ExecuteTime": {
     "end_time": "2020-05-31T04:31:22.863059Z",
     "start_time": "2020-05-31T04:31:22.137003Z"
    }
   },
   "outputs": [
    {
     "data": {
      "image/png": "[encoded data removed]",
      "text/plain": [
       "<Figure size 1152x648 with 1 Axes>"
      ]
     },
     "metadata": {
      "needs_background": "light"
     },
     "output_type": "display_data"
    }
   ],
   "source": [
    "import matplotlib.pyplot as plt\n",
    "%matplotlib inline\n",
    "plt.rcParams[\"figure.figsize\"] = [16,9]\n",
    "plt.plot( train, label='Train')\n",
    "plt.plot(test, label='Test')\n",
    "plt.plot(df_fcst_auto_pred, label='Simple Exponential Smoothing using optimized =True')\n",
    "plt.plot(df_fcst_gs_pred, label='Simple Exponential Smoothing using custom grid search')\n",
    "plt.legend(loc='best')\n",
    "plt.show()"
   ]
  },
  {
   "cell_type": "code",
   "execution_count": null,
   "metadata": {},
   "outputs": [],
   "source": []
  },
  {
   "cell_type": "code",
   "execution_count": null,
   "metadata": {},
   "outputs": [],
   "source": []
  },
  {
   "cell_type": "code",
   "execution_count": null,
   "metadata": {},
   "outputs": [],
   "source": []
  },
  {
   "cell_type": "code",
   "execution_count": null,
   "metadata": {},
   "outputs": [],
   "source": []
  },
  {
   "cell_type": "code",
   "execution_count": null,
   "metadata": {},
   "outputs": [],
   "source": []
  }
 ],
 "metadata": {
  "kernelspec": {
   "display_name": "jobs",
   "language": "python",
   "name": "jobs"
  },
  "language_info": {
   "codemirror_mode": {
    "name": "ipython",
    "version": 3
   },
   "file_extension": ".py",
   "mimetype": "text/x-python",
   "name": "python",
   "nbconvert_exporter": "python",
   "pygments_lexer": "ipython3",
   "version": "3.8.3"
  },
  "latex_envs": {
   "LaTeX_envs_menu_present": true,
   "autoclose": false,
   "autocomplete": true,
   "bibliofile": "biblio.bib",
   "cite_by": "apalike",
   "current_citInitial": 1,
   "eqLabelWithNumbers": true,
   "eqNumInitial": 1,
   "hotkeys": {
    "equation": "Ctrl-E",
    "itemize": "Ctrl-I"
   },
   "labels_anchors": false,
   "latex_user_defs": false,
   "report_style_numbering": false,
   "user_envs_cfg": false
  },
  "nbTranslate": {
   "displayLangs": [
    "*"
   ],
   "hotkey": "alt-t",
   "langInMainMenu": true,
   "sourceLang": "en",
   "targetLang": "fr",
   "useGoogleTranslate": true
  }
 },
 "nbformat": 4,
 "nbformat_minor": 4
}
