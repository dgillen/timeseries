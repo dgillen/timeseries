{
 "cells": [
  {
   "cell_type": "markdown",
   "metadata": {
    "id": "ydgnKxecGKax"
   },
   "source": [
    "# Timeseries classification from scratch\n",
    "\n",
    "**Author:** [hfawaz](https://github.com/hfawaz/)<br>\n",
    "**Date created:** 2020/07/21<br>\n",
    "**Last modified:** 2020/08/21<br>\n",
    "**Description:** Training a timeseries classifier from scratch on the FordA dataset from the UCR/UEA archive."
   ]
  },
  {
   "cell_type": "markdown",
   "metadata": {
    "id": "T9BrPKMVGKaz"
   },
   "source": [
    "## Introduction\n",
    "\n",
    "This example shows how to do timeseries classification from scratch, starting from raw\n",
    "CSV timeseries files on disk. We demonstrate the workflow on the FordA dataset from the\n",
    "[UCR/UEA archive](https://www.cs.ucr.edu/%7Eeamonn/time_series_data_2018/)."
   ]
  },
  {
   "cell_type": "markdown",
   "metadata": {
    "id": "k8Tnn9hMGKa0"
   },
   "source": [
    "## Setup"
   ]
  },
  {
   "cell_type": "code",
   "execution_count": 5,
   "metadata": {
    "id": "2-xbj1KmGKa0"
   },
   "outputs": [],
   "source": [
    "from tensorflow import keras\n",
    "import numpy as np\n",
    "import matplotlib.pyplot as plt\n",
    "from sktime.classification.interval_based import TimeSeriesForestClassifier\n",
    "from sklearn.metrics import accuracy_score\n",
    "from numpy.random import default_rng\n",
    "\n",
    "from sktime.utils.data_processing import (\n",
    "    from_2d_array_to_nested,\n",
    "    from_nested_to_2d_array,\n",
    "    is_nested_dataframe,\n",
    ")\n"
   ]
  },
  {
   "cell_type": "markdown",
   "metadata": {
    "id": "PUSf6tUBGKa1"
   },
   "source": [
    "## Load the data: the FordA dataset\n",
    "\n",
    "### Dataset description\n",
    "\n",
    "The dataset we are using here is called FordA.\n",
    "The data comes from the UCR archive.\n",
    "The dataset contains 3601 training instances and another 1320 testing instances.\n",
    "Each timeseries corresponds to a measurement of engine noise captured by a motor sensor.\n",
    "For this task, the goal is to automatically detect the presence of a specific issue with\n",
    "the engine. The problem is a balanced binary classification task. The full description of\n",
    "this dataset can be found [here](http://www.j-wichard.de/publications/FordPaper.pdf).\n",
    "\n",
    "### Read the TSV data\n",
    "\n",
    "We will use the `FordA_TRAIN` file for training and the\n",
    "`FordA_TEST` file for testing. The simplicity of this dataset\n",
    "allows us to demonstrate effectively how to use ConvNets for timeseries classification.\n",
    "In this file, the first column corresponds to the label."
   ]
  },
  {
   "cell_type": "code",
   "execution_count": 11,
   "metadata": {
    "id": "MwhtVA9TGKa1"
   },
   "outputs": [],
   "source": [
    "def readucr(filename):\n",
    "    data = np.loadtxt(filename, delimiter=\"\\t\")\n",
    "    y = data[:, 0]\n",
    "    x = data[:, 1:]\n",
    "    return x, y.astype(int)\n",
    "\n",
    "x_train, y_train = readucr(\"../../data/FordA_TRAIN.tsv\")\n",
    "x_test, y_test = readucr(\"../../data/FordA_TEST.tsv\")"
   ]
  },
  {
   "cell_type": "code",
   "execution_count": 10,
   "metadata": {},
   "outputs": [
    {
     "name": "stdout",
     "output_type": "stream",
     "text": [
      "(3601, 500)\n",
      "(3601,)\n"
     ]
    }
   ],
   "source": [
    "print(x_train.shape)\n",
    "print(y_train.shape)"
   ]
  },
  {
   "cell_type": "code",
   "execution_count": 6,
   "metadata": {},
   "outputs": [
    {
     "name": "stdout",
     "output_type": "stream",
     "text": [
      "The nested Training DataFrame has shape (3601, 1)\n",
      "The nested Test DataFrame has shape (1320, 1)\n"
     ]
    },
    {
     "data": {
      "text/html": [
       "<div>\n",
       "<style scoped>\n",
       "    .dataframe tbody tr th:only-of-type {\n",
       "        vertical-align: middle;\n",
       "    }\n",
       "\n",
       "    .dataframe tbody tr th {\n",
       "        vertical-align: top;\n",
       "    }\n",
       "\n",
       "    .dataframe thead th {\n",
       "        text-align: right;\n",
       "    }\n",
       "</style>\n",
       "<table border=\"1\" class=\"dataframe\">\n",
       "  <thead>\n",
       "    <tr style=\"text-align: right;\">\n",
       "      <th></th>\n",
       "      <th>0</th>\n",
       "    </tr>\n",
       "  </thead>\n",
       "  <tbody>\n",
       "    <tr>\n",
       "      <th>0</th>\n",
       "      <td>0     -0.797172\n",
       "1     -0.664392\n",
       "2     -0.37301...</td>\n",
       "    </tr>\n",
       "    <tr>\n",
       "      <th>1</th>\n",
       "      <td>0      0.804855\n",
       "1      0.634629\n",
       "2      0.37347...</td>\n",
       "    </tr>\n",
       "    <tr>\n",
       "      <th>2</th>\n",
       "      <td>0      0.727985\n",
       "1      0.111284\n",
       "2     -0.49912...</td>\n",
       "    </tr>\n",
       "    <tr>\n",
       "      <th>3</th>\n",
       "      <td>0     -0.234439\n",
       "1     -0.502157\n",
       "2     -0.73248...</td>\n",
       "    </tr>\n",
       "    <tr>\n",
       "      <th>4</th>\n",
       "      <td>0     -0.171328\n",
       "1     -0.062285\n",
       "2      0.23582...</td>\n",
       "    </tr>\n",
       "  </tbody>\n",
       "</table>\n",
       "</div>"
      ],
      "text/plain": [
       "                                                   0\n",
       "0  0     -0.797172\n",
       "1     -0.664392\n",
       "2     -0.37301...\n",
       "1  0      0.804855\n",
       "1      0.634629\n",
       "2      0.37347...\n",
       "2  0      0.727985\n",
       "1      0.111284\n",
       "2     -0.49912...\n",
       "3  0     -0.234439\n",
       "1     -0.502157\n",
       "2     -0.73248...\n",
       "4  0     -0.171328\n",
       "1     -0.062285\n",
       "2      0.23582..."
      ]
     },
     "execution_count": 6,
     "metadata": {},
     "output_type": "execute_result"
    }
   ],
   "source": [
    "x_train_nested = from_2d_array_to_nested(x_train)\n",
    "x_test_nested = from_2d_array_to_nested(x_test)\n",
    "print(f\"The nested Training DataFrame has shape {x_train_nested.shape}\")\n",
    "print(f\"The nested Test DataFrame has shape {x_test_nested.shape}\")\n",
    "x_train_nested.head()"
   ]
  },
  {
   "cell_type": "code",
   "execution_count": 7,
   "metadata": {},
   "outputs": [
    {
     "name": "stdout",
     "output_type": "stream",
     "text": [
      "0.8143939393939394\n",
      "CPU times: user 2min 53s, sys: 78 ms, total: 2min 53s\n",
      "Wall time: 2min 53s\n"
     ]
    }
   ],
   "source": [
    "%%time\n",
    "from sktime.classification.interval_based import TimeSeriesForestClassifier\n",
    "from sklearn.metrics import accuracy_score\n",
    "\n",
    "classifier = TimeSeriesForestClassifier()\n",
    "classifier.fit(x_train_nested, y_train)\n",
    "y_pred = classifier.predict(x_test_nested)\n",
    "print(accuracy_score(y_test, y_pred))"
   ]
  },
  {
   "cell_type": "code",
   "execution_count": 4,
   "metadata": {},
   "outputs": [
    {
     "name": "stdout",
     "output_type": "stream",
     "text": [
      "The tabular data has the shape (50, 20)\n"
     ]
    }
   ],
   "source": [
    "\n",
    "rng = default_rng()\n",
    "X_2d = rng.standard_normal((50, 20))\n",
    "print(f\"The tabular data has the shape {X_2d.shape}\")"
   ]
  },
  {
   "cell_type": "code",
   "execution_count": 5,
   "metadata": {},
   "outputs": [
    {
     "name": "stdout",
     "output_type": "stream",
     "text": [
      "X_nested is a nested DataFrame: True\n",
      "The cell contains a <class 'pandas.core.series.Series'>.\n",
      "The nested DataFrame has shape (50, 1)\n"
     ]
    },
    {
     "data": {
      "text/html": [
       "<div>\n",
       "<style scoped>\n",
       "    .dataframe tbody tr th:only-of-type {\n",
       "        vertical-align: middle;\n",
       "    }\n",
       "\n",
       "    .dataframe tbody tr th {\n",
       "        vertical-align: top;\n",
       "    }\n",
       "\n",
       "    .dataframe thead th {\n",
       "        text-align: right;\n",
       "    }\n",
       "</style>\n",
       "<table border=\"1\" class=\"dataframe\">\n",
       "  <thead>\n",
       "    <tr style=\"text-align: right;\">\n",
       "      <th></th>\n",
       "      <th>0</th>\n",
       "    </tr>\n",
       "  </thead>\n",
       "  <tbody>\n",
       "    <tr>\n",
       "      <th>0</th>\n",
       "      <td>0    -0.661256\n",
       "1    -2.101877\n",
       "2    -0.108517\n",
       "3...</td>\n",
       "    </tr>\n",
       "    <tr>\n",
       "      <th>1</th>\n",
       "      <td>0    -0.899787\n",
       "1    -0.475200\n",
       "2     1.214503\n",
       "3...</td>\n",
       "    </tr>\n",
       "    <tr>\n",
       "      <th>2</th>\n",
       "      <td>0     0.650326\n",
       "1    -0.618905\n",
       "2     0.067941\n",
       "3...</td>\n",
       "    </tr>\n",
       "    <tr>\n",
       "      <th>3</th>\n",
       "      <td>0     1.075738\n",
       "1    -0.350072\n",
       "2     0.277968\n",
       "3...</td>\n",
       "    </tr>\n",
       "    <tr>\n",
       "      <th>4</th>\n",
       "      <td>0    -0.136752\n",
       "1    -1.327729\n",
       "2    -1.628123\n",
       "3...</td>\n",
       "    </tr>\n",
       "  </tbody>\n",
       "</table>\n",
       "</div>"
      ],
      "text/plain": [
       "                                                   0\n",
       "0  0    -0.661256\n",
       "1    -2.101877\n",
       "2    -0.108517\n",
       "3...\n",
       "1  0    -0.899787\n",
       "1    -0.475200\n",
       "2     1.214503\n",
       "3...\n",
       "2  0     0.650326\n",
       "1    -0.618905\n",
       "2     0.067941\n",
       "3...\n",
       "3  0     1.075738\n",
       "1    -0.350072\n",
       "2     0.277968\n",
       "3...\n",
       "4  0    -0.136752\n",
       "1    -1.327729\n",
       "2    -1.628123\n",
       "3..."
      ]
     },
     "execution_count": 5,
     "metadata": {},
     "output_type": "execute_result"
    }
   ],
   "source": [
    "\n",
    "X_nested = from_2d_array_to_nested(X_2d)\n",
    "print(f\"X_nested is a nested DataFrame: {is_nested_dataframe(X_nested)}\")\n",
    "print(f\"The cell contains a {type(X_nested.iloc[0,0])}.\")\n",
    "print(f\"The nested DataFrame has shape {X_nested.shape}\")\n",
    "X_nested.head()"
   ]
  },
  {
   "cell_type": "markdown",
   "metadata": {
    "id": "p27r8QJXGKa1"
   },
   "source": [
    "## Visualize the data\n",
    "\n",
    "Here we visualize one timeseries example for each class in the dataset."
   ]
  },
  {
   "cell_type": "code",
   "execution_count": 5,
   "metadata": {
    "id": "ComZOoTaGKa2"
   },
   "outputs": [
    {
     "data": {
      "image/png": "[encoded data removed]",
      "text/plain": [
       "<Figure size 432x288 with 1 Axes>"
      ]
     },
     "metadata": {
      "needs_background": "light"
     },
     "output_type": "display_data"
    }
   ],
   "source": [
    "classes = np.unique(np.concatenate((y_train, y_test), axis=0))\n",
    "\n",
    "plt.figure()\n",
    "for c in classes:\n",
    "    c_x_train = x_train[y_train == c]\n",
    "    plt.plot(c_x_train[0], label=\"class \" + str(c))\n",
    "plt.legend(loc=\"best\")\n",
    "plt.show()\n",
    "plt.close()"
   ]
  },
  {
   "cell_type": "markdown",
   "metadata": {
    "id": "rXZrmYV_GKa2"
   },
   "source": [
    "## Standardize the data\n",
    "\n",
    "Our timeseries are already in a single length (176). However, their values are\n",
    "usually in various ranges. This is not ideal for a neural network;\n",
    "in general we should seek to make the input values normalized.\n",
    "For this specific dataset, the data is already z-normalized: each timeseries sample\n",
    "has a mean equal to zero and a standard deviation equal to one. This type of\n",
    "normalization is very common for timeseries classification problems, see\n",
    "[Bagnall et al. (2016)](https://link.springer.com/article/10.1007/s10618-016-0483-9).\n",
    "\n",
    "Note that the timeseries data used here are univariate, meaning we only have one channel\n",
    "per timeseries example.\n",
    "We will therefore transform the timeseries into a multivariate one with one channel\n",
    "using a simple reshaping via numpy.\n",
    "This will allow us to construct a model that is easily applicable to multivariate time\n",
    "series."
   ]
  },
  {
   "cell_type": "code",
   "execution_count": 6,
   "metadata": {
    "id": "h-rx8OYfGKa2"
   },
   "outputs": [],
   "source": [
    "x_train = x_train.reshape((x_train.shape[0], x_train.shape[1], 1))\n",
    "x_test = x_test.reshape((x_test.shape[0], x_test.shape[1], 1))"
   ]
  },
  {
   "cell_type": "markdown",
   "metadata": {
    "id": "6fjGLys2GKa3"
   },
   "source": [
    "Finally, in order to use `sparse_categorical_crossentropy`, we will have to count\n",
    "the number of classes beforehand."
   ]
  },
  {
   "cell_type": "code",
   "execution_count": 7,
   "metadata": {
    "id": "_AfC_t6SGKa3"
   },
   "outputs": [],
   "source": [
    "num_classes = len(np.unique(y_train))"
   ]
  },
  {
   "cell_type": "markdown",
   "metadata": {
    "id": "BUYCdXJ2GKa3"
   },
   "source": [
    "Now we shuffle the training set because we will be using the `validation_split` option\n",
    "later when training."
   ]
  },
  {
   "cell_type": "code",
   "execution_count": 8,
   "metadata": {
    "id": "na90S74MGKa3"
   },
   "outputs": [],
   "source": [
    "idx = np.random.permutation(len(x_train))\n",
    "x_train = x_train[idx]\n",
    "y_train = y_train[idx]"
   ]
  },
  {
   "cell_type": "markdown",
   "metadata": {
    "id": "KHhOF36RGKa4"
   },
   "source": [
    "Standardize the labels to positive integers.\n",
    "The expected labels will then be 0 and 1."
   ]
  },
  {
   "cell_type": "code",
   "execution_count": 9,
   "metadata": {
    "id": "rQ7OmNIbGKa4"
   },
   "outputs": [],
   "source": [
    "y_train[y_train == -1] = 0\n",
    "y_test[y_test == -1] = 0"
   ]
  },
  {
   "cell_type": "markdown",
   "metadata": {
    "id": "aJEcMMmUGKa4"
   },
   "source": [
    "## Build a model\n",
    "\n",
    "We build a Fully Convolutional Neural Network originally proposed in\n",
    "[this paper](https://arxiv.org/abs/1611.06455).\n",
    "The implementation is based on the TF 2 version provided\n",
    "[here](https://github.com/hfawaz/dl-4-tsc/).\n",
    "The following hyperparameters (kernel_size, filters, the usage of BatchNorm) were found\n",
    "via random search using [KerasTuner](https://github.com/keras-team/keras-tuner)."
   ]
  },
  {
   "cell_type": "code",
   "execution_count": 10,
   "metadata": {
    "id": "wN0yCm0HGKa4"
   },
   "outputs": [
    {
     "name": "stdout",
     "output_type": "stream",
     "text": [
      "Model: \"model\"\n",
      "_________________________________________________________________\n",
      "Layer (type)                 Output Shape              Param #   \n",
      "=================================================================\n",
      "input_1 (InputLayer)         [(None, 500, 1)]          0         \n",
      "_________________________________________________________________\n",
      "conv1d (Conv1D)              (None, 500, 64)           256       \n",
      "_________________________________________________________________\n",
      "batch_normalization (BatchNo (None, 500, 64)           256       \n",
      "_________________________________________________________________\n",
      "re_lu (ReLU)                 (None, 500, 64)           0         \n",
      "_________________________________________________________________\n",
      "conv1d_1 (Conv1D)            (None, 500, 64)           12352     \n",
      "_________________________________________________________________\n",
      "batch_normalization_1 (Batch (None, 500, 64)           256       \n",
      "_________________________________________________________________\n",
      "re_lu_1 (ReLU)               (None, 500, 64)           0         \n",
      "_________________________________________________________________\n",
      "conv1d_2 (Conv1D)            (None, 500, 64)           12352     \n",
      "_________________________________________________________________\n",
      "batch_normalization_2 (Batch (None, 500, 64)           256       \n",
      "_________________________________________________________________\n",
      "re_lu_2 (ReLU)               (None, 500, 64)           0         \n",
      "_________________________________________________________________\n",
      "global_average_pooling1d (Gl (None, 64)                0         \n",
      "_________________________________________________________________\n",
      "dense (Dense)                (None, 2)                 130       \n",
      "=================================================================\n",
      "Total params: 25,858\n",
      "Trainable params: 25,474\n",
      "Non-trainable params: 384\n",
      "_________________________________________________________________\n"
     ]
    }
   ],
   "source": [
    "\n",
    "def make_model(input_shape):\n",
    "    input_layer = keras.layers.Input(input_shape)\n",
    "\n",
    "    conv1 = keras.layers.Conv1D(filters=64, kernel_size=3, padding=\"same\")(input_layer)\n",
    "    conv1 = keras.layers.BatchNormalization()(conv1)\n",
    "    conv1 = keras.layers.ReLU()(conv1)\n",
    "\n",
    "    conv2 = keras.layers.Conv1D(filters=64, kernel_size=3, padding=\"same\")(conv1)\n",
    "    conv2 = keras.layers.BatchNormalization()(conv2)\n",
    "    conv2 = keras.layers.ReLU()(conv2)\n",
    "\n",
    "    conv3 = keras.layers.Conv1D(filters=64, kernel_size=3, padding=\"same\")(conv2)\n",
    "    conv3 = keras.layers.BatchNormalization()(conv3)\n",
    "    conv3 = keras.layers.ReLU()(conv3)\n",
    "\n",
    "    gap = keras.layers.GlobalAveragePooling1D()(conv3)\n",
    "\n",
    "    output_layer = keras.layers.Dense(num_classes, activation=\"softmax\")(gap)\n",
    "\n",
    "    return keras.models.Model(inputs=input_layer, outputs=output_layer)\n",
    "\n",
    "\n",
    "model = make_model(input_shape=x_train.shape[1:])\n",
    "#keras.utils.plot_model(model, show_shapes=True)\n",
    "model.summary()"
   ]
  },
  {
   "cell_type": "markdown",
   "metadata": {
    "id": "TXI30C_hGKa7"
   },
   "source": [
    "## Train the model"
   ]
  },
  {
   "cell_type": "code",
   "execution_count": 11,
   "metadata": {
    "id": "WY-TcbYSGKa7"
   },
   "outputs": [
    {
     "name": "stdout",
     "output_type": "stream",
     "text": [
      "Epoch 1/20\n",
      "90/90 [==============================] - 5s 49ms/step - loss: 0.6027 - sparse_categorical_accuracy: 0.6471 - val_loss: 0.8411 - val_sparse_categorical_accuracy: 0.5062\n",
      "Epoch 2/20\n",
      "90/90 [==============================] - 4s 46ms/step - loss: 0.4887 - sparse_categorical_accuracy: 0.7756 - val_loss: 0.9008 - val_sparse_categorical_accuracy: 0.5062\n",
      "Epoch 3/20\n",
      "90/90 [==============================] - 4s 45ms/step - loss: 0.4583 - sparse_categorical_accuracy: 0.7756 - val_loss: 0.8027 - val_sparse_categorical_accuracy: 0.5062\n",
      "Epoch 4/20\n",
      "90/90 [==============================] - 4s 46ms/step - loss: 0.4254 - sparse_categorical_accuracy: 0.7846 - val_loss: 0.7189 - val_sparse_categorical_accuracy: 0.5187\n",
      "Epoch 5/20\n",
      "90/90 [==============================] - 4s 46ms/step - loss: 0.4304 - sparse_categorical_accuracy: 0.7950 - val_loss: 0.5531 - val_sparse_categorical_accuracy: 0.6630\n",
      "Epoch 6/20\n",
      "90/90 [==============================] - 4s 47ms/step - loss: 0.4038 - sparse_categorical_accuracy: 0.7951 - val_loss: 0.8127 - val_sparse_categorical_accuracy: 0.5173\n",
      "Epoch 7/20\n",
      "90/90 [==============================] - 4s 45ms/step - loss: 0.4138 - sparse_categorical_accuracy: 0.7940 - val_loss: 0.5328 - val_sparse_categorical_accuracy: 0.6879\n",
      "Epoch 8/20\n",
      "90/90 [==============================] - 4s 45ms/step - loss: 0.4127 - sparse_categorical_accuracy: 0.7957 - val_loss: 0.3786 - val_sparse_categorical_accuracy: 0.7725\n",
      "Epoch 9/20\n",
      "90/90 [==============================] - 4s 46ms/step - loss: 0.3921 - sparse_categorical_accuracy: 0.8020 - val_loss: 0.3680 - val_sparse_categorical_accuracy: 0.8419\n",
      "Epoch 10/20\n",
      "90/90 [==============================] - 4s 45ms/step - loss: 0.3749 - sparse_categorical_accuracy: 0.8240 - val_loss: 0.3361 - val_sparse_categorical_accuracy: 0.8474\n",
      "Epoch 11/20\n",
      "90/90 [==============================] - 4s 45ms/step - loss: 0.3878 - sparse_categorical_accuracy: 0.8144 - val_loss: 0.3370 - val_sparse_categorical_accuracy: 0.8488\n",
      "Epoch 12/20\n",
      "90/90 [==============================] - 4s 45ms/step - loss: 0.3781 - sparse_categorical_accuracy: 0.8111 - val_loss: 0.3686 - val_sparse_categorical_accuracy: 0.7906\n",
      "Epoch 13/20\n",
      "90/90 [==============================] - 4s 45ms/step - loss: 0.3607 - sparse_categorical_accuracy: 0.8337 - val_loss: 0.4008 - val_sparse_categorical_accuracy: 0.8031\n",
      "Epoch 14/20\n",
      "90/90 [==============================] - 4s 46ms/step - loss: 0.3348 - sparse_categorical_accuracy: 0.8476 - val_loss: 0.3138 - val_sparse_categorical_accuracy: 0.8669\n",
      "Epoch 15/20\n",
      "90/90 [==============================] - 4s 46ms/step - loss: 0.3401 - sparse_categorical_accuracy: 0.8395 - val_loss: 0.5932 - val_sparse_categorical_accuracy: 0.7448\n",
      "Epoch 16/20\n",
      "90/90 [==============================] - 4s 46ms/step - loss: 0.3306 - sparse_categorical_accuracy: 0.8545 - val_loss: 0.3602 - val_sparse_categorical_accuracy: 0.8266\n",
      "Epoch 17/20\n",
      "90/90 [==============================] - 4s 46ms/step - loss: 0.3284 - sparse_categorical_accuracy: 0.8532 - val_loss: 0.3996 - val_sparse_categorical_accuracy: 0.7920\n",
      "Epoch 18/20\n",
      "90/90 [==============================] - 4s 47ms/step - loss: 0.3066 - sparse_categorical_accuracy: 0.8696 - val_loss: 0.3323 - val_sparse_categorical_accuracy: 0.8558\n",
      "Epoch 19/20\n",
      "90/90 [==============================] - 5s 51ms/step - loss: 0.3304 - sparse_categorical_accuracy: 0.8507 - val_loss: 0.2823 - val_sparse_categorical_accuracy: 0.8946\n",
      "Epoch 20/20\n",
      "90/90 [==============================] - 4s 47ms/step - loss: 0.3332 - sparse_categorical_accuracy: 0.8518 - val_loss: 0.4751 - val_sparse_categorical_accuracy: 0.7503\n"
     ]
    }
   ],
   "source": [
    "epochs = 20\n",
    "batch_size = 32\n",
    "\n",
    "callbacks = [\n",
    "    keras.callbacks.ModelCheckpoint(\n",
    "        \"best_model.h5\", save_best_only=True, monitor=\"val_loss\"\n",
    "    ),\n",
    "    keras.callbacks.ReduceLROnPlateau(\n",
    "        monitor=\"val_loss\", factor=0.5, patience=20, min_lr=0.0001\n",
    "    ),\n",
    "    keras.callbacks.EarlyStopping(monitor=\"val_loss\", patience=50, verbose=1),\n",
    "]\n",
    "model.compile(\n",
    "    optimizer=\"adam\",\n",
    "    loss=\"sparse_categorical_crossentropy\",\n",
    "    metrics=[\"sparse_categorical_accuracy\"],\n",
    ")\n",
    "history = model.fit(\n",
    "    x_train,\n",
    "    y_train,\n",
    "    batch_size=batch_size,\n",
    "    epochs=epochs,\n",
    "    callbacks=callbacks,\n",
    "    validation_split=0.2,\n",
    "    verbose=1,\n",
    ")"
   ]
  },
  {
   "cell_type": "markdown",
   "metadata": {
    "id": "5iTnbTdwGKa7"
   },
   "source": [
    "## Evaluate model on test data"
   ]
  },
  {
   "cell_type": "code",
   "execution_count": 12,
   "metadata": {
    "id": "MwPbBOVeGKa7"
   },
   "outputs": [
    {
     "name": "stdout",
     "output_type": "stream",
     "text": [
      "42/42 [==============================] - 1s 10ms/step - loss: 0.2882 - sparse_categorical_accuracy: 0.8932\n",
      "Test accuracy 0.8931818008422852\n",
      "Test loss 0.28823044896125793\n"
     ]
    }
   ],
   "source": [
    "model = keras.models.load_model(\"best_model.h5\")\n",
    "\n",
    "test_loss, test_acc = model.evaluate(x_test, y_test)\n",
    "\n",
    "print(\"Test accuracy\", test_acc)\n",
    "print(\"Test loss\", test_loss)"
   ]
  },
  {
   "cell_type": "markdown",
   "metadata": {
    "id": "-0fH8rjIGKa8"
   },
   "source": [
    "## Plot the model's training and validation loss"
   ]
  },
  {
   "cell_type": "code",
   "execution_count": 13,
   "metadata": {
    "id": "rjwl7R95GKa8"
   },
   "outputs": [
    {
     "data": {
      "image/png": "[encoded data removed]",
      "text/plain": [
       "<Figure size 432x288 with 1 Axes>"
      ]
     },
     "metadata": {
      "needs_background": "light"
     },
     "output_type": "display_data"
    }
   ],
   "source": [
    "metric = \"sparse_categorical_accuracy\"\n",
    "plt.figure()\n",
    "plt.plot(history.history[metric])\n",
    "plt.plot(history.history[\"val_\" + metric])\n",
    "plt.title(\"model \" + metric)\n",
    "plt.ylabel(metric, fontsize=\"large\")\n",
    "plt.xlabel(\"epoch\", fontsize=\"large\")\n",
    "plt.legend([\"train\", \"val\"], loc=\"best\")\n",
    "plt.show()\n",
    "plt.close()"
   ]
  },
  {
   "cell_type": "markdown",
   "metadata": {
    "id": "S0WLAWFLGKa8"
   },
   "source": [
    "We can see how the training accuracy reaches almost 0.95 after 100 epochs.\n",
    "However, by observing the validation accuracy we can see how the network still needs\n",
    "training until it reaches almost 0.97 for both the validation and the training accuracy\n",
    "after 200 epochs. Beyond the 200th epoch, if we continue on training, the validation\n",
    "accuracy will start decreasing while the training accuracy will continue on increasing:\n",
    "the model starts overfitting."
   ]
  }
 ],
 "metadata": {
  "colab": {
   "collapsed_sections": [],
   "name": "timeseries_classification_from_scratch",
   "provenance": [],
   "toc_visible": true
  },
  "kernelspec": {
   "display_name": "sktime",
   "language": "python",
   "name": "sktime"
  },
  "language_info": {
   "codemirror_mode": {
    "name": "ipython",
    "version": 3
   },
   "file_extension": ".py",
   "mimetype": "text/x-python",
   "name": "python",
   "nbconvert_exporter": "python",
   "pygments_lexer": "ipython3",
   "version": "3.8.8"
  }
 },
 "nbformat": 4,
 "nbformat_minor": 4
}
