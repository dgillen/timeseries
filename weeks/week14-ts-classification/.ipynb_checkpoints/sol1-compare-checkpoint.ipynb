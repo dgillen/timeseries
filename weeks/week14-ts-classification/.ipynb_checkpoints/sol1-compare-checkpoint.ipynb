{
 "cells": [
  {
   "cell_type": "markdown",
   "metadata": {
    "id": "T9BrPKMVGKaz"
   },
   "source": [
    "# Homework\n",
    "\n",
    "This example shows how to do timeseries classification from scratch, starting from raw\n",
    "CSV timeseries files on disk. We demonstrate the workflow on the FordA dataset from the\n",
    "[UCR/UEA archive](https://www.cs.ucr.edu/%7Eeamonn/time_series_data_2018/)."
   ]
  },
  {
   "cell_type": "markdown",
   "metadata": {
    "id": "k8Tnn9hMGKa0"
   },
   "source": [
    "## Setup"
   ]
  },
  {
   "cell_type": "code",
   "execution_count": 1,
   "metadata": {
    "id": "2-xbj1KmGKa0"
   },
   "outputs": [],
   "source": [
    "from tensorflow import keras\n",
    "import numpy as np\n",
    "import matplotlib.pyplot as plt\n",
    "from sktime.classification.interval_based import TimeSeriesForestClassifier\n",
    "from sklearn.metrics import accuracy_score\n",
    "from numpy.random import default_rng\n",
    "\n",
    "from sktime.utils.data_processing import (\n",
    "    from_2d_array_to_nested,\n",
    "    from_nested_to_2d_array,\n",
    "    is_nested_dataframe,\n",
    ")"
   ]
  },
  {
   "cell_type": "markdown",
   "metadata": {
    "id": "PUSf6tUBGKa1"
   },
   "source": [
    "## Load the data: the FordA dataset\n",
    "\n",
    "### Read the TSV data\n",
    "\n",
    "We will use the `FordA_TRAIN` file for training and the\n",
    "`FordA_TEST` file for testing. The simplicity of this dataset\n",
    "allows us to demonstrate effectively how to use ConvNets for timeseries classification.\n",
    "In this file, the first column corresponds to the label."
   ]
  },
  {
   "cell_type": "code",
   "execution_count": 2,
   "metadata": {
    "id": "MwhtVA9TGKa1"
   },
   "outputs": [],
   "source": [
    "def readucr(filename):\n",
    "    data = np.loadtxt(filename, delimiter=\"\\t\")\n",
    "    y = data[:, 0]\n",
    "    x = data[:, 1:]\n",
    "    return x, y.astype(int)\n",
    "\n",
    "x_train, y_train = readucr(\"../../data/FordA_TRAIN.tsv\")\n",
    "x_test, y_test = readucr(\"../../data/FordA_TEST.tsv\")"
   ]
  },
  {
   "cell_type": "markdown",
   "metadata": {},
   "source": [
    "# Problem 1: `Sktime Time Series Data Formatting`\n",
    "Re-read [Sktime's good documentation](https://www.sktime.org/en/latest/examples/loading_data.html) of data formats, with special attention to the [section on tablular data](https://www.sktime.org/en/latest/examples/loading_data.html#Using-tabular-data-with-sktime)\n",
    "\n",
    "* Convert `x_train` & `x_test` to their nested/sktime representation & name them `x_train_nested` & `x_test_nested`\n",
    "* Print the head of the `x_train_nested` DF\n"
   ]
  },
  {
   "cell_type": "code",
   "execution_count": 3,
   "metadata": {},
   "outputs": [
    {
     "name": "stdout",
     "output_type": "stream",
     "text": [
      "The nested Training DataFrame has shape (3601, 1)\n",
      "The nested Test DataFrame has shape (1320, 1)\n"
     ]
    },
    {
     "data": {
      "text/html": [
       "<div>\n",
       "<style scoped>\n",
       "    .dataframe tbody tr th:only-of-type {\n",
       "        vertical-align: middle;\n",
       "    }\n",
       "\n",
       "    .dataframe tbody tr th {\n",
       "        vertical-align: top;\n",
       "    }\n",
       "\n",
       "    .dataframe thead th {\n",
       "        text-align: right;\n",
       "    }\n",
       "</style>\n",
       "<table border=\"1\" class=\"dataframe\">\n",
       "  <thead>\n",
       "    <tr style=\"text-align: right;\">\n",
       "      <th></th>\n",
       "      <th>0</th>\n",
       "    </tr>\n",
       "  </thead>\n",
       "  <tbody>\n",
       "    <tr>\n",
       "      <th>0</th>\n",
       "      <td>0     -0.797172\n",
       "1     -0.664392\n",
       "2     -0.37301...</td>\n",
       "    </tr>\n",
       "    <tr>\n",
       "      <th>1</th>\n",
       "      <td>0      0.804855\n",
       "1      0.634629\n",
       "2      0.37347...</td>\n",
       "    </tr>\n",
       "    <tr>\n",
       "      <th>2</th>\n",
       "      <td>0      0.727985\n",
       "1      0.111284\n",
       "2     -0.49912...</td>\n",
       "    </tr>\n",
       "    <tr>\n",
       "      <th>3</th>\n",
       "      <td>0     -0.234439\n",
       "1     -0.502157\n",
       "2     -0.73248...</td>\n",
       "    </tr>\n",
       "    <tr>\n",
       "      <th>4</th>\n",
       "      <td>0     -0.171328\n",
       "1     -0.062285\n",
       "2      0.23582...</td>\n",
       "    </tr>\n",
       "  </tbody>\n",
       "</table>\n",
       "</div>"
      ],
      "text/plain": [
       "                                                   0\n",
       "0  0     -0.797172\n",
       "1     -0.664392\n",
       "2     -0.37301...\n",
       "1  0      0.804855\n",
       "1      0.634629\n",
       "2      0.37347...\n",
       "2  0      0.727985\n",
       "1      0.111284\n",
       "2     -0.49912...\n",
       "3  0     -0.234439\n",
       "1     -0.502157\n",
       "2     -0.73248...\n",
       "4  0     -0.171328\n",
       "1     -0.062285\n",
       "2      0.23582..."
      ]
     },
     "execution_count": 3,
     "metadata": {},
     "output_type": "execute_result"
    }
   ],
   "source": [
    "x_train_nested = from_2d_array_to_nested(x_train)\n",
    "x_test_nested = from_2d_array_to_nested(x_test)\n",
    "print(f\"The nested Training DataFrame has shape {x_train_nested.shape}\")\n",
    "print(f\"The nested Test DataFrame has shape {x_test_nested.shape}\")\n",
    "x_train_nested.head()"
   ]
  },
  {
   "cell_type": "markdown",
   "metadata": {},
   "source": [
    "# Problem 2: `Apply a TimeSeriesForestClassifier`\n",
    "\n",
    "* Fit a `TimeSeriesForestClassifier` to `x_train_nested`\n",
    "* Predict using `x_test_nested`\n",
    "* Print the Classifier's accuracy score\n",
    "\n",
    "\n",
    "*Hint: Use `n_jobs=-1` parameter to the classifer to use all the cores on your machine*"
   ]
  },
  {
   "cell_type": "code",
   "execution_count": 18,
   "metadata": {},
   "outputs": [
    {
     "name": "stdout",
     "output_type": "stream",
     "text": [
      "classifier_score =  0.806060606060606\n"
     ]
    }
   ],
   "source": [
    "from sktime.classification.interval_based import TimeSeriesForestClassifier\n",
    "\n",
    "classifier = TimeSeriesForestClassifier(n_jobs=-1)\n",
    "classifier.fit(x_train_nested, y_train)\n",
    "classifier_score = classifier.score(x_test_nested, y_test)\n",
    "print(\"classifier_score = \",classifier_score)"
   ]
  },
  {
   "cell_type": "markdown",
   "metadata": {},
   "source": [
    "# Problem 3: `Apply a ComposableTimeSeriesForestClassifier`\n",
    "\n",
    "* Fit a `ComposableTimeSeriesForestClassifier` to `x_train_nested`\n",
    "* Predict using `x_test_nested`\n",
    "* Print the Classifier's accuracy score\n",
    "\n",
    "*Hint: Use `n_jobs=-1` parameter to the classifer to use all the cores on your machine*"
   ]
  },
  {
   "cell_type": "code",
   "execution_count": 11,
   "metadata": {},
   "outputs": [
    {
     "name": "stdout",
     "output_type": "stream",
     "text": [
      "tsf_score =  0.8\n",
      "CPU times: user 42.9 s, sys: 2.79 s, total: 45.7 s\n",
      "Wall time: 57.6 s\n"
     ]
    }
   ],
   "source": [
    "%%time\n",
    "tsf = ComposableTimeSeriesForestClassifier(n_jobs=-1)\n",
    "tsf.fit(x_train_nested, y_train)\n",
    "tsf_score = tsf.score(x_test_nested, y_test)\n",
    "print(\"tsf_score = \",tsf_score)"
   ]
  },
  {
   "cell_type": "markdown",
   "metadata": {},
   "source": [
    "# Problem 4: `Plot Feature Importances Over Time`\n",
    "Extract the feature importances from the `ComposableTimeSeriesForestClassifier` and plot them over time"
   ]
  },
  {
   "cell_type": "code",
   "execution_count": 15,
   "metadata": {},
   "outputs": [
    {
     "data": {
      "image/png": "[encoded data removed]",
      "text/plain": [
       "<Figure size 1152x288 with 1 Axes>"
      ]
     },
     "metadata": {
      "needs_background": "light"
     },
     "output_type": "display_data"
    }
   ],
   "source": [
    "fi1 = tsf.feature_importances_\n",
    "fi1.columns = ['mean','std','slope']\n",
    "fig, ax = plt.subplots(1, figsize=plt.figaspect(0.25))\n",
    "fi1.plot(ax=ax);"
   ]
  },
  {
   "cell_type": "markdown",
   "metadata": {},
   "source": [
    "# Problem 5: `Apply a RandomIntervalSpectralForest`\n",
    "\n",
    "* Fit a `RandomIntervalSpectralForest` to `x_train_nested`\n",
    "* Predict using `x_test_nested`\n",
    "* Print the Classifier's accuracy score\n",
    "\n",
    "*Hint: Use `n_jobs=-1` parameter to the classifer to use all the cores on your machine*"
   ]
  },
  {
   "cell_type": "code",
   "execution_count": 10,
   "metadata": {},
   "outputs": [
    {
     "data": {
      "text/plain": [
       "0.906060606060606"
      ]
     },
     "execution_count": 10,
     "metadata": {},
     "output_type": "execute_result"
    }
   ],
   "source": [
    "from sktime.classification.interval_based import RandomIntervalSpectralForest\n",
    "\n",
    "rise = RandomIntervalSpectralForest(n_estimators=10,n_jobs=-1)\n",
    "rise.fit(x_train_nested, y_train)\n",
    "rise.score(x_test_nested, y_test)"
   ]
  }
 ],
 "metadata": {
  "colab": {
   "collapsed_sections": [],
   "name": "timeseries_classification_from_scratch",
   "provenance": [],
   "toc_visible": true
  },
  "kernelspec": {
   "display_name": "sktime",
   "language": "python",
   "name": "sktime"
  },
  "language_info": {
   "codemirror_mode": {
    "name": "ipython",
    "version": 3
   },
   "file_extension": ".py",
   "mimetype": "text/x-python",
   "name": "python",
   "nbconvert_exporter": "python",
   "pygments_lexer": "ipython3",
   "version": "3.8.8"
  }
 },
 "nbformat": 4,
 "nbformat_minor": 4
}
