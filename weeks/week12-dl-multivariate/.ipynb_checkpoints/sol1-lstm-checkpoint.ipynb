{
 "cells": [
  {
   "cell_type": "code",
   "execution_count": 1,
   "metadata": {
    "ExecuteTime": {
     "end_time": "2021-05-21T11:55:06.892526Z",
     "start_time": "2021-05-21T11:55:02.172611Z"
    }
   },
   "outputs": [],
   "source": [
    "import numpy as np\n",
    "import pandas as pd\n",
    "import tensorflow as tf\n",
    "from sklearn import preprocessing\n",
    "import matplotlib.pyplot as plt\n",
    "tf.random.set_seed(123)\n",
    "np.random.seed(123)\n",
    "from common.utils import TimeSeriesTensor, create_evaluation_df, load_data, mape"
   ]
  },
  {
   "cell_type": "markdown",
   "metadata": {},
   "source": [
    "# Load Energy Data"
   ]
  },
  {
   "cell_type": "code",
   "execution_count": 2,
   "metadata": {
    "ExecuteTime": {
     "end_time": "2021-05-21T11:55:09.294897Z",
     "start_time": "2021-05-21T11:55:08.942285Z"
    }
   },
   "outputs": [
    {
     "data": {
      "text/html": [
       "<div>\n",
       "<style scoped>\n",
       "    .dataframe tbody tr th:only-of-type {\n",
       "        vertical-align: middle;\n",
       "    }\n",
       "\n",
       "    .dataframe tbody tr th {\n",
       "        vertical-align: top;\n",
       "    }\n",
       "\n",
       "    .dataframe thead th {\n",
       "        text-align: right;\n",
       "    }\n",
       "</style>\n",
       "<table border=\"1\" class=\"dataframe\">\n",
       "  <thead>\n",
       "    <tr style=\"text-align: right;\">\n",
       "      <th></th>\n",
       "      <th>load</th>\n",
       "      <th>temp</th>\n",
       "    </tr>\n",
       "  </thead>\n",
       "  <tbody>\n",
       "    <tr>\n",
       "      <th>2012-01-01 00:00:00</th>\n",
       "      <td>2698.0</td>\n",
       "      <td>32.000000</td>\n",
       "    </tr>\n",
       "    <tr>\n",
       "      <th>2012-01-01 01:00:00</th>\n",
       "      <td>2558.0</td>\n",
       "      <td>32.666667</td>\n",
       "    </tr>\n",
       "    <tr>\n",
       "      <th>2012-01-01 02:00:00</th>\n",
       "      <td>2444.0</td>\n",
       "      <td>30.000000</td>\n",
       "    </tr>\n",
       "    <tr>\n",
       "      <th>2012-01-01 03:00:00</th>\n",
       "      <td>2402.0</td>\n",
       "      <td>31.000000</td>\n",
       "    </tr>\n",
       "    <tr>\n",
       "      <th>2012-01-01 04:00:00</th>\n",
       "      <td>2403.0</td>\n",
       "      <td>32.000000</td>\n",
       "    </tr>\n",
       "    <tr>\n",
       "      <th>...</th>\n",
       "      <td>...</td>\n",
       "      <td>...</td>\n",
       "    </tr>\n",
       "    <tr>\n",
       "      <th>2014-12-31 19:00:00</th>\n",
       "      <td>4012.0</td>\n",
       "      <td>18.000000</td>\n",
       "    </tr>\n",
       "    <tr>\n",
       "      <th>2014-12-31 20:00:00</th>\n",
       "      <td>3856.0</td>\n",
       "      <td>16.666667</td>\n",
       "    </tr>\n",
       "    <tr>\n",
       "      <th>2014-12-31 21:00:00</th>\n",
       "      <td>3671.0</td>\n",
       "      <td>17.000000</td>\n",
       "    </tr>\n",
       "    <tr>\n",
       "      <th>2014-12-31 22:00:00</th>\n",
       "      <td>3499.0</td>\n",
       "      <td>15.333333</td>\n",
       "    </tr>\n",
       "    <tr>\n",
       "      <th>2014-12-31 23:00:00</th>\n",
       "      <td>3345.0</td>\n",
       "      <td>15.333333</td>\n",
       "    </tr>\n",
       "  </tbody>\n",
       "</table>\n",
       "<p>26304 rows × 2 columns</p>\n",
       "</div>"
      ],
      "text/plain": [
       "                       load       temp\n",
       "2012-01-01 00:00:00  2698.0  32.000000\n",
       "2012-01-01 01:00:00  2558.0  32.666667\n",
       "2012-01-01 02:00:00  2444.0  30.000000\n",
       "2012-01-01 03:00:00  2402.0  31.000000\n",
       "2012-01-01 04:00:00  2403.0  32.000000\n",
       "...                     ...        ...\n",
       "2014-12-31 19:00:00  4012.0  18.000000\n",
       "2014-12-31 20:00:00  3856.0  16.666667\n",
       "2014-12-31 21:00:00  3671.0  17.000000\n",
       "2014-12-31 22:00:00  3499.0  15.333333\n",
       "2014-12-31 23:00:00  3345.0  15.333333\n",
       "\n",
       "[26304 rows x 2 columns]"
      ]
     },
     "execution_count": 2,
     "metadata": {},
     "output_type": "execute_result"
    }
   ],
   "source": [
    "data_dir = \"../../data/\"\n",
    "df = load_data(data_dir)\n",
    "df = df.sort_index()\n",
    "df"
   ]
  },
  {
   "cell_type": "markdown",
   "metadata": {},
   "source": [
    "# Scale Data"
   ]
  },
  {
   "cell_type": "code",
   "execution_count": 3,
   "metadata": {
    "ExecuteTime": {
     "end_time": "2021-05-21T11:56:21.014021Z",
     "start_time": "2021-05-21T11:56:20.974932Z"
    }
   },
   "outputs": [],
   "source": [
    "x_scaler = preprocessing.MinMaxScaler()\n",
    "y_scaler = preprocessing.MinMaxScaler()\n",
    "dataX = x_scaler.fit_transform(df[['load','temp']])\n",
    "dataY = y_scaler.fit_transform(df[['load']])"
   ]
  },
  {
   "cell_type": "markdown",
   "metadata": {},
   "source": [
    "# Problem 1 `Define  & Describe MultiVariate Prep Function`\n",
    "The implementation of the `custom_ts_multi_data_prep` from the textbook is repeated below.  Please describe in your own words what this function is really doing"
   ]
  },
  {
   "cell_type": "code",
   "execution_count": 5,
   "metadata": {
    "ExecuteTime": {
     "end_time": "2021-05-21T12:01:26.750360Z",
     "start_time": "2021-05-21T12:01:26.719161Z"
    }
   },
   "outputs": [],
   "source": [
    "def custom_ts_multi_data_prep(dataset, target, start, end, window, horizon):\n",
    "    X = []\n",
    "    y = []\n",
    "    start = start + window\n",
    "    if end is None:\n",
    "        end = len(dataset) - horizon\n",
    "\n",
    "    for i in range(start, end):\n",
    "        indices = range(i-window, i)\n",
    "        X.append(dataset[indices])\n",
    "\n",
    "        indicey = range(i+1, i+1+horizon)\n",
    "        y.append(target[indicey])\n",
    "    return np.array(X), np.array(y)"
   ]
  },
  {
   "cell_type": "markdown",
   "metadata": {},
   "source": [
    "# Problem 2: `Apply Prep Function`\n",
    "Apply the `custom_ts_multi_data_prep` function above to the scaled data (i.e `dataX`, & `dataY`) to create both training sets & validation sets.  Use a window length of 6 and a horizon of 1.\n",
    "* `x_train_multi` : should be the name of the training features\n",
    "* `y_train_multi`: should be the name of the training target\n",
    "* `x_val_multi`: should be the name of the validation features\n",
    "* `y_val_multi`: should be the name of the validation target\n",
    "\n",
    "Print the shapes of all the above `numpy.ndarray`'s"
   ]
  },
  {
   "cell_type": "code",
   "execution_count": 11,
   "metadata": {
    "ExecuteTime": {
     "end_time": "2021-05-21T13:11:30.767904Z",
     "start_time": "2021-05-21T13:11:29.459985Z"
    }
   },
   "outputs": [
    {
     "name": "stdout",
     "output_type": "stream",
     "text": [
      "x_train_multi.shape =  (19994, 6, 2)\n",
      "y_train_multi.shape =  (19994, 1, 1)\n",
      "x_val_multi.shape =  (6297, 6, 2)\n",
      "y_val_multi.shape =  (6297, 1, 1)\n"
     ]
    }
   ],
   "source": [
    "hist_window = 6\n",
    "horizon = 1\n",
    "TRAIN_SPLIT = 20000\n",
    "x_train_multi, y_train_multi = custom_ts_multi_data_prep(\n",
    "    dataX, dataY, 0, TRAIN_SPLIT, hist_window, horizon)\n",
    "x_val_multi, y_val_multi= custom_ts_multi_data_prep(\n",
    "    dataX, dataY, TRAIN_SPLIT, None, hist_window, horizon)\n",
    "print(\"x_train_multi.shape = \",x_train_multi.shape)\n",
    "print(\"y_train_multi.shape = \",y_train_multi.shape)\n",
    "print(\"x_val_multi.shape = \",x_val_multi.shape)\n",
    "print(\"y_val_multi.shape = \",y_val_multi.shape)"
   ]
  },
  {
   "cell_type": "markdown",
   "metadata": {},
   "source": [
    "# Problem 3: `Print Single Window of Past History`\n",
    "For both the `x_train_multi` and the `y_train_multi`, print out a single window of that history to ensure you've prepped the data in the right format"
   ]
  },
  {
   "cell_type": "code",
   "execution_count": 10,
   "metadata": {
    "ExecuteTime": {
     "end_time": "2021-05-21T11:00:49.083407Z",
     "start_time": "2021-05-21T11:00:49.079221Z"
    },
    "scrolled": true
   },
   "outputs": [
    {
     "name": "stdout",
     "output_type": "stream",
     "text": [
      "Single window of past history\n",
      "[[0.22157165 0.4202454 ]\n",
      " [0.17842835 0.42638037]\n",
      " [0.14329738 0.40184049]\n",
      " [0.13035439 0.41104294]\n",
      " [0.13066256 0.4202454 ]\n",
      " [0.14607088 0.41411043]]\n",
      "\n",
      " Target horizon\n",
      "[[0.22804314]]\n"
     ]
    }
   ],
   "source": [
    "print ('Single window of past history')\n",
    "print(x_train_multi[0])\n",
    "print ('\\n Target horizon')\n",
    "print (y_train_multi[0])"
   ]
  },
  {
   "cell_type": "markdown",
   "metadata": {},
   "source": [
    "# Problem 4: `Create TensorFlow DataSets`\n",
    "For both the training & validation datasets, create `tf.data` DataSets from the `numpy.ndarray`'s"
   ]
  },
  {
   "cell_type": "code",
   "execution_count": 15,
   "metadata": {
    "ExecuteTime": {
     "end_time": "2021-05-21T13:12:48.283074Z",
     "start_time": "2021-05-21T13:12:48.259110Z"
    }
   },
   "outputs": [
    {
     "name": "stdout",
     "output_type": "stream",
     "text": [
      "train_data_multi =  <RepeatDataset shapes: ((None, 6, 2), (None, 1, 1)), types: (tf.float64, tf.float64)>\n",
      "val_data_multi =  <RepeatDataset shapes: ((None, 6, 2), (None, 1, 1)), types: (tf.float64, tf.float64)>\n"
     ]
    }
   ],
   "source": [
    "BATCH_SIZE = 1\n",
    "BUFFER_SIZE = 1\n",
    "\n",
    "train_data_multi = tf.data.Dataset.from_tensor_slices((x_train_multi, y_train_multi))\n",
    "train_data_multi = train_data_multi.cache().shuffle(BUFFER_SIZE).batch(BATCH_SIZE).repeat()\n",
    "\n",
    "val_data_multi = tf.data.Dataset.from_tensor_slices((x_val_multi, y_val_multi))\n",
    "val_data_multi = val_data_multi.batch(BATCH_SIZE).repeat()\n",
    "print(\"train_data_multi = \",train_data_multi)\n",
    "print(\"val_data_multi = \",val_data_multi)"
   ]
  },
  {
   "cell_type": "markdown",
   "metadata": {},
   "source": [
    "# Problem 5: `Create Deep Learning Architecture`\n",
    "Just like the Multivariate architecture in the book, Create 2 layers of LSTMs with Dropout's inbetween them & then add a final Dense layer.  Print the model summary"
   ]
  },
  {
   "cell_type": "code",
   "execution_count": 16,
   "metadata": {
    "ExecuteTime": {
     "end_time": "2021-05-21T13:13:10.725706Z",
     "start_time": "2021-05-21T13:13:09.352755Z"
    }
   },
   "outputs": [
    {
     "name": "stdout",
     "output_type": "stream",
     "text": [
      "Model: \"sequential\"\n",
      "_________________________________________________________________\n",
      "Layer (type)                 Output Shape              Param #   \n",
      "=================================================================\n",
      "lstm (LSTM)                  (None, 6, 150)            91800     \n",
      "_________________________________________________________________\n",
      "dropout (Dropout)            (None, 6, 150)            0         \n",
      "_________________________________________________________________\n",
      "lstm_1 (LSTM)                (None, 100)               100400    \n",
      "_________________________________________________________________\n",
      "dropout_1 (Dropout)          (None, 100)               0         \n",
      "_________________________________________________________________\n",
      "dense (Dense)                (None, 1)                 101       \n",
      "=================================================================\n",
      "Total params: 192,301\n",
      "Trainable params: 192,301\n",
      "Non-trainable params: 0\n",
      "_________________________________________________________________\n"
     ]
    }
   ],
   "source": [
    "lstm_multi = tf.keras.models.Sequential()\n",
    "lstm_multi.add(tf.keras.layers.LSTM(150,input_shape=x_train_multi.shape[-2:],return_sequences=True))\n",
    "lstm_multi.add(tf.keras.layers.Dropout(0.2)),\n",
    "lstm_multi.add(tf.keras.layers.LSTM(units=100,return_sequences=False)),\n",
    "lstm_multi.add(tf.keras.layers.Dropout(0.2)),\n",
    "lstm_multi.add(tf.keras.layers.Dense(units=horizon)),\n",
    "lstm_multi.compile(optimizer='adam', loss='mse')\n",
    "lstm_multi.summary()"
   ]
  },
  {
   "cell_type": "code",
   "execution_count": 14,
   "metadata": {
    "ExecuteTime": {
     "end_time": "2021-05-21T11:00:54.534813Z",
     "start_time": "2021-05-21T11:00:54.529257Z"
    }
   },
   "outputs": [],
   "source": [
    "model_path = r'./LSTM_Multivariate.h5'"
   ]
  },
  {
   "cell_type": "code",
   "execution_count": 16,
   "metadata": {
    "ExecuteTime": {
     "end_time": "2021-05-21T11:01:48.206332Z",
     "start_time": "2021-05-21T11:00:56.237775Z"
    }
   },
   "outputs": [
    {
     "name": "stdout",
     "output_type": "stream",
     "text": [
      "Epoch 1/20\n",
      "150/150 [==============================] - 4s 25ms/step - loss: 0.0526 - val_loss: 0.0164\n",
      "Epoch 2/20\n",
      "150/150 [==============================] - 2s 14ms/step - loss: 0.0296 - val_loss: 0.0381\n",
      "Epoch 3/20\n",
      "150/150 [==============================] - 2s 15ms/step - loss: 0.0306 - val_loss: 0.0960\n",
      "Epoch 4/20\n",
      "150/150 [==============================] - 2s 16ms/step - loss: 0.0227 - val_loss: 0.0314\n",
      "Epoch 5/20\n",
      "150/150 [==============================] - 2s 15ms/step - loss: 0.0197 - val_loss: 0.0162\n",
      "Epoch 6/20\n",
      "150/150 [==============================] - 2s 15ms/step - loss: 0.0137 - val_loss: 0.0086\n",
      "Epoch 7/20\n",
      "150/150 [==============================] - 2s 14ms/step - loss: 0.0128 - val_loss: 0.0508\n",
      "Epoch 8/20\n",
      "150/150 [==============================] - 2s 15ms/step - loss: 0.0106 - val_loss: 0.0081\n",
      "Epoch 9/20\n",
      "150/150 [==============================] - 2s 15ms/step - loss: 0.0097 - val_loss: 0.0093\n",
      "Epoch 10/20\n",
      "150/150 [==============================] - 2s 15ms/step - loss: 0.0092 - val_loss: 0.0065\n",
      "Epoch 11/20\n",
      "150/150 [==============================] - 2s 12ms/step - loss: 0.0093 - val_loss: 0.0064\n",
      "Epoch 12/20\n",
      "150/150 [==============================] - 2s 15ms/step - loss: 0.0084 - val_loss: 0.0048\n",
      "Epoch 13/20\n",
      "150/150 [==============================] - 2s 15ms/step - loss: 0.0072 - val_loss: 0.0063\n",
      "Epoch 14/20\n",
      "150/150 [==============================] - 2s 14ms/step - loss: 0.0066 - val_loss: 0.0057\n",
      "Epoch 15/20\n",
      "150/150 [==============================] - 2s 15ms/step - loss: 0.0060 - val_loss: 0.0043\n",
      "Epoch 16/20\n",
      "150/150 [==============================] - 2s 14ms/step - loss: 0.0056 - val_loss: 0.0044\n",
      "Epoch 17/20\n",
      "150/150 [==============================] - 2s 16ms/step - loss: 0.0049 - val_loss: 0.0083\n",
      "Epoch 18/20\n",
      "150/150 [==============================] - 2s 15ms/step - loss: 0.0045 - val_loss: 0.0056\n",
      "Epoch 19/20\n",
      "150/150 [==============================] - 2s 15ms/step - loss: 0.0047 - val_loss: 0.0062\n",
      "Epoch 20/20\n",
      "150/150 [==============================] - 2s 12ms/step - loss: 0.0062 - val_loss: 0.0054\n"
     ]
    }
   ],
   "source": [
    "EVALUATION_INTERVAL = 150\n",
    "EPOCHS = 20\n",
    "history = lstm_multi.fit(train_data_multi, epochs=EPOCHS,steps_per_epoch=EVALUATION_INTERVAL,validation_data=val_data_multi, validation_steps=50,verbose =1,\n",
    "                              callbacks =[tf.keras.callbacks.EarlyStopping(monitor='val_loss', min_delta=0, patience=10, verbose=1, mode='min'),tf.keras.callbacks.ModelCheckpoint(model_path,monitor='val_loss', save_best_only=True, mode='min', verbose=0)])"
   ]
  },
  {
   "cell_type": "code",
   "execution_count": 17,
   "metadata": {
    "ExecuteTime": {
     "end_time": "2021-05-21T11:10:07.631201Z",
     "start_time": "2021-05-21T11:10:06.024319Z"
    }
   },
   "outputs": [],
   "source": [
    "Trained_model = tf.keras.models.load_model(model_path)"
   ]
  },
  {
   "cell_type": "code",
   "execution_count": 18,
   "metadata": {
    "ExecuteTime": {
     "end_time": "2021-05-21T11:10:08.736496Z",
     "start_time": "2021-05-21T11:10:08.399064Z"
    }
   },
   "outputs": [
    {
     "data": {
      "image/png": "[encoded data removed]",
      "text/plain": [
       "<Figure size 432x288 with 1 Axes>"
      ]
     },
     "metadata": {
      "needs_background": "light"
     },
     "output_type": "display_data"
    }
   ],
   "source": [
    "plt.plot(history.history['loss'])\n",
    "plt.plot(history.history['val_loss'])\n",
    "plt.title('Model loss')\n",
    "plt.ylabel('loss')\n",
    "plt.xlabel('epoch')\n",
    "plt.legend(['train loss', 'validation loss'], loc='upper left')\n",
    "plt.rcParams[\"figure.figsize\"] = [16,9]\n",
    "plt.show()"
   ]
  },
  {
   "cell_type": "code",
   "execution_count": 19,
   "metadata": {
    "ExecuteTime": {
     "end_time": "2021-05-21T11:10:13.786185Z",
     "start_time": "2021-05-21T11:10:13.776405Z"
    }
   },
   "outputs": [
    {
     "name": "stdout",
     "output_type": "stream",
     "text": [
      "Model: \"sequential\"\n",
      "_________________________________________________________________\n",
      "Layer (type)                 Output Shape              Param #   \n",
      "=================================================================\n",
      "lstm (LSTM)                  (None, 6, 150)            91800     \n",
      "_________________________________________________________________\n",
      "dropout (Dropout)            (None, 6, 150)            0         \n",
      "_________________________________________________________________\n",
      "lstm_1 (LSTM)                (None, 100)               100400    \n",
      "_________________________________________________________________\n",
      "dropout_1 (Dropout)          (None, 100)               0         \n",
      "_________________________________________________________________\n",
      "dense (Dense)                (None, 1)                 101       \n",
      "=================================================================\n",
      "Total params: 192,301\n",
      "Trainable params: 192,301\n",
      "Non-trainable params: 0\n",
      "_________________________________________________________________\n"
     ]
    }
   ],
   "source": [
    "# Show the model architecture\n",
    "Trained_model.summary()"
   ]
  },
  {
   "cell_type": "code",
   "execution_count": 52,
   "metadata": {
    "ExecuteTime": {
     "end_time": "2020-03-02T14:40:03.190187Z",
     "start_time": "2020-03-02T14:40:03.182203Z"
    }
   },
   "outputs": [],
   "source": [
    "data_val = x_scaler.fit_transform(df[['rain_1h','temp', 'snow_1h', 'clouds_all', 'holiday_le',\n",
    "    'weather_main_le', 'weather_description_le','traffic_volume']].tail(48))"
   ]
  },
  {
   "cell_type": "code",
   "execution_count": 53,
   "metadata": {
    "ExecuteTime": {
     "end_time": "2020-03-02T14:40:04.603404Z",
     "start_time": "2020-03-02T14:40:04.598422Z"
    }
   },
   "outputs": [],
   "source": [
    "val_rescaled = data_val.reshape(1, data_val.shape[0], data_val.shape[1])"
   ]
  },
  {
   "cell_type": "code",
   "execution_count": 54,
   "metadata": {
    "ExecuteTime": {
     "end_time": "2020-03-02T14:40:06.007654Z",
     "start_time": "2020-03-02T14:40:05.654594Z"
    }
   },
   "outputs": [],
   "source": [
    "Predicted_results = Trained_model.predict(val_rescaled)"
   ]
  },
  {
   "cell_type": "code",
   "execution_count": 55,
   "metadata": {
    "ExecuteTime": {
     "end_time": "2020-03-02T14:40:07.503654Z",
     "start_time": "2020-03-02T14:40:07.498666Z"
    }
   },
   "outputs": [
    {
     "data": {
      "text/plain": [
       "array([[0.6491108 , 0.6378182 , 0.6240657 , 0.60300267, 0.57390654,\n",
       "        0.54723495, 0.5352416 , 0.498307  , 0.42924818, 0.3614945 ]],\n",
       "      dtype=float32)"
      ]
     },
     "execution_count": 55,
     "metadata": {},
     "output_type": "execute_result"
    }
   ],
   "source": [
    "Predicted_results"
   ]
  },
  {
   "cell_type": "code",
   "execution_count": 56,
   "metadata": {
    "ExecuteTime": {
     "end_time": "2020-03-02T14:40:09.475385Z",
     "start_time": "2020-03-02T14:40:09.470400Z"
    }
   },
   "outputs": [],
   "source": [
    "Predicted_results_Inv_trans = y_scaler.inverse_transform(Predicted_results)"
   ]
  },
  {
   "cell_type": "code",
   "execution_count": 57,
   "metadata": {
    "ExecuteTime": {
     "end_time": "2020-03-02T14:40:11.040203Z",
     "start_time": "2020-03-02T14:40:11.034219Z"
    }
   },
   "outputs": [
    {
     "data": {
      "text/plain": [
       "array([[4725.5264, 4643.3164, 4543.198 , 4389.8594, 4178.0396, 3983.8704,\n",
       "        3896.5588, 3627.6748, 3124.9268, 2631.68  ]], dtype=float32)"
      ]
     },
     "execution_count": 57,
     "metadata": {},
     "output_type": "execute_result"
    }
   ],
   "source": [
    "Predicted_results_Inv_trans"
   ]
  },
  {
   "cell_type": "code",
   "execution_count": 58,
   "metadata": {
    "ExecuteTime": {
     "end_time": "2020-03-02T14:40:12.161209Z",
     "start_time": "2020-03-02T14:40:12.154226Z"
    }
   },
   "outputs": [],
   "source": [
    "from sklearn import metrics\n",
    "def timeseries_evaluation_metrics_func(y_true, y_pred):\n",
    "    \n",
    "    def mean_absolute_percentage_error(y_true, y_pred): \n",
    "        y_true, y_pred = np.array(y_true), np.array(y_pred)\n",
    "        return np.mean(np.abs((y_true - y_pred) / y_true)) * 100\n",
    "    print('Evaluation metric results:-')\n",
    "    print(f'MSE is : {metrics.mean_squared_error(y_true, y_pred)}')\n",
    "    print(f'MAE is : {metrics.mean_absolute_error(y_true, y_pred)}')\n",
    "    print(f'RMSE is : {np.sqrt(metrics.mean_squared_error(y_true, y_pred))}')\n",
    "    print(f'MAPE is : {mean_absolute_percentage_error(y_true, y_pred)}')\n",
    "    print(f'R2 is : {metrics.r2_score(y_true, y_pred)}',end='\\n\\n')"
   ]
  },
  {
   "cell_type": "code",
   "execution_count": 59,
   "metadata": {
    "ExecuteTime": {
     "end_time": "2020-03-02T14:40:16.574416Z",
     "start_time": "2020-03-02T14:40:16.567433Z"
    }
   },
   "outputs": [
    {
     "name": "stdout",
     "output_type": "stream",
     "text": [
      "Evaluation metric results:-\n",
      "MSE is : 950061.2068371713\n",
      "MAE is : 751.9650634765625\n",
      "RMSE is : 974.7108324201447\n",
      "MAPE is : 43.89349128541913\n",
      "R2 is : 0.3832059642626128\n",
      "\n"
     ]
    }
   ],
   "source": [
    "timeseries_evaluation_metrics_func(validate['traffic_volume'],Predicted_results_Inv_trans[0])"
   ]
  },
  {
   "cell_type": "code",
   "execution_count": 60,
   "metadata": {
    "ExecuteTime": {
     "end_time": "2020-03-02T14:40:18.909211Z",
     "start_time": "2020-03-02T14:40:18.657847Z"
    }
   },
   "outputs": [
    {
     "data": {
      "image/png": "[encoded data removed]",
      "text/plain": [
       "<Figure size 1152x648 with 1 Axes>"
      ]
     },
     "metadata": {
      "needs_background": "light"
     },
     "output_type": "display_data"
    }
   ],
   "source": [
    "plt.plot( list(validate['traffic_volume']))\n",
    "plt.plot( list(Predicted_results_Inv_trans[0]))\n",
    "plt.title(\"Actual vs Predicted\")\n",
    "plt.ylabel(\"Traffic volume\")\n",
    "plt.legend(('Actual','predicted'))\n",
    "plt.show()"
   ]
  }
 ],
 "metadata": {
  "kernelspec": {
   "display_name": "Python 3",
   "language": "python",
   "name": "python3"
  },
  "language_info": {
   "codemirror_mode": {
    "name": "ipython",
    "version": 3
   },
   "file_extension": ".py",
   "mimetype": "text/x-python",
   "name": "python",
   "nbconvert_exporter": "python",
   "pygments_lexer": "ipython3",
   "version": "3.8.5"
  },
  "latex_envs": {
   "LaTeX_envs_menu_present": true,
   "autoclose": false,
   "autocomplete": true,
   "bibliofile": "biblio.bib",
   "cite_by": "apalike",
   "current_citInitial": 1,
   "eqLabelWithNumbers": true,
   "eqNumInitial": 1,
   "hotkeys": {
    "equation": "Ctrl-E",
    "itemize": "Ctrl-I"
   },
   "labels_anchors": false,
   "latex_user_defs": false,
   "report_style_numbering": false,
   "user_envs_cfg": false
  },
  "nbTranslate": {
   "displayLangs": [
    "*"
   ],
   "hotkey": "alt-t",
   "langInMainMenu": true,
   "sourceLang": "en",
   "targetLang": "fr",
   "useGoogleTranslate": true
  },
  "toc": {
   "base_numbering": 1,
   "nav_menu": {},
   "number_sections": false,
   "sideBar": true,
   "skip_h1_title": false,
   "title_cell": "Table of Contents",
   "title_sidebar": "Contents",
   "toc_cell": false,
   "toc_position": {},
   "toc_section_display": true,
   "toc_window_display": false
  }
 },
 "nbformat": 4,
 "nbformat_minor": 4
}
