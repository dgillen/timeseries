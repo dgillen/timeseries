{
 "cells": [
  {
   "cell_type": "code",
   "execution_count": 1,
   "metadata": {},
   "outputs": [],
   "source": [
    "import pandas as pd\n",
    "from darts import TimeSeries"
   ]
  },
  {
   "cell_type": "code",
   "execution_count": 2,
   "metadata": {},
   "outputs": [],
   "source": [
    "\n",
    "df = pd.read_csv('../../data/airline-passengers.csv', delimiter=\",\")\n",
    "series = TimeSeries.from_dataframe(df, 'Month', 'Passengers')\n",
    "train, val = series.split_after(pd.Timestamp('19580101'))\n"
   ]
  },
  {
   "cell_type": "code",
   "execution_count": 3,
   "metadata": {},
   "outputs": [
    {
     "name": "stderr",
     "output_type": "stream",
     "text": [
      "Importing plotly failed. Interactive plots will not work.\n",
      "/anaconda/envs/darts/lib/python3.8/site-packages/statsmodels/tsa/holtwinters/model.py:427: FutureWarning: After 0.13 initialization must be handled at model creation\n",
      "  warnings.warn(\n"
     ]
    }
   ],
   "source": [
    "from darts.models import ExponentialSmoothing\n",
    "\n",
    "model = ExponentialSmoothing()\n",
    "model.fit(train)\n",
    "prediction = model.predict(len(val))\n"
   ]
  },
  {
   "cell_type": "code",
   "execution_count": 4,
   "metadata": {},
   "outputs": [
    {
     "data": {
      "text/plain": [
       "Text(0.5, 0, 'Year')"
      ]
     },
     "execution_count": 4,
     "metadata": {},
     "output_type": "execute_result"
    },
    {
     "data": {
      "image/png": "[encoded data removed]",
      "text/plain": [
       "<Figure size 432x288 with 1 Axes>"
      ]
     },
     "metadata": {
      "needs_background": "light"
     },
     "output_type": "display_data"
    }
   ],
   "source": [
    "import matplotlib.pyplot as plt\n",
    "\n",
    "series.plot(label='actual')\n",
    "prediction.plot(label='forecast', lw=2)\n",
    "plt.legend()\n",
    "plt.xlabel('Year')\n"
   ]
  },
  {
   "cell_type": "code",
   "execution_count": 7,
   "metadata": {},
   "outputs": [
    {
     "data": {
      "text/plain": [
       "            Passengers\n",
       "Month                 \n",
       "1958-02-01         318\n",
       "1958-03-01         362\n",
       "1958-04-01         348\n",
       "1958-05-01         363\n",
       "1958-06-01         435\n",
       "1958-07-01         491\n",
       "1958-08-01         505\n",
       "1958-09-01         404\n",
       "1958-10-01         359\n",
       "1958-11-01         310\n",
       "1958-12-01         337\n",
       "1959-01-01         360\n",
       "1959-02-01         342\n",
       "1959-03-01         406\n",
       "1959-04-01         396\n",
       "1959-05-01         420\n",
       "1959-06-01         472\n",
       "1959-07-01         548\n",
       "1959-08-01         559\n",
       "1959-09-01         463\n",
       "1959-10-01         407\n",
       "1959-11-01         362\n",
       "1959-12-01         405\n",
       "1960-01-01         417\n",
       "1960-02-01         391\n",
       "1960-03-01         419\n",
       "1960-04-01         461\n",
       "1960-05-01         472\n",
       "1960-06-01         535\n",
       "1960-07-01         622\n",
       "1960-08-01         606\n",
       "1960-09-01         508\n",
       "1960-10-01         461\n",
       "1960-11-01         390\n",
       "1960-12-01         432\n",
       "Freq: MS"
      ]
     },
     "execution_count": 7,
     "metadata": {},
     "output_type": "execute_result"
    }
   ],
   "source": [
    "val"
   ]
  },
  {
   "cell_type": "code",
   "execution_count": null,
   "metadata": {},
   "outputs": [],
   "source": []
  }
 ],
 "metadata": {
  "kernelspec": {
   "display_name": "darts",
   "language": "python",
   "name": "darts"
  },
  "language_info": {
   "codemirror_mode": {
    "name": "ipython",
    "version": 3
   },
   "file_extension": ".py",
   "mimetype": "text/x-python",
   "name": "python",
   "nbconvert_exporter": "python",
   "pygments_lexer": "ipython3",
   "version": "3.8.5"
  }
 },
 "nbformat": 4,
 "nbformat_minor": 4
}
