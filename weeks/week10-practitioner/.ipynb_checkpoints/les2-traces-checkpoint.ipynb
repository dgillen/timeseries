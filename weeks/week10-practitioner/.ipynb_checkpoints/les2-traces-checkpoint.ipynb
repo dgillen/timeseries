{
 "cells": [
  {
   "cell_type": "markdown",
   "metadata": {},
   "source": [
    "# Traces\n",
    "\n",
    "Taking measurements at irregular intervals is common, but most tools are primarily designed for evenly-spaced measurements. Also, in the real world, time series have missing observations or you may have multiple series with different frequencies: it can be useful to model these as unevenly-spaced.\n",
    "\n",
    "Traces was designed by the team at [Datascope](https://datascopeanalytics.com/) based on several practical applications in different domains, because it turns out unevenly-spaced data is actually pretty great, particularly for sensor data analysis.\n",
    "\n",
    "<img src=\"./traces.png\" width=\"700\" alt=\"traces\">"
   ]
  },
  {
   "cell_type": "code",
   "execution_count": 41,
   "metadata": {},
   "outputs": [],
   "source": [
    "import sys\n",
    "import glob\n",
    "\n",
    "from datetime import datetime, timedelta\n",
    "\n",
    "import traces\n",
    "from traces.utils import datetime_range"
   ]
  },
  {
   "cell_type": "markdown",
   "metadata": {},
   "source": [
    "# Basic Data Structure: `traces.TimeSeries`\n",
    "\n",
    "To see a basic use of traces, let's look at these data from a light switch, also known as Big Data from the Internet of Things.\n",
    "\n",
    "<img src=\"./trace.svg\" width=\"700\" alt=\"traces\">\n",
    "\n",
    "The main object in traces is a TimeSeries, which you create just like a dictionary, adding the five measurements at 6:00am, 7:45:56am, etc."
   ]
  },
  {
   "cell_type": "code",
   "execution_count": 42,
   "metadata": {},
   "outputs": [],
   "source": [
    "time_series = traces.TimeSeries()\n",
    "time_series[datetime(2042, 2, 1,  6,  0,  0)] = 0 #  6:00:00am\n",
    "time_series[datetime(2042, 2, 1,  7, 45, 56)] = 1 #  7:45:56am\n",
    "time_series[datetime(2042, 2, 1,  8, 51, 42)] = 0 #  8:51:42am\n",
    "time_series[datetime(2042, 2, 1, 12,  3, 56)] = 1 # 12:03:56am\n",
    "time_series[datetime(2042, 2, 1, 12,  7, 13)] = 0 # 12:07:13am\n"
   ]
  },
  {
   "cell_type": "code",
   "execution_count": 47,
   "metadata": {},
   "outputs": [
    {
     "data": {
      "text/plain": [
       "<TimeSeries>\n",
       "{datetime.datetime(2042, 2, 1, 6, 0): 0,\n",
       " datetime.datetime(2042, 2, 1, 7, 45, 56): 1,\n",
       " datetime.datetime(2042, 2, 1, 8, 51, 42): 0,\n",
       " datetime.datetime(2042, 2, 1, 12, 3, 56): 1,\n",
       " datetime.datetime(2042, 2, 1, 12, 7, 13): 0}\n",
       "</TimeSeries>"
      ]
     },
     "execution_count": 47,
     "metadata": {},
     "output_type": "execute_result"
    }
   ],
   "source": [
    "time_series"
   ]
  },
  {
   "cell_type": "markdown",
   "metadata": {},
   "source": [
    "# Lookups\n",
    "\n",
    "What if you want to know if the light was on at 11am? Unlike a python dictionary, you can look up the value at any time even if it's not one of the measurement times."
   ]
  },
  {
   "cell_type": "code",
   "execution_count": 48,
   "metadata": {},
   "outputs": [
    {
     "data": {
      "text/plain": [
       "0"
      ]
     },
     "execution_count": 48,
     "metadata": {},
     "output_type": "execute_result"
    }
   ],
   "source": [
    "time_series[datetime(2042, 2, 1, 11,  0, 0)] # 11:00am"
   ]
  },
  {
   "cell_type": "markdown",
   "metadata": {},
   "source": [
    "Above we've looked up the 11:00am timestamp and determined that the light was in fact not on, even though that timestamp didn't exist the time series"
   ]
  },
  {
   "cell_type": "markdown",
   "metadata": {},
   "source": [
    "# Distribution\n",
    "\n",
    "The `distribution` function gives you the fraction of time that the `TimeSeries` is in each state."
   ]
  },
  {
   "cell_type": "code",
   "execution_count": 46,
   "metadata": {},
   "outputs": [
    {
     "data": {
      "text/plain": [
       "Histogram({0: 0.8355952380952381, 1: 0.16440476190476191})"
      ]
     },
     "execution_count": 46,
     "metadata": {},
     "output_type": "execute_result"
    }
   ],
   "source": [
    "time_series.distribution(start=datetime(2042, 2, 1,  6,  0,  0), # 6:00am\n",
    "                         end  =datetime(2042, 2, 1,  13,  0,  0))   # 1:00pm"
   ]
  },
  {
   "cell_type": "markdown",
   "metadata": {},
   "source": [
    "The light was on about 16% of the time between 6am and 1pm."
   ]
  }
 ],
 "metadata": {
  "kernelspec": {
   "display_name": "darts",
   "language": "python",
   "name": "darts"
  },
  "language_info": {
   "codemirror_mode": {
    "name": "ipython",
    "version": 3
   },
   "file_extension": ".py",
   "mimetype": "text/x-python",
   "name": "python",
   "nbconvert_exporter": "python",
   "pygments_lexer": "ipython3",
   "version": "3.8.5"
  }
 },
 "nbformat": 4,
 "nbformat_minor": 4
}
