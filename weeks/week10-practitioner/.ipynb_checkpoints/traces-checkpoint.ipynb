{
 "cells": [
  {
   "cell_type": "code",
   "execution_count": 3,
   "metadata": {},
   "outputs": [],
   "source": [
    "import traces\n",
    "import datetime"
   ]
  },
  {
   "cell_type": "code",
   "execution_count": 6,
   "metadata": {},
   "outputs": [],
   "source": [
    "time_series = traces.TimeSeries()\n",
    "time_series[datetime.datetime(2042, 2, 1,  6,  0,  0)] = 0 #  6:00:00am\n",
    "time_series[datetime.datetime(2042, 2, 1,  7, 45, 56)] = 1 #  7:45:56am\n",
    "time_series[datetime.datetime(2042, 2, 1,  8, 51, 42)] = 0 #  8:51:42am\n",
    "time_series[datetime.datetime(2042, 2, 1, 12,  3, 56)] = 1 # 12:03:56am\n",
    "time_series[datetime.datetime(2042, 2, 1, 12,  7, 13)] = 0 # 12:07:13am\n"
   ]
  },
  {
   "cell_type": "code",
   "execution_count": 7,
   "metadata": {},
   "outputs": [
    {
     "data": {
      "text/plain": [
       "<TimeSeries>\n",
       "{datetime.datetime(2042, 2, 1, 6, 0): 0,\n",
       " datetime.datetime(2042, 2, 1, 7, 45, 56): 1,\n",
       " datetime.datetime(2042, 2, 1, 8, 51, 42): 0,\n",
       " datetime.datetime(2042, 2, 1, 12, 3, 56): 1,\n",
       " datetime.datetime(2042, 2, 1, 12, 7, 13): 0}\n",
       "</TimeSeries>"
      ]
     },
     "execution_count": 7,
     "metadata": {},
     "output_type": "execute_result"
    }
   ],
   "source": [
    "time_series"
   ]
  },
  {
   "cell_type": "code",
   "execution_count": 9,
   "metadata": {},
   "outputs": [
    {
     "data": {
      "text/plain": [
       "0"
      ]
     },
     "execution_count": 9,
     "metadata": {},
     "output_type": "execute_result"
    }
   ],
   "source": [
    "time_series[datetime.datetime(2042, 2, 1, 11,  0, 0)] # 11:00am"
   ]
  },
  {
   "cell_type": "markdown",
   "metadata": {},
   "source": [
    "# Distribution\n",
    "\n",
    "The `distribution` function gives you the fraction of time that the `TimeSeries` is in each state."
   ]
  },
  {
   "cell_type": "code",
   "execution_count": 12,
   "metadata": {},
   "outputs": [
    {
     "data": {
      "text/plain": [
       "Histogram({0: 0.8355952380952381, 1: 0.16440476190476191})"
      ]
     },
     "execution_count": 12,
     "metadata": {},
     "output_type": "execute_result"
    }
   ],
   "source": [
    "time_series.distribution(start=datetime.datetime(2042, 2, 1,  6,  0,  0), # 6:00am\n",
    "                         end  =datetime.datetime(2042, 2, 1,  13,  0,  0))   # 1:00pm"
   ]
  },
  {
   "cell_type": "markdown",
   "metadata": {},
   "source": [
    "The light was on about 16% of the time between 6am and 1pm."
   ]
  },
  {
   "cell_type": "code",
   "execution_count": null,
   "metadata": {},
   "outputs": [],
   "source": []
  }
 ],
 "metadata": {
  "kernelspec": {
   "display_name": "helper",
   "language": "python",
   "name": "helper"
  },
  "language_info": {
   "codemirror_mode": {
    "name": "ipython",
    "version": 3
   },
   "file_extension": ".py",
   "mimetype": "text/x-python",
   "name": "python",
   "nbconvert_exporter": "python",
   "pygments_lexer": "ipython3",
   "version": "3.8.5"
  }
 },
 "nbformat": 4,
 "nbformat_minor": 4
}
