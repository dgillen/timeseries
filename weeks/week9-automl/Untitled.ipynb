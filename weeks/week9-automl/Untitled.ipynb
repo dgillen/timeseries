{
 "cells": [
  {
   "cell_type": "code",
   "execution_count": 1,
   "metadata": {},
   "outputs": [
    {
     "name": "stderr",
     "output_type": "stream",
     "text": [
      "Warning: Falling back to use azure cli login credentials.\n",
      "If you run your code in unattended mode, i.e., where you can't give a user input, then we recommend to use ServicePrincipalAuthentication or MsiAuthentication.\n",
      "Please refer to aka.ms/aml-notebook-auth for different authentication mechanisms in azureml-sdk.\n"
     ]
    },
    {
     "data": {
      "text/plain": [
       "{'id': '/subscriptions/29e67936-a2a9-4c54-9dd6-26ef6c8c59e2/resourceGroups/timeseries-course/providers/Microsoft.MachineLearningServices/workspaces/timeseries-ws',\n",
       " 'name': 'timeseries-ws',\n",
       " 'identity': {'principal_id': '2d98e1fe-1d78-4636-ac48-18c6af91136a',\n",
       "  'tenant_id': '730a34de-9192-47e3-93ac-f319e522053d',\n",
       "  'type': 'SystemAssigned'},\n",
       " 'location': 'southcentralus',\n",
       " 'type': 'Microsoft.MachineLearningServices/workspaces',\n",
       " 'tags': {},\n",
       " 'sku': 'Basic',\n",
       " 'workspaceid': '93053dda-c888-4684-8856-b95a3896aad0',\n",
       " 'sdkTelemetryAppInsightsKey': 'd83d49eb-3973-4a30-937a-eb3fc2d37c24',\n",
       " 'description': '',\n",
       " 'friendlyName': 'timeseries-ws',\n",
       " 'creationTime': '2021-05-14T12:47:47.1526384+00:00',\n",
       " 'containerRegistry': '/subscriptions/29e67936-a2a9-4c54-9dd6-26ef6c8c59e2/resourceGroups/timeseries-course/providers/Microsoft.ContainerRegistry/registries/93053ddac88846848856b95a3896aad0',\n",
       " 'keyVault': '/subscriptions/29e67936-a2a9-4c54-9dd6-26ef6c8c59e2/resourcegroups/timeseries-course/providers/microsoft.keyvault/vaults/timeseriesws3024246558',\n",
       " 'applicationInsights': '/subscriptions/29e67936-a2a9-4c54-9dd6-26ef6c8c59e2/resourcegroups/timeseries-course/providers/microsoft.insights/components/timeseriesws8871535460',\n",
       " 'storageAccount': '/subscriptions/29e67936-a2a9-4c54-9dd6-26ef6c8c59e2/resourcegroups/timeseries-course/providers/microsoft.storage/storageaccounts/timeseriesws6008692769',\n",
       " 'hbiWorkspace': False,\n",
       " 'allowPublicAccessWhenBehindVnet': False,\n",
       " 'provisioningState': 'Succeeded',\n",
       " 'imageBuildCompute': '',\n",
       " 'discoveryUrl': 'https://southcentralus.api.azureml.ms/discovery',\n",
       " 'notebookInfo': {'fqdn': 'ml-timeseri-southcentralus-93053dda-c888-4684-8856-b95a3896aad0.notebooks.azure.net',\n",
       "  'resource_id': '8f39a25b83e44ef599eff745b0995cf7'}}"
      ]
     },
     "execution_count": 1,
     "metadata": {},
     "output_type": "execute_result"
    }
   ],
   "source": [
    "from azureml.core import Workspace\n",
    "\n",
    "# Create the workspace using the specified parameters\n",
    "ws = Workspace.create(name = \"timeseries-ws\",\n",
    "                      subscription_id = '29e67936-a2a9-4c54-9dd6-26ef6c8c59e2',\n",
    "                      resource_group = 'timeseries-course', \n",
    "                      location = 'eastus2',\n",
    "                      create_resource_group = True,\n",
    "                      sku = 'basic',\n",
    "                      exist_ok = True)\n",
    "ws.get_details()\n",
    "\n",
    "# write the details of the workspace to a configuration file to the notebook library\n"
   ]
  },
  {
   "cell_type": "code",
   "execution_count": 2,
   "metadata": {},
   "outputs": [
    {
     "name": "stdout",
     "output_type": "stream",
     "text": [
      "/workspace/timeseries/weeks/week9-automl\n"
     ]
    }
   ],
   "source": [
    "!pwd"
   ]
  },
  {
   "cell_type": "code",
   "execution_count": 8,
   "metadata": {},
   "outputs": [],
   "source": [
    "ws.write_config('.')"
   ]
  },
  {
   "cell_type": "code",
   "execution_count": 9,
   "metadata": {},
   "outputs": [
    {
     "name": "stdout",
     "output_type": "stream",
     "text": [
      "/workspace/timeseries/weeks/week9-automl\n"
     ]
    }
   ],
   "source": [
    "!pwd"
   ]
  },
  {
   "cell_type": "code",
   "execution_count": null,
   "metadata": {},
   "outputs": [],
   "source": []
  }
 ],
 "metadata": {
  "kernelspec": {
   "display_name": "azure_automl",
   "language": "python",
   "name": "azure_automl"
  },
  "language_info": {
   "codemirror_mode": {
    "name": "ipython",
    "version": 3
   },
   "file_extension": ".py",
   "mimetype": "text/x-python",
   "name": "python",
   "nbconvert_exporter": "python",
   "pygments_lexer": "ipython3",
   "version": "3.6.7"
  }
 },
 "nbformat": 4,
 "nbformat_minor": 4
}
