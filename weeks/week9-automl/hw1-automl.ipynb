{
 "cells": [
  {
   "cell_type": "markdown",
   "metadata": {},
   "source": [
    "![Impressions](https://PixelServer20190423114238.azurewebsites.net/api/impressions/MachineLearningNotebooks/how-to-use-azureml/automated-machine-learning/forecasting-orange-juice-sales/auto-ml-forecasting-orange-juice-sales.png)"
   ]
  },
  {
   "cell_type": "markdown",
   "metadata": {},
   "source": [
    "# Homework\n",
    "In this example, we use AutoML to train, select, and operationalize a time-series forecasting model for multiple time-series.\n",
    "\n",
    "Make sure you have executed the [configuration notebook](../../../configuration.ipynb) before running this notebook."
   ]
  },
  {
   "cell_type": "markdown",
   "metadata": {},
   "source": [
    "## Setup"
   ]
  },
  {
   "cell_type": "code",
   "execution_count": 1,
   "metadata": {
    "ExecuteTime": {
     "end_time": "2021-05-17T13:54:56.555442Z",
     "start_time": "2021-05-17T13:54:54.276557Z"
    }
   },
   "outputs": [],
   "source": [
    "import azureml.core\n",
    "import pandas as pd\n",
    "import numpy as np\n",
    "import logging\n",
    "\n",
    "from azureml.core.workspace import Workspace\n",
    "from azureml.core.experiment import Experiment\n",
    "from azureml.train.automl import AutoMLConfig\n",
    "from azureml.automl.core.featurization import FeaturizationConfig"
   ]
  },
  {
   "cell_type": "markdown",
   "metadata": {},
   "source": [
    "This sample notebook may use features that are not available in previous versions of the Azure ML SDK."
   ]
  },
  {
   "cell_type": "code",
   "execution_count": 2,
   "metadata": {
    "ExecuteTime": {
     "end_time": "2021-05-17T13:54:58.712147Z",
     "start_time": "2021-05-17T13:54:58.706249Z"
    }
   },
   "outputs": [
    {
     "name": "stdout",
     "output_type": "stream",
     "text": [
      "This notebook was created using version 1.28.0 of the Azure ML SDK\n",
      "You are currently using version 1.28.0 of the Azure ML SDK\n"
     ]
    }
   ],
   "source": [
    "print(\"This notebook was created using version 1.28.0 of the Azure ML SDK\")\n",
    "print(\"You are currently using version\", azureml.core.VERSION, \"of the Azure ML SDK\")"
   ]
  },
  {
   "cell_type": "markdown",
   "metadata": {},
   "source": [
    "As part of the setup you have already created a <b>Workspace</b>. To run AutoML, you also need to create an <b>Experiment</b>. An Experiment corresponds to a prediction problem you are trying to solve, while a Run corresponds to a specific approach to the problem. "
   ]
  },
  {
   "cell_type": "code",
   "execution_count": 3,
   "metadata": {
    "ExecuteTime": {
     "end_time": "2021-05-17T14:10:56.683924Z",
     "start_time": "2021-05-17T14:10:55.308326Z"
    }
   },
   "outputs": [
    {
     "name": "stderr",
     "output_type": "stream",
     "text": [
      "/anaconda/envs/azureml_py36_automl/lib/python3.6/site-packages/ipykernel_launcher.py:15: FutureWarning: Passing a negative integer is deprecated in version 1.0 and will not be supported in future version. Instead, use None to not limit the column width.\n",
      "  from ipykernel import kernelapp as app\n"
     ]
    },
    {
     "data": {
      "text/html": [
       "<div>\n",
       "<style scoped>\n",
       "    .dataframe tbody tr th:only-of-type {\n",
       "        vertical-align: middle;\n",
       "    }\n",
       "\n",
       "    .dataframe tbody tr th {\n",
       "        vertical-align: top;\n",
       "    }\n",
       "\n",
       "    .dataframe thead th {\n",
       "        text-align: right;\n",
       "    }\n",
       "</style>\n",
       "<table border=\"1\" class=\"dataframe\">\n",
       "  <thead>\n",
       "    <tr style=\"text-align: right;\">\n",
       "      <th></th>\n",
       "      <th></th>\n",
       "    </tr>\n",
       "  </thead>\n",
       "  <tbody>\n",
       "    <tr>\n",
       "      <th>Subscription ID</th>\n",
       "      <td>29e67936-a2a9-4c54-9dd6-26ef6c8c59e2</td>\n",
       "    </tr>\n",
       "    <tr>\n",
       "      <th>Workspace</th>\n",
       "      <td>timeseries-ws</td>\n",
       "    </tr>\n",
       "    <tr>\n",
       "      <th>SKU</th>\n",
       "      <td>Basic</td>\n",
       "    </tr>\n",
       "    <tr>\n",
       "      <th>Resource Group</th>\n",
       "      <td>timeseries-course</td>\n",
       "    </tr>\n",
       "    <tr>\n",
       "      <th>Location</th>\n",
       "      <td>southcentralus</td>\n",
       "    </tr>\n",
       "    <tr>\n",
       "      <th>Run History Name</th>\n",
       "      <td>pax-forecasting</td>\n",
       "    </tr>\n",
       "  </tbody>\n",
       "</table>\n",
       "</div>"
      ],
      "text/plain": [
       "                                                      \n",
       "Subscription ID   29e67936-a2a9-4c54-9dd6-26ef6c8c59e2\n",
       "Workspace         timeseries-ws                       \n",
       "SKU               Basic                               \n",
       "Resource Group    timeseries-course                   \n",
       "Location          southcentralus                      \n",
       "Run History Name  pax-forecasting                     "
      ]
     },
     "execution_count": 3,
     "metadata": {},
     "output_type": "execute_result"
    }
   ],
   "source": [
    "ws = Workspace.from_config()\n",
    "\n",
    "# choose a name for the run history container in the workspace\n",
    "experiment_name = 'pax-forecasting'\n",
    "\n",
    "experiment = Experiment(ws, experiment_name)\n",
    "\n",
    "output = {}\n",
    "output['Subscription ID'] = ws.subscription_id\n",
    "output['Workspace'] = ws.name\n",
    "output['SKU'] = ws.sku\n",
    "output['Resource Group'] = ws.resource_group\n",
    "output['Location'] = ws.location\n",
    "output['Run History Name'] = experiment_name\n",
    "pd.set_option('display.max_colwidth', -1)\n",
    "outputDf = pd.DataFrame(data = output, index = [''])\n",
    "outputDf.T"
   ]
  },
  {
   "cell_type": "markdown",
   "metadata": {},
   "source": [
    "## Compute\n",
    "You will need to create a [compute target](https://docs.microsoft.com/en-us/azure/machine-learning/service/how-to-set-up-training-targets#amlcompute) for your AutoML run. In this tutorial, you create AmlCompute as your training compute resource.\n",
    "\n",
    "> Note that if you have an AzureML Data Scientist role, you will not have permission to create compute resources. Talk to your workspace or IT admin to create the compute targets described in this section, if they do not already exist.\n",
    "\n",
    "#### Creation of AmlCompute takes approximately 5 minutes. \n",
    "If the AmlCompute with that name is already in your workspace this code will skip the creation process.\n",
    "As with other Azure services, there are limits on certain resources (e.g. AmlCompute) associated with the Azure Machine Learning service. Please read [this article](https://docs.microsoft.com/en-us/azure/machine-learning/service/how-to-manage-quotas) on the default limits and how to request more quota."
   ]
  },
  {
   "cell_type": "code",
   "execution_count": 4,
   "metadata": {
    "ExecuteTime": {
     "end_time": "2021-05-17T16:34:29.981447Z",
     "start_time": "2021-05-17T16:34:29.792611Z"
    }
   },
   "outputs": [
    {
     "name": "stdout",
     "output_type": "stream",
     "text": [
      "Found existing cluster, use it.\n",
      "Succeeded\n",
      "AmlCompute wait for completion finished\n",
      "\n",
      "Minimum number of nodes requested have been provisioned\n"
     ]
    }
   ],
   "source": [
    "from azureml.core.compute import ComputeTarget, AmlCompute\n",
    "from azureml.core.compute_target import ComputeTargetException\n",
    "\n",
    "# Choose a name for your CPU cluster\n",
    "amlcompute_cluster_name = \"automl-cluster\"\n",
    "\n",
    "# Verify that cluster does not exist already\n",
    "try:\n",
    "    compute_target = ComputeTarget(workspace=ws, name=amlcompute_cluster_name)\n",
    "    print('Found existing cluster, use it.')\n",
    "except ComputeTargetException:\n",
    "    compute_config = AmlCompute.provisioning_configuration(vm_size='STANDARD_D2_V2',\n",
    "                                                           max_nodes=2)\n",
    "    compute_target = ComputeTarget.create(ws, amlcompute_cluster_name, compute_config)\n",
    "\n",
    "compute_target.wait_for_completion(show_output=True)"
   ]
  },
  {
   "cell_type": "markdown",
   "metadata": {},
   "source": [
    "# Data Load \n",
    "* Let's load interstate traffic volumes along with some descriptive variables of weather \n",
    "* Let’s drop duplicates, as the same hour has different weather conditions.\n"
   ]
  },
  {
   "cell_type": "code",
   "execution_count": 5,
   "metadata": {
    "ExecuteTime": {
     "end_time": "2021-05-17T16:38:20.813629Z",
     "start_time": "2021-05-17T16:38:20.669927Z"
    }
   },
   "outputs": [
    {
     "data": {
      "text/html": [
       "<div>\n",
       "<style scoped>\n",
       "    .dataframe tbody tr th:only-of-type {\n",
       "        vertical-align: middle;\n",
       "    }\n",
       "\n",
       "    .dataframe tbody tr th {\n",
       "        vertical-align: top;\n",
       "    }\n",
       "\n",
       "    .dataframe thead th {\n",
       "        text-align: right;\n",
       "    }\n",
       "</style>\n",
       "<table border=\"1\" class=\"dataframe\">\n",
       "  <thead>\n",
       "    <tr style=\"text-align: right;\">\n",
       "      <th></th>\n",
       "      <th>holiday</th>\n",
       "      <th>temp</th>\n",
       "      <th>rain_1h</th>\n",
       "      <th>snow_1h</th>\n",
       "      <th>clouds_all</th>\n",
       "      <th>weather_main</th>\n",
       "      <th>weather_description</th>\n",
       "      <th>date_time</th>\n",
       "      <th>traffic_volume</th>\n",
       "    </tr>\n",
       "  </thead>\n",
       "  <tbody>\n",
       "    <tr>\n",
       "      <th>0</th>\n",
       "      <td>None</td>\n",
       "      <td>288.28</td>\n",
       "      <td>0.0</td>\n",
       "      <td>0.0</td>\n",
       "      <td>40</td>\n",
       "      <td>Clouds</td>\n",
       "      <td>scattered clouds</td>\n",
       "      <td>2012-10-02 09:00:00</td>\n",
       "      <td>5545</td>\n",
       "    </tr>\n",
       "    <tr>\n",
       "      <th>1</th>\n",
       "      <td>None</td>\n",
       "      <td>289.36</td>\n",
       "      <td>0.0</td>\n",
       "      <td>0.0</td>\n",
       "      <td>75</td>\n",
       "      <td>Clouds</td>\n",
       "      <td>broken clouds</td>\n",
       "      <td>2012-10-02 10:00:00</td>\n",
       "      <td>4516</td>\n",
       "    </tr>\n",
       "    <tr>\n",
       "      <th>2</th>\n",
       "      <td>None</td>\n",
       "      <td>289.58</td>\n",
       "      <td>0.0</td>\n",
       "      <td>0.0</td>\n",
       "      <td>90</td>\n",
       "      <td>Clouds</td>\n",
       "      <td>overcast clouds</td>\n",
       "      <td>2012-10-02 11:00:00</td>\n",
       "      <td>4767</td>\n",
       "    </tr>\n",
       "    <tr>\n",
       "      <th>3</th>\n",
       "      <td>None</td>\n",
       "      <td>290.13</td>\n",
       "      <td>0.0</td>\n",
       "      <td>0.0</td>\n",
       "      <td>90</td>\n",
       "      <td>Clouds</td>\n",
       "      <td>overcast clouds</td>\n",
       "      <td>2012-10-02 12:00:00</td>\n",
       "      <td>5026</td>\n",
       "    </tr>\n",
       "    <tr>\n",
       "      <th>4</th>\n",
       "      <td>None</td>\n",
       "      <td>291.14</td>\n",
       "      <td>0.0</td>\n",
       "      <td>0.0</td>\n",
       "      <td>75</td>\n",
       "      <td>Clouds</td>\n",
       "      <td>broken clouds</td>\n",
       "      <td>2012-10-02 13:00:00</td>\n",
       "      <td>4918</td>\n",
       "    </tr>\n",
       "  </tbody>\n",
       "</table>\n",
       "</div>"
      ],
      "text/plain": [
       "  holiday    temp  rain_1h  snow_1h  clouds_all weather_main  \\\n",
       "0  None    288.28  0.0      0.0      40          Clouds        \n",
       "1  None    289.36  0.0      0.0      75          Clouds        \n",
       "2  None    289.58  0.0      0.0      90          Clouds        \n",
       "3  None    290.13  0.0      0.0      90          Clouds        \n",
       "4  None    291.14  0.0      0.0      75          Clouds        \n",
       "\n",
       "  weather_description            date_time  traffic_volume  \n",
       "0  scattered clouds    2012-10-02 09:00:00  5545            \n",
       "1  broken clouds       2012-10-02 10:00:00  4516            \n",
       "2  overcast clouds     2012-10-02 11:00:00  4767            \n",
       "3  overcast clouds     2012-10-02 12:00:00  5026            \n",
       "4  broken clouds       2012-10-02 13:00:00  4918            "
      ]
     },
     "execution_count": 5,
     "metadata": {},
     "output_type": "execute_result"
    }
   ],
   "source": [
    "df = pd.read_csv(r'../../data/Metro_Interstate_Traffic_Volume.csv')\n",
    "df.drop_duplicates(subset=['date_time'], keep=False,inplace=True)\n",
    "df = df.sort_values('date_time')\n",
    "df.head()"
   ]
  },
  {
   "cell_type": "markdown",
   "metadata": {},
   "source": [
    "## Data Splitting\n",
    "We now split the data into a training and a testing set for later forecast evaluation. The test set will contain the final 8,000 observiations. "
   ]
  },
  {
   "cell_type": "code",
   "execution_count": 6,
   "metadata": {
    "ExecuteTime": {
     "end_time": "2021-05-17T16:38:46.711146Z",
     "start_time": "2021-05-17T16:38:46.675567Z"
    }
   },
   "outputs": [
    {
     "data": {
      "text/html": [
       "<div>\n",
       "<style scoped>\n",
       "    .dataframe tbody tr th:only-of-type {\n",
       "        vertical-align: middle;\n",
       "    }\n",
       "\n",
       "    .dataframe tbody tr th {\n",
       "        vertical-align: top;\n",
       "    }\n",
       "\n",
       "    .dataframe thead th {\n",
       "        text-align: right;\n",
       "    }\n",
       "</style>\n",
       "<table border=\"1\" class=\"dataframe\">\n",
       "  <thead>\n",
       "    <tr style=\"text-align: right;\">\n",
       "      <th></th>\n",
       "      <th>holiday</th>\n",
       "      <th>temp</th>\n",
       "      <th>rain_1h</th>\n",
       "      <th>snow_1h</th>\n",
       "      <th>clouds_all</th>\n",
       "      <th>weather_main</th>\n",
       "      <th>weather_description</th>\n",
       "      <th>date_time</th>\n",
       "      <th>traffic_volume</th>\n",
       "    </tr>\n",
       "  </thead>\n",
       "  <tbody>\n",
       "    <tr>\n",
       "      <th>0</th>\n",
       "      <td>None</td>\n",
       "      <td>288.28</td>\n",
       "      <td>0.0</td>\n",
       "      <td>0.0</td>\n",
       "      <td>40</td>\n",
       "      <td>Clouds</td>\n",
       "      <td>scattered clouds</td>\n",
       "      <td>2012-10-02 09:00:00</td>\n",
       "      <td>5545</td>\n",
       "    </tr>\n",
       "    <tr>\n",
       "      <th>1</th>\n",
       "      <td>None</td>\n",
       "      <td>289.36</td>\n",
       "      <td>0.0</td>\n",
       "      <td>0.0</td>\n",
       "      <td>75</td>\n",
       "      <td>Clouds</td>\n",
       "      <td>broken clouds</td>\n",
       "      <td>2012-10-02 10:00:00</td>\n",
       "      <td>4516</td>\n",
       "    </tr>\n",
       "    <tr>\n",
       "      <th>2</th>\n",
       "      <td>None</td>\n",
       "      <td>289.58</td>\n",
       "      <td>0.0</td>\n",
       "      <td>0.0</td>\n",
       "      <td>90</td>\n",
       "      <td>Clouds</td>\n",
       "      <td>overcast clouds</td>\n",
       "      <td>2012-10-02 11:00:00</td>\n",
       "      <td>4767</td>\n",
       "    </tr>\n",
       "    <tr>\n",
       "      <th>3</th>\n",
       "      <td>None</td>\n",
       "      <td>290.13</td>\n",
       "      <td>0.0</td>\n",
       "      <td>0.0</td>\n",
       "      <td>90</td>\n",
       "      <td>Clouds</td>\n",
       "      <td>overcast clouds</td>\n",
       "      <td>2012-10-02 12:00:00</td>\n",
       "      <td>5026</td>\n",
       "    </tr>\n",
       "    <tr>\n",
       "      <th>4</th>\n",
       "      <td>None</td>\n",
       "      <td>291.14</td>\n",
       "      <td>0.0</td>\n",
       "      <td>0.0</td>\n",
       "      <td>75</td>\n",
       "      <td>Clouds</td>\n",
       "      <td>broken clouds</td>\n",
       "      <td>2012-10-02 13:00:00</td>\n",
       "      <td>4918</td>\n",
       "    </tr>\n",
       "    <tr>\n",
       "      <th>...</th>\n",
       "      <td>...</td>\n",
       "      <td>...</td>\n",
       "      <td>...</td>\n",
       "      <td>...</td>\n",
       "      <td>...</td>\n",
       "      <td>...</td>\n",
       "      <td>...</td>\n",
       "      <td>...</td>\n",
       "      <td>...</td>\n",
       "    </tr>\n",
       "    <tr>\n",
       "      <th>36840</th>\n",
       "      <td>None</td>\n",
       "      <td>290.22</td>\n",
       "      <td>0.0</td>\n",
       "      <td>0.0</td>\n",
       "      <td>90</td>\n",
       "      <td>Clouds</td>\n",
       "      <td>overcast clouds</td>\n",
       "      <td>2017-09-02 07:00:00</td>\n",
       "      <td>2235</td>\n",
       "    </tr>\n",
       "    <tr>\n",
       "      <th>36843</th>\n",
       "      <td>None</td>\n",
       "      <td>290.72</td>\n",
       "      <td>0.0</td>\n",
       "      <td>0.0</td>\n",
       "      <td>90</td>\n",
       "      <td>Clouds</td>\n",
       "      <td>overcast clouds</td>\n",
       "      <td>2017-09-02 09:00:00</td>\n",
       "      <td>3854</td>\n",
       "    </tr>\n",
       "    <tr>\n",
       "      <th>36844</th>\n",
       "      <td>None</td>\n",
       "      <td>291.48</td>\n",
       "      <td>0.0</td>\n",
       "      <td>0.0</td>\n",
       "      <td>90</td>\n",
       "      <td>Mist</td>\n",
       "      <td>mist</td>\n",
       "      <td>2017-09-02 10:00:00</td>\n",
       "      <td>4519</td>\n",
       "    </tr>\n",
       "    <tr>\n",
       "      <th>36845</th>\n",
       "      <td>None</td>\n",
       "      <td>292.68</td>\n",
       "      <td>0.0</td>\n",
       "      <td>0.0</td>\n",
       "      <td>75</td>\n",
       "      <td>Clouds</td>\n",
       "      <td>broken clouds</td>\n",
       "      <td>2017-09-02 11:00:00</td>\n",
       "      <td>4720</td>\n",
       "    </tr>\n",
       "    <tr>\n",
       "      <th>36846</th>\n",
       "      <td>None</td>\n",
       "      <td>295.01</td>\n",
       "      <td>0.0</td>\n",
       "      <td>0.0</td>\n",
       "      <td>40</td>\n",
       "      <td>Haze</td>\n",
       "      <td>haze</td>\n",
       "      <td>2017-09-02 12:00:00</td>\n",
       "      <td>4840</td>\n",
       "    </tr>\n",
       "  </tbody>\n",
       "</table>\n",
       "<p>27130 rows × 9 columns</p>\n",
       "</div>"
      ],
      "text/plain": [
       "      holiday    temp  rain_1h  snow_1h  clouds_all weather_main  \\\n",
       "0      None    288.28  0.0      0.0      40          Clouds        \n",
       "1      None    289.36  0.0      0.0      75          Clouds        \n",
       "2      None    289.58  0.0      0.0      90          Clouds        \n",
       "3      None    290.13  0.0      0.0      90          Clouds        \n",
       "4      None    291.14  0.0      0.0      75          Clouds        \n",
       "...     ...       ...  ...      ...      ..             ...        \n",
       "36840  None    290.22  0.0      0.0      90          Clouds        \n",
       "36843  None    290.72  0.0      0.0      90          Clouds        \n",
       "36844  None    291.48  0.0      0.0      90          Mist          \n",
       "36845  None    292.68  0.0      0.0      75          Clouds        \n",
       "36846  None    295.01  0.0      0.0      40          Haze          \n",
       "\n",
       "      weather_description            date_time  traffic_volume  \n",
       "0      scattered clouds    2012-10-02 09:00:00  5545            \n",
       "1      broken clouds       2012-10-02 10:00:00  4516            \n",
       "2      overcast clouds     2012-10-02 11:00:00  4767            \n",
       "3      overcast clouds     2012-10-02 12:00:00  5026            \n",
       "4      broken clouds       2012-10-02 13:00:00  4918            \n",
       "...              ...                       ...   ...            \n",
       "36840  overcast clouds     2017-09-02 07:00:00  2235            \n",
       "36843  overcast clouds     2017-09-02 09:00:00  3854            \n",
       "36844  mist                2017-09-02 10:00:00  4519            \n",
       "36845  broken clouds       2017-09-02 11:00:00  4720            \n",
       "36846  haze                2017-09-02 12:00:00  4840            \n",
       "\n",
       "[27130 rows x 9 columns]"
      ]
     },
     "execution_count": 6,
     "metadata": {},
     "output_type": "execute_result"
    }
   ],
   "source": [
    "n = 8000\n",
    "train = df.iloc[:-n]\n",
    "test = df.iloc[-n:]\n",
    "train"
   ]
  },
  {
   "cell_type": "markdown",
   "metadata": {},
   "source": [
    "# Problem 1: `Upload data to datastore`\n",
    "The [Machine Learning service workspace](https://docs.microsoft.com/en-us/azure/machine-learning/service/concept-workspace), is paired with the storage account, which contains the default data store. We will use it to upload the train and test data and create [tabular datasets](https://docs.microsoft.com/en-us/python/api/azureml-core/azureml.data.tabulardataset?view=azure-ml-py) for training and testing. A tabular dataset defines a series of lazily-evaluated, immutable operations to load data from the data source into tabular representation.\n",
    "\n",
    "* Write `train` & `test` to local CSVs\n",
    "* Use the default datastore's `upload_files` method to upload them to Azure"
   ]
  },
  {
   "cell_type": "code",
   "execution_count": null,
   "metadata": {},
   "outputs": [],
   "source": [
    "# code here"
   ]
  },
  {
   "cell_type": "code",
   "execution_count": 8,
   "metadata": {
    "ExecuteTime": {
     "end_time": "2021-05-17T16:39:10.361414Z",
     "start_time": "2021-05-17T16:39:08.664460Z"
    }
   },
   "outputs": [
    {
     "name": "stdout",
     "output_type": "stream",
     "text": [
      "Uploading an estimated of 2 files\n",
      "Uploading ./traffic_train.csv\n",
      "Uploaded ./traffic_train.csv, 1 files out of an estimated total of 2\n",
      "Uploading ./traffic_test.csv\n",
      "Uploaded ./traffic_test.csv, 2 files out of an estimated total of 2\n",
      "Uploaded 2 files\n"
     ]
    },
    {
     "data": {
      "text/plain": [
       "$AZUREML_DATAREFERENCE_6ca8521b04874b76a1f80110c57195fd"
      ]
     },
     "execution_count": 8,
     "metadata": {},
     "output_type": "execute_result"
    }
   ],
   "source": [
    "# don't delete this cell, but try to reproduce it's output"
   ]
  },
  {
   "cell_type": "markdown",
   "metadata": {},
   "source": [
    "# Problem 2:  `Create dataset for training`\n",
    "\n",
    "* Instanitate a Tabular `azureml.core.dataset.Dataset` by using the `from_delimited_files` to load the training CSV from the default datastore\n",
    "* Print the tail of that tabular dataset"
   ]
  },
  {
   "cell_type": "code",
   "execution_count": null,
   "metadata": {},
   "outputs": [],
   "source": [
    "# code here"
   ]
  },
  {
   "cell_type": "code",
   "execution_count": 9,
   "metadata": {
    "ExecuteTime": {
     "end_time": "2021-05-17T16:39:14.464548Z",
     "start_time": "2021-05-17T16:39:13.590655Z"
    }
   },
   "outputs": [
    {
     "data": {
      "text/html": [
       "<div>\n",
       "<style scoped>\n",
       "    .dataframe tbody tr th:only-of-type {\n",
       "        vertical-align: middle;\n",
       "    }\n",
       "\n",
       "    .dataframe tbody tr th {\n",
       "        vertical-align: top;\n",
       "    }\n",
       "\n",
       "    .dataframe thead th {\n",
       "        text-align: right;\n",
       "    }\n",
       "</style>\n",
       "<table border=\"1\" class=\"dataframe\">\n",
       "  <thead>\n",
       "    <tr style=\"text-align: right;\">\n",
       "      <th></th>\n",
       "      <th>holiday</th>\n",
       "      <th>temp</th>\n",
       "      <th>rain_1h</th>\n",
       "      <th>snow_1h</th>\n",
       "      <th>clouds_all</th>\n",
       "      <th>weather_main</th>\n",
       "      <th>weather_description</th>\n",
       "      <th>date_time</th>\n",
       "      <th>traffic_volume</th>\n",
       "    </tr>\n",
       "  </thead>\n",
       "  <tbody>\n",
       "    <tr>\n",
       "      <th>27125</th>\n",
       "      <td>None</td>\n",
       "      <td>290.22</td>\n",
       "      <td>0.0</td>\n",
       "      <td>0.0</td>\n",
       "      <td>90</td>\n",
       "      <td>Clouds</td>\n",
       "      <td>overcast clouds</td>\n",
       "      <td>2017-09-02 07:00:00</td>\n",
       "      <td>2235</td>\n",
       "    </tr>\n",
       "    <tr>\n",
       "      <th>27126</th>\n",
       "      <td>None</td>\n",
       "      <td>290.72</td>\n",
       "      <td>0.0</td>\n",
       "      <td>0.0</td>\n",
       "      <td>90</td>\n",
       "      <td>Clouds</td>\n",
       "      <td>overcast clouds</td>\n",
       "      <td>2017-09-02 09:00:00</td>\n",
       "      <td>3854</td>\n",
       "    </tr>\n",
       "    <tr>\n",
       "      <th>27127</th>\n",
       "      <td>None</td>\n",
       "      <td>291.48</td>\n",
       "      <td>0.0</td>\n",
       "      <td>0.0</td>\n",
       "      <td>90</td>\n",
       "      <td>Mist</td>\n",
       "      <td>mist</td>\n",
       "      <td>2017-09-02 10:00:00</td>\n",
       "      <td>4519</td>\n",
       "    </tr>\n",
       "    <tr>\n",
       "      <th>27128</th>\n",
       "      <td>None</td>\n",
       "      <td>292.68</td>\n",
       "      <td>0.0</td>\n",
       "      <td>0.0</td>\n",
       "      <td>75</td>\n",
       "      <td>Clouds</td>\n",
       "      <td>broken clouds</td>\n",
       "      <td>2017-09-02 11:00:00</td>\n",
       "      <td>4720</td>\n",
       "    </tr>\n",
       "    <tr>\n",
       "      <th>27129</th>\n",
       "      <td>None</td>\n",
       "      <td>295.01</td>\n",
       "      <td>0.0</td>\n",
       "      <td>0.0</td>\n",
       "      <td>40</td>\n",
       "      <td>Haze</td>\n",
       "      <td>haze</td>\n",
       "      <td>2017-09-02 12:00:00</td>\n",
       "      <td>4840</td>\n",
       "    </tr>\n",
       "  </tbody>\n",
       "</table>\n",
       "</div>"
      ],
      "text/plain": [
       "      holiday    temp  rain_1h  snow_1h  clouds_all weather_main  \\\n",
       "27125  None    290.22  0.0      0.0      90          Clouds        \n",
       "27126  None    290.72  0.0      0.0      90          Clouds        \n",
       "27127  None    291.48  0.0      0.0      90          Mist          \n",
       "27128  None    292.68  0.0      0.0      75          Clouds        \n",
       "27129  None    295.01  0.0      0.0      40          Haze          \n",
       "\n",
       "      weather_description           date_time  traffic_volume  \n",
       "27125  overcast clouds    2017-09-02 07:00:00  2235            \n",
       "27126  overcast clouds    2017-09-02 09:00:00  3854            \n",
       "27127  mist               2017-09-02 10:00:00  4519            \n",
       "27128  broken clouds      2017-09-02 11:00:00  4720            \n",
       "27129  haze               2017-09-02 12:00:00  4840            "
      ]
     },
     "execution_count": 9,
     "metadata": {},
     "output_type": "execute_result"
    }
   ],
   "source": [
    "# don't delete this cell, but try to reproduce it's output"
   ]
  },
  {
   "cell_type": "markdown",
   "metadata": {},
   "source": [
    "# Problem 3: `Define target & time columns`\n",
    "\n",
    "The 2 key columns for AutoML are the time and target columns\n",
    "\n",
    "1. `time_column_name`: Initialize a simply python variable with this name & set's value to the appropriate column name in our dataset\n",
    "1. `target_column_name`: Initialize a simply python variable with this name & set's value to the appropriate column name in our dataset"
   ]
  },
  {
   "cell_type": "code",
   "execution_count": 11,
   "metadata": {
    "ExecuteTime": {
     "end_time": "2021-05-17T16:39:20.292962Z",
     "start_time": "2021-05-17T16:39:20.290219Z"
    }
   },
   "outputs": [],
   "source": [
    "#code here"
   ]
  },
  {
   "cell_type": "markdown",
   "metadata": {},
   "source": [
    "# Problem 4: `Forecasting Parameters`\n",
    "To define forecasting parameters for your experiment training, you can leverage the ForecastingParameters class. The table below details the forecasting parameter we will be passing into our experiment.\n",
    "\n",
    "\n",
    "|Property|Description|\n",
    "|-|-|\n",
    "|**time_column_name**|The name of your time column.|\n",
    "|**forecast_horizon**|The forecast horizon is how many periods forward you would like to forecast. This integer horizon is in units of the timeseries frequency (e.g. daily, weekly).|\n",
    "|**time_series_id_column_names**|The column names used to uniquely identify the time series in data that has multiple rows with the same timestamp. If the time series identifiers are not defined, the data set is assumed to be one time series.|\n",
    "|**freq**|Forecast frequency. This optional parameter represents the period with which the forecast is desired, for example, daily, weekly, yearly, etc. Use this parameter for the correction of time series containing irregular data points or for padding of short time series. The frequency needs to be a pandas offset alias. Please refer to [pandas documentation](https://pandas.pydata.org/pandas-docs/stable/user_guide/timeseries.html#dateoffset-objects) for more information.\n",
    "\n",
    "* Set the forecasting parameter of `time_column_name` to time_column_name\n",
    "* Set the forecasting parameter of `forecast_horizon` to 24\n",
    "* Set the forecasting parameter of `freq` to the appropriate pandas offset alias"
   ]
  },
  {
   "cell_type": "code",
   "execution_count": 13,
   "metadata": {},
   "outputs": [
    {
     "name": "stdout",
     "output_type": "stream",
     "text": [
      "<azureml.automl.core.forecasting_parameters.ForecastingParameters object at 0x7f03ddc295c0>\n"
     ]
    }
   ],
   "source": [
    "# code here"
   ]
  },
  {
   "cell_type": "markdown",
   "metadata": {},
   "source": [
    "# Problem 5: `AutoMLConfig`\n",
    "\n",
    "Instantiate a `AutoMLConfig` object with the appropriate parameters:\n",
    "\n",
    "* `primary_metric`\n",
    "* `training_data`\n",
    "* `label_column_name`\n",
    "* `compute_target` : the compute_target we created above\n",
    "* `forecasting_parameters`: the forecasting_parameters we created above"
   ]
  },
  {
   "cell_type": "code",
   "execution_count": 14,
   "metadata": {
    "ExecuteTime": {
     "end_time": "2021-05-17T16:34:42.429427Z",
     "start_time": "2021-05-17T16:34:42.423815Z"
    }
   },
   "outputs": [],
   "source": [
    "# code here"
   ]
  },
  {
   "cell_type": "markdown",
   "metadata": {},
   "source": [
    "# Problem 6: `Submit Training Run`\n",
    "\n",
    "You can now submit a new training run. Depending on the data and number of iterations this operation may take several minutes.\n",
    "Information from each iteration will be printed to the console.  Validation errors and current status will be shown when setting `show_output=True` and the execution will be synchronous."
   ]
  },
  {
   "cell_type": "code",
   "execution_count": null,
   "metadata": {},
   "outputs": [],
   "source": [
    "# code here"
   ]
  },
  {
   "cell_type": "code",
   "execution_count": 45,
   "metadata": {
    "ExecuteTime": {
     "end_time": "2021-05-17T16:58:29.792385Z",
     "start_time": "2021-05-17T16:40:14.640413Z"
    }
   },
   "outputs": [
    {
     "name": "stdout",
     "output_type": "stream",
     "text": [
      "Submitting remote run.\n",
      "Running on remote compute: automl-cluster\n"
     ]
    },
    {
     "data": {
      "text/html": [
       "<table style=\"width:100%\"><tr><th>Experiment</th><th>Id</th><th>Type</th><th>Status</th><th>Details Page</th><th>Docs Page</th></tr><tr><td>pax-forecasting</td><td>AutoML_483be5be-11d8-4399-8ec6-bad0a60a995e</td><td>automl</td><td>NotStarted</td><td><a href=\"https://ml.azure.com/runs/AutoML_483be5be-11d8-4399-8ec6-bad0a60a995e?wsid=/subscriptions/29e67936-a2a9-4c54-9dd6-26ef6c8c59e2/resourcegroups/timeseries-course/workspaces/timeseries-ws&amp;tid=730a34de-9192-47e3-93ac-f319e522053d\" target=\"_blank\" rel=\"noopener\">Link to Azure Machine Learning studio</a></td><td><a href=\"https://docs.microsoft.com/en-us/python/api/overview/azure/ml/intro?view=azure-ml-py\" target=\"_blank\" rel=\"noopener\">Link to Documentation</a></td></tr></table>"
      ],
      "text/plain": [
       "<IPython.core.display.HTML object>"
      ]
     },
     "metadata": {},
     "output_type": "display_data"
    },
    {
     "name": "stdout",
     "output_type": "stream",
     "text": [
      "\n",
      "Current status: DatasetFeaturization. Beginning to featurize the dataset.\n",
      "Current status: ModelSelection. Beginning model selection.\n",
      "\n",
      "****************************************************************************************************\n",
      "DATA GUARDRAILS: \n",
      "\n",
      "TYPE:         Short series handling\n",
      "STATUS:       PASSED\n",
      "DESCRIPTION:  Automated ML detected enough data points for each series in the input data to continue with training.\n",
      "              \n",
      "\n",
      "****************************************************************************************************\n",
      "\n",
      "TYPE:         Frequency detection\n",
      "STATUS:       PASSED\n",
      "DESCRIPTION:  The time series was analyzed, all data points are aligned with detected frequency.\n",
      "              \n",
      "\n",
      "****************************************************************************************************\n",
      "\n",
      "TYPE:         Missing feature values imputation\n",
      "STATUS:       PASSED\n",
      "DESCRIPTION:  No feature missing values were detected in the training data.\n",
      "              Learn more about missing value imputation: https://aka.ms/AutomatedMLFeaturization\n",
      "\n",
      "****************************************************************************************************\n",
      "\n",
      "****************************************************************************************************\n",
      "ITERATION: The iteration being evaluated.\n",
      "PIPELINE: A summary description of the pipeline being evaluated.\n",
      "DURATION: Time taken for the current iteration.\n",
      "METRIC: The result of computing score on the fitted pipeline.\n",
      "BEST: The best observed score thus far.\n",
      "****************************************************************************************************\n",
      "\n",
      " ITERATION   PIPELINE                                       DURATION      METRIC      BEST\n",
      "         0    AutoArima                                     0:08:11       0.1650    0.1650\n",
      "         1    ProphetModel                                  0:03:11       0.0735    0.0735\n",
      "         2    Naive                                         0:01:10       0.2642    0.0735\n",
      "         3    SeasonalNaive                                 0:00:46       0.1326    0.0735\n",
      "         4    Average                                       0:00:50       0.2691    0.0735\n",
      "         5    VotingEnsemble                                0:00:53       0.1212    0.0735\n"
     ]
    }
   ],
   "source": [
    "# don't delete this cell, but try to reproduce it's output"
   ]
  },
  {
   "cell_type": "markdown",
   "metadata": {},
   "source": [
    "# Problem 7:  `Retrieve the Best Model`\n",
    "Each run within an Experiment stores serialized (i.e. pickled) pipelines from the AutoML iterations. We can now retrieve the pipeline with the best performance on the validation dataset:\n",
    "\n",
    "* Print the best model's steps in it's pipeline"
   ]
  },
  {
   "cell_type": "code",
   "execution_count": null,
   "metadata": {},
   "outputs": [],
   "source": [
    "# code here"
   ]
  },
  {
   "cell_type": "code",
   "execution_count": 47,
   "metadata": {
    "ExecuteTime": {
     "end_time": "2021-05-17T18:03:37.502934Z",
     "start_time": "2021-05-17T18:03:30.125032Z"
    }
   },
   "outputs": [
    {
     "name": "stderr",
     "output_type": "stream",
     "text": [
      "ERROR:fbprophet:Importing plotly failed. Interactive plots will not work.\n"
     ]
    },
    {
     "name": "stdout",
     "output_type": "stream",
     "text": [
      "[('timeseriestransformer', TimeSeriesTransformer(\n",
      "    pipeline_type=TimeSeriesPipelineType.FULL,\n",
      "    max_horizon=24,\n",
      "    use_stl=None,\n",
      "    seasonality=24,\n",
      "    force_time_index_features=None,\n",
      "    grain_column_names=['_automl_dummy_grain_col'],\n",
      "    drop_column_names=[],\n",
      "    origin_time_colname='origin',\n",
      "    group=None,\n",
      "    country_or_region=None,\n",
      "    freq='H',\n",
      "    time_column_name='date_time',\n",
      "    pipeline=Pipeline(\n",
      "        memory=None,\n",
      "        steps=[('make_numeric_na_dummies', MissingDummiesTransformer(\n",
      "            numerical_columns=['temp', 'rain_1h', 'snow_1h', 'clouds_all']\n",
      "        )), ('impute_na_numeric_datetime', TimeSeriesImputer(\n",
      "            end=None,\n",
      "            freq='H',\n",
      "            impute_by_horizon=False,\n",
      "            input_column=['temp', 'rain_1h', 'snow_1h', 'clouds_all'],\n",
      "            limit=None,\n",
      "            limit_direction='forward',\n",
      "            method=OrderedDict([('ffill', [])]),\n",
      "            option='fillna',\n",
      "            order=None,\n",
      "            origin=None,\n",
      "            value={'temp': 283.325, 'rain_1h': 0.0, 'snow_1h': 0.0, 'clouds_all': 40.0}\n",
      "        )), ('grain_dropper', ShortGrainDropper()), ('restore_dtypes_transform', RestoreDtypesTransformer(\n",
      "            target_column='_automl_target_col',\n",
      "            dtypes={'temp': dtype('float64'), 'weather_main': dtype('O'), 'snow_1h': dtype('float64'), 'rain_1h': dtype('float64'), 'clouds_all': dtype('int64'), '_automl_target_col': dtype('int64'), 'weather_description': dtype('O'), 'holiday': dtype('O')}\n",
      "        )), ('make_categoricals_numeric', NumericalizeTransformer(\n",
      "            include_columns=set(),\n",
      "            exclude_columns=set()\n",
      "        )), ('make_time_index_featuers', TimeIndexFeaturizer(\n",
      "            correlation_cutoff=0.99,\n",
      "            country_or_region=None,\n",
      "            datetime_columns=None,\n",
      "            force_feature_list=None,\n",
      "            freq='H',\n",
      "            overwrite_columns=True,\n",
      "            prune_features=True\n",
      "        )), ('make_categoricals_onehot', CategoryBinarizer(\n",
      "            columns=[],\n",
      "            drop_first=False,\n",
      "            dummy_na=False,\n",
      "            encode_all_categoricals=False,\n",
      "            prefix=None,\n",
      "            prefix_sep='_'\n",
      "        ))],\n",
      "        verbose=False\n",
      "    ),\n",
      "    featurization_config=FeaturizationConfig(\n",
      "        blocked_transformers=None,\n",
      "        column_purposes=None,\n",
      "        transformer_params=None,\n",
      "        dataset_language=None,\n",
      "        drop_columns=None\n",
      "    ),\n",
      "    time_index_non_holiday_features=['_automl_year', '_automl_half', '_automl_quarter', '_automl_month', '_automl_day', '_automl_hour', '_automl_am_pm', '_automl_hour12', '_automl_wday', '_automl_qday', '_automl_week'],\n",
      "    lookback_features_removed=False\n",
      ")), ('ProphetModel', ProphetModel(\n",
      "    timeseries_param_dict={'time_column_name': 'date_time', 'grain_column_names': None, 'drop_column_names': [], 'overwrite_columns': True, 'dropna': False, 'transform_dictionary': {'min': '_automl_target_col', 'max': '_automl_target_col', 'mean': '_automl_target_col'}, 'max_horizon': 24, 'origin_time_colname': 'origin', 'country_or_region': None, 'n_cross_validations': 3, 'short_series_handling': True, 'max_cores_per_iteration': -1, 'feature_lags': None, 'target_aggregation_function': None, 'seasonality': 24, 'use_stl': None, 'freq': <Hour>, 'short_series_handling_configuration': 'auto', 'target_lags': [0], 'target_rolling_window_size': 0, 'arimax_raw_columns': ['temp', 'date_time', 'weather_main', 'snow_1h', 'rain_1h', 'clouds_all', 'weather_description', 'holiday']},\n",
      "    prophet_param_dict={'uncertainty_samples': 0}\n",
      "))]\n"
     ]
    }
   ],
   "source": [
    "# don't delete this cell, but try to reproduce it's output"
   ]
  },
  {
   "cell_type": "markdown",
   "metadata": {},
   "source": [
    "# Problem 8:  `Transparency`\n",
    "\n",
    "Print updated featurization summary"
   ]
  },
  {
   "cell_type": "code",
   "execution_count": 48,
   "metadata": {
    "ExecuteTime": {
     "end_time": "2021-05-17T18:03:47.674377Z",
     "start_time": "2021-05-17T18:03:47.662843Z"
    }
   },
   "outputs": [],
   "source": [
    "# code ehre"
   ]
  },
  {
   "cell_type": "code",
   "execution_count": 49,
   "metadata": {
    "ExecuteTime": {
     "end_time": "2021-05-17T18:03:50.814367Z",
     "start_time": "2021-05-17T18:03:50.798778Z"
    }
   },
   "outputs": [
    {
     "data": {
      "text/plain": [
       "[{'RawFeatureName': 'holiday',\n",
       "  'TypeDetected': 'Categorical',\n",
       "  'Dropped': 'No',\n",
       "  'EngineeredFeatureCount': 1,\n",
       "  'Transformations': ['LabelEncoder']},\n",
       " {'RawFeatureName': 'temp',\n",
       "  'TypeDetected': 'Numeric',\n",
       "  'Dropped': 'No',\n",
       "  'EngineeredFeatureCount': 2,\n",
       "  'Transformations': ['MedianImputer', 'ImputationMarker']},\n",
       " {'RawFeatureName': 'rain_1h',\n",
       "  'TypeDetected': 'Numeric',\n",
       "  'Dropped': 'No',\n",
       "  'EngineeredFeatureCount': 2,\n",
       "  'Transformations': ['MedianImputer', 'ImputationMarker']},\n",
       " {'RawFeatureName': 'snow_1h',\n",
       "  'TypeDetected': 'Numeric',\n",
       "  'Dropped': 'No',\n",
       "  'EngineeredFeatureCount': 2,\n",
       "  'Transformations': ['MedianImputer', 'ImputationMarker']},\n",
       " {'RawFeatureName': 'clouds_all',\n",
       "  'TypeDetected': 'Numeric',\n",
       "  'Dropped': 'No',\n",
       "  'EngineeredFeatureCount': 2,\n",
       "  'Transformations': ['MedianImputer', 'ImputationMarker']},\n",
       " {'RawFeatureName': 'weather_main',\n",
       "  'TypeDetected': 'Categorical',\n",
       "  'Dropped': 'No',\n",
       "  'EngineeredFeatureCount': 1,\n",
       "  'Transformations': ['LabelEncoder']},\n",
       " {'RawFeatureName': 'weather_description',\n",
       "  'TypeDetected': 'Categorical',\n",
       "  'Dropped': 'No',\n",
       "  'EngineeredFeatureCount': 1,\n",
       "  'Transformations': ['LabelEncoder']},\n",
       " {'RawFeatureName': '_automl_target_col',\n",
       "  'TypeDetected': 'Numeric',\n",
       "  'Dropped': 'No',\n",
       "  'EngineeredFeatureCount': 1,\n",
       "  'Transformations': ['ImputationMarker']},\n",
       " {'RawFeatureName': 'date_time',\n",
       "  'TypeDetected': 'DateTime',\n",
       "  'Dropped': 'No',\n",
       "  'EngineeredFeatureCount': 11,\n",
       "  'Transformations': ['DateTimeTransformer']}]"
      ]
     },
     "execution_count": 49,
     "metadata": {},
     "output_type": "execute_result"
    }
   ],
   "source": [
    "# don't delete this cell, but try to reproduce it's output"
   ]
  },
  {
   "cell_type": "markdown",
   "metadata": {},
   "source": [
    "# Problem 9: `Forecasting Prep`\n",
    "\n",
    "Now that we have retrieved the best pipeline/model, it can be used to make predictions on test data.\n",
    "\n",
    "* Remove the target values from the test set:"
   ]
  },
  {
   "cell_type": "code",
   "execution_count": 50,
   "metadata": {
    "ExecuteTime": {
     "end_time": "2021-05-17T18:04:05.584126Z",
     "start_time": "2021-05-17T18:04:05.580191Z"
    }
   },
   "outputs": [],
   "source": [
    "# code here"
   ]
  },
  {
   "cell_type": "code",
   "execution_count": 51,
   "metadata": {
    "ExecuteTime": {
     "end_time": "2021-05-17T18:04:07.763378Z",
     "start_time": "2021-05-17T18:04:07.739054Z"
    }
   },
   "outputs": [
    {
     "data": {
      "text/html": [
       "<div>\n",
       "<style scoped>\n",
       "    .dataframe tbody tr th:only-of-type {\n",
       "        vertical-align: middle;\n",
       "    }\n",
       "\n",
       "    .dataframe tbody tr th {\n",
       "        vertical-align: top;\n",
       "    }\n",
       "\n",
       "    .dataframe thead th {\n",
       "        text-align: right;\n",
       "    }\n",
       "</style>\n",
       "<table border=\"1\" class=\"dataframe\">\n",
       "  <thead>\n",
       "    <tr style=\"text-align: right;\">\n",
       "      <th></th>\n",
       "      <th>holiday</th>\n",
       "      <th>temp</th>\n",
       "      <th>rain_1h</th>\n",
       "      <th>snow_1h</th>\n",
       "      <th>clouds_all</th>\n",
       "      <th>weather_main</th>\n",
       "      <th>weather_description</th>\n",
       "      <th>date_time</th>\n",
       "    </tr>\n",
       "  </thead>\n",
       "  <tbody>\n",
       "    <tr>\n",
       "      <th>36847</th>\n",
       "      <td>None</td>\n",
       "      <td>296.34</td>\n",
       "      <td>0.00</td>\n",
       "      <td>0.00</td>\n",
       "      <td>75</td>\n",
       "      <td>Clouds</td>\n",
       "      <td>broken clouds</td>\n",
       "      <td>2017-09-02 13:00:00</td>\n",
       "    </tr>\n",
       "    <tr>\n",
       "      <th>36848</th>\n",
       "      <td>None</td>\n",
       "      <td>298.14</td>\n",
       "      <td>0.00</td>\n",
       "      <td>0.00</td>\n",
       "      <td>40</td>\n",
       "      <td>Clouds</td>\n",
       "      <td>scattered clouds</td>\n",
       "      <td>2017-09-02 14:00:00</td>\n",
       "    </tr>\n",
       "    <tr>\n",
       "      <th>36849</th>\n",
       "      <td>None</td>\n",
       "      <td>299.21</td>\n",
       "      <td>0.00</td>\n",
       "      <td>0.00</td>\n",
       "      <td>40</td>\n",
       "      <td>Clouds</td>\n",
       "      <td>scattered clouds</td>\n",
       "      <td>2017-09-02 15:00:00</td>\n",
       "    </tr>\n",
       "    <tr>\n",
       "      <th>36850</th>\n",
       "      <td>None</td>\n",
       "      <td>299.55</td>\n",
       "      <td>0.00</td>\n",
       "      <td>0.00</td>\n",
       "      <td>40</td>\n",
       "      <td>Clouds</td>\n",
       "      <td>scattered clouds</td>\n",
       "      <td>2017-09-02 16:00:00</td>\n",
       "    </tr>\n",
       "    <tr>\n",
       "      <th>36851</th>\n",
       "      <td>None</td>\n",
       "      <td>299.61</td>\n",
       "      <td>0.00</td>\n",
       "      <td>0.00</td>\n",
       "      <td>20</td>\n",
       "      <td>Clouds</td>\n",
       "      <td>few clouds</td>\n",
       "      <td>2017-09-02 17:00:00</td>\n",
       "    </tr>\n",
       "  </tbody>\n",
       "</table>\n",
       "</div>"
      ],
      "text/plain": [
       "      holiday   temp  rain_1h  snow_1h  clouds_all weather_main  \\\n",
       "36847  None   296.34 0.00     0.00      75          Clouds        \n",
       "36848  None   298.14 0.00     0.00      40          Clouds        \n",
       "36849  None   299.21 0.00     0.00      40          Clouds        \n",
       "36850  None   299.55 0.00     0.00      40          Clouds        \n",
       "36851  None   299.61 0.00     0.00      20          Clouds        \n",
       "\n",
       "      weather_description            date_time  \n",
       "36847  broken clouds       2017-09-02 13:00:00  \n",
       "36848  scattered clouds    2017-09-02 14:00:00  \n",
       "36849  scattered clouds    2017-09-02 15:00:00  \n",
       "36850  scattered clouds    2017-09-02 16:00:00  \n",
       "36851  few clouds          2017-09-02 17:00:00  "
      ]
     },
     "execution_count": 51,
     "metadata": {},
     "output_type": "execute_result"
    }
   ],
   "source": [
    "# don't delete this cell, but try to reproduce it's output"
   ]
  },
  {
   "cell_type": "markdown",
   "metadata": {},
   "source": [
    "# Problem 10: `Forecasting`\n",
    "\n",
    "Use the fitted model to produce predictions for the test set"
   ]
  },
  {
   "cell_type": "code",
   "execution_count": 52,
   "metadata": {
    "ExecuteTime": {
     "end_time": "2021-05-17T18:05:43.431234Z",
     "start_time": "2021-05-17T18:04:11.940043Z"
    }
   },
   "outputs": [],
   "source": [
    "# code here"
   ]
  },
  {
   "cell_type": "markdown",
   "metadata": {},
   "source": [
    "# Problem 11: `Evaluate`\n",
    "\n",
    "To evaluate the accuracy of the forecast, we'll compare against the actual sales quantities for some select metrics, included the mean absolute percentage error (MAPE). For more metrics that can be used for evaluation after training, please see [supported metrics](https://docs.microsoft.com/en-us/azure/machine-learning/how-to-understand-automated-ml#regressionforecasting-metrics), and [how to calculate residuals](https://docs.microsoft.com/en-us/azure/machine-learning/how-to-understand-automated-ml#residuals).\n",
    "\n",
    "We'll add predictions and actuals into a single dataframe for convenience in calculating the metrics.\n",
    "\n",
    "* Display the test data scores\n",
    "* Plot the prediction vs truth output on a chart"
   ]
  },
  {
   "cell_type": "code",
   "execution_count": 53,
   "metadata": {
    "ExecuteTime": {
     "end_time": "2021-05-17T18:06:40.502113Z",
     "start_time": "2021-05-17T18:06:40.494909Z"
    }
   },
   "outputs": [],
   "source": [
    "# code here"
   ]
  },
  {
   "cell_type": "code",
   "execution_count": 54,
   "metadata": {
    "ExecuteTime": {
     "end_time": "2021-05-17T18:06:48.284860Z",
     "start_time": "2021-05-17T18:06:47.497742Z"
    }
   },
   "outputs": [
    {
     "name": "stdout",
     "output_type": "stream",
     "text": [
      "[Test data scores]\n",
      "\n",
      "normalized_root_mean_squared_error:   0.121\n",
      "median_absolute_error:   515.205\n",
      "normalized_root_mean_squared_log_error:   nan\n",
      "root_mean_squared_error:   851.693\n",
      "r2_score:   0.815\n",
      "root_mean_squared_log_error:   nan\n",
      "normalized_median_absolute_error:   0.073\n",
      "normalized_mean_absolute_error:   0.092\n",
      "mean_absolute_error:   647.371\n",
      "explained_variance:   0.832\n",
      "mean_absolute_percentage_error:   46.217\n",
      "spearman_correlation:   0.911\n"
     ]
    },
    {
     "data": {
      "image/png": "[encoded data removed]",
      "text/plain": [
       "<matplotlib.figure.Figure at 0x7f6da52486d8>"
      ]
     },
     "metadata": {
      "needs_background": "light"
     },
     "output_type": "display_data"
    }
   ],
   "source": [
    "# don't delete this cell, but try to reproduce it's output"
   ]
  },
  {
   "cell_type": "code",
   "execution_count": 30,
   "metadata": {},
   "outputs": [
    {
     "name": "stdout",
     "output_type": "stream",
     "text": [
      "[Test data scores]\n",
      "\n",
      "median_absolute_error:   4005.090\n",
      "root_mean_squared_error:   18646.748\n",
      "normalized_median_absolute_error:   0.030\n",
      "r2_score:   0.178\n",
      "explained_variance:   0.182\n",
      "root_mean_squared_log_error:   0.733\n",
      "normalized_root_mean_squared_error:   0.141\n",
      "spearman_correlation:   0.637\n",
      "normalized_mean_absolute_error:   0.078\n",
      "normalized_root_mean_squared_log_error:   0.161\n",
      "mean_absolute_percentage_error:   78.163\n",
      "mean_absolute_error:   10287.466\n"
     ]
    },
    {
     "data": {
      "image/png": "[encoded data removed]",
      "text/plain": [
       "<matplotlib.figure.Figure at 0x7f953ab15e10>"
      ]
     },
     "metadata": {
      "needs_background": "light"
     },
     "output_type": "display_data"
    }
   ],
   "source": [
    "from azureml.automl.core.shared import constants\n",
    "from azureml.automl.runtime.shared.score import scoring\n",
    "from matplotlib import pyplot as plt\n",
    "\n",
    "# use automl scoring module\n",
    "scores = scoring.score_regression(\n",
    "    y_test=df_all[target_column_name],\n",
    "    y_pred=df_all['predicted'],\n",
    "    metrics=list(constants.Metric.SCALAR_REGRESSION_SET))\n",
    "\n",
    "print(\"[Test data scores]\\n\")\n",
    "for key, value in scores.items():    \n",
    "    print('{}:   {:.3f}'.format(key, value))\n",
    "    \n",
    "# Plot outputs\n",
    "%matplotlib inline\n",
    "test_pred = plt.scatter(df_all[target_column_name], df_all['predicted'], color='b')\n",
    "test_test = plt.scatter(df_all[target_column_name], df_all[target_column_name], color='g')\n",
    "plt.legend((test_pred, test_test), ('prediction', 'truth'), loc='upper left', fontsize=8)\n",
    "plt.show()"
   ]
  },
  {
   "cell_type": "markdown",
   "metadata": {},
   "source": [
    "# Problem 12: `Operationalize`\n",
    "\n",
    "_Operationalization_ means getting the model into the cloud so that other can run it after you close the notebook. We will create a docker running on Azure Container Instances with the model.\n",
    "\n",
    "* Use the `register_model` method on the `remote_run` to register this mode in our Azure ML workspace\n",
    "* Print the `remote_run.model_id`"
   ]
  },
  {
   "cell_type": "code",
   "execution_count": null,
   "metadata": {},
   "outputs": [],
   "source": [
    "# code here"
   ]
  },
  {
   "cell_type": "code",
   "execution_count": 55,
   "metadata": {
    "ExecuteTime": {
     "end_time": "2021-05-17T18:08:04.739539Z",
     "start_time": "2021-05-17T18:08:03.679126Z"
    }
   },
   "outputs": [
    {
     "name": "stdout",
     "output_type": "stream",
     "text": [
      "AutoML483be5be11\n"
     ]
    }
   ],
   "source": [
    "# don't delete this cell, but try to reproduce it's output"
   ]
  },
  {
   "cell_type": "markdown",
   "metadata": {},
   "source": [
    "# Problem 12: `Develop the scoring script`\n",
    "\n",
    "For the deployment we need a function which will run the forecast on serialized data. It can be obtained from the best_run.\n",
    "\n",
    "* Define a variable called `script_file_name` with value the defined the name of our scoring .py file\n",
    "* Use `download_file` from our `best_run` to download *'outputs/scoring_file_v_1_0_0.py'* into "
   ]
  },
  {
   "cell_type": "code",
   "execution_count": 56,
   "metadata": {
    "ExecuteTime": {
     "end_time": "2021-05-17T18:08:09.286307Z",
     "start_time": "2021-05-17T18:08:08.928118Z"
    }
   },
   "outputs": [],
   "source": [
    "# code here"
   ]
  },
  {
   "cell_type": "markdown",
   "metadata": {},
   "source": [
    "# Problem 13: `Deploy on Container Instance`\n",
    "\n",
    "* Define an `InferenceConfig` object with an `entry_script` parameter that has a value equal to `script_file_name`\n",
    "* Define an *Deployment Config* using `AciWebservice`'s `deploy_configuration` function\n",
    "* **Deploy the Model**: Use the `Model.deploy` methods with the following parameters\n",
    "    * `model` : our model\n",
    "    * `inference_config` : our InferenceConfig we defined above\n",
    "    * `aciconfig` the deployment config defined above\n",
    "* Print the aci_service state"
   ]
  },
  {
   "cell_type": "code",
   "execution_count": null,
   "metadata": {},
   "outputs": [],
   "source": [
    "# code here"
   ]
  },
  {
   "cell_type": "code",
   "execution_count": 57,
   "metadata": {
    "ExecuteTime": {
     "end_time": "2021-05-17T18:14:46.834779Z",
     "start_time": "2021-05-17T18:08:34.523350Z"
    }
   },
   "outputs": [
    {
     "name": "stdout",
     "output_type": "stream",
     "text": [
      "traffic-forecast-01\n",
      "Tips: You can try get_logs(): https://aka.ms/debugimage#dockerlog or local deployment: https://aka.ms/debugimage#debug-locally to debug if deployment takes longer than 10 minutes.\n",
      "Running\n",
      "2021-05-17 18:08:38+00:00 Creating Container Registry if not exists.\n",
      "2021-05-17 18:08:38+00:00 Registering the environment.\n",
      "2021-05-17 18:08:39+00:00 Use the existing image.\n",
      "2021-05-17 18:08:39+00:00 Generating deployment configuration.\n",
      "2021-05-17 18:08:40+00:00 Submitting deployment to compute.\n",
      "2021-05-17 18:08:43+00:00 Checking the status of deployment traffic-forecast-01..\n",
      "2021-05-17 18:14:35+00:00 Checking the status of inference endpoint traffic-forecast-01.\n",
      "Succeeded\n",
      "ACI service creation operation finished, operation \"Succeeded\"\n",
      "Healthy\n"
     ]
    }
   ],
   "source": [
    "# don't delete this cell, but try to reproduce it's output"
   ]
  }
 ],
 "metadata": {
  "authors": [
   {
    "name": "jialiu"
   }
  ],
  "category": "tutorial",
  "celltoolbar": "Raw Cell Format",
  "compute": [
   "Remote"
  ],
  "datasets": [
   "Orange Juice Sales"
  ],
  "deployment": [
   "Azure Container Instance"
  ],
  "exclude_from_index": false,
  "framework": [
   "Azure ML AutoML"
  ],
  "friendly_name": "Forecasting orange juice sales with deployment",
  "index_order": 1,
  "kernelspec": {
   "display_name": "azureml_py36_automl",
   "language": "python",
   "name": "conda-env-azureml_py36_automl-py"
  },
  "language_info": {
   "codemirror_mode": {
    "name": "ipython",
    "version": 3
   },
   "file_extension": ".py",
   "mimetype": "text/x-python",
   "name": "python",
   "nbconvert_exporter": "python",
   "pygments_lexer": "ipython3",
   "version": "3.6.9"
  },
  "tags": [
   "None"
  ],
  "task": "Forecasting",
  "toc": {
   "base_numbering": 1,
   "nav_menu": {},
   "number_sections": false,
   "sideBar": true,
   "skip_h1_title": false,
   "title_cell": "Table of Contents",
   "title_sidebar": "Contents",
   "toc_cell": false,
   "toc_position": {},
   "toc_section_display": true,
   "toc_window_display": false
  }
 },
 "nbformat": 4,
 "nbformat_minor": 4
}
