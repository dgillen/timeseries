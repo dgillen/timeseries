{
 "cells": [
  {
   "cell_type": "markdown",
   "metadata": {},
   "source": [
    "Copyright (c) Microsoft Corporation. All rights reserved.\n",
    "\n",
    "Licensed under the MIT License."
   ]
  },
  {
   "cell_type": "markdown",
   "metadata": {},
   "source": [
    "![Impressions](https://PixelServer20190423114238.azurewebsites.net/api/impressions/MachineLearningNotebooks/how-to-use-azureml/automated-machine-learning/forecasting-orange-juice-sales/auto-ml-forecasting-orange-juice-sales.png)"
   ]
  },
  {
   "cell_type": "markdown",
   "metadata": {},
   "source": [
    "# Automated Machine Learning\n",
    "_**Orange Juice Sales Forecasting**_\n",
    "\n",
    "## Contents\n",
    "1. [Introduction](#Introduction)\n",
    "1. [Setup](#Setup)\n",
    "1. [Compute](#Compute)\n",
    "1. [Data](#Data)\n",
    "1. [Train](#Train)\n",
    "1. [Predict](#Predict)\n",
    "1. [Operationalize](#Operationalize)"
   ]
  },
  {
   "cell_type": "markdown",
   "metadata": {},
   "source": [
    "## Introduction\n",
    "In this example, we use AutoML to train, select, and operationalize a time-series forecasting model for multiple time-series.\n",
    "\n",
    "Make sure you have executed the [configuration notebook](../../../configuration.ipynb) before running this notebook.\n",
    "\n",
    "The examples in the follow code samples use the University of Chicago's Dominick's Finer Foods dataset to forecast orange juice sales. Dominick's was a grocery chain in the Chicago metropolitan area."
   ]
  },
  {
   "cell_type": "markdown",
   "metadata": {},
   "source": [
    "## Setup"
   ]
  },
  {
   "cell_type": "code",
   "execution_count": 4,
   "metadata": {},
   "outputs": [],
   "source": [
    "import azureml.core\n",
    "import pandas as pd\n",
    "import numpy as np\n",
    "import logging\n",
    "\n",
    "from azureml.core.workspace import Workspace\n",
    "from azureml.core.experiment import Experiment\n",
    "from azureml.train.automl import AutoMLConfig\n",
    "from azureml.automl.core.featurization import FeaturizationConfig"
   ]
  },
  {
   "cell_type": "markdown",
   "metadata": {},
   "source": [
    "This sample notebook may use features that are not available in previous versions of the Azure ML SDK."
   ]
  },
  {
   "cell_type": "code",
   "execution_count": 5,
   "metadata": {},
   "outputs": [
    {
     "name": "stdout",
     "output_type": "stream",
     "text": [
      "This notebook was created using version 1.28.0 of the Azure ML SDK\n",
      "You are currently using version 1.28.0 of the Azure ML SDK\n"
     ]
    }
   ],
   "source": [
    "print(\"This notebook was created using version 1.28.0 of the Azure ML SDK\")\n",
    "print(\"You are currently using version\", azureml.core.VERSION, \"of the Azure ML SDK\")"
   ]
  },
  {
   "cell_type": "markdown",
   "metadata": {},
   "source": [
    "As part of the setup you have already created a <b>Workspace</b>. To run AutoML, you also need to create an <b>Experiment</b>. An Experiment corresponds to a prediction problem you are trying to solve, while a Run corresponds to a specific approach to the problem. "
   ]
  },
  {
   "cell_type": "code",
   "execution_count": 6,
   "metadata": {},
   "outputs": [
    {
     "name": "stderr",
     "output_type": "stream",
     "text": [
      "Warning: Falling back to use azure cli login credentials.\n",
      "If you run your code in unattended mode, i.e., where you can't give a user input, then we recommend to use ServicePrincipalAuthentication or MsiAuthentication.\n",
      "Please refer to aka.ms/aml-notebook-auth for different authentication mechanisms in azureml-sdk.\n"
     ]
    },
    {
     "data": {
      "text/html": [
       "<div>\n",
       "<style scoped>\n",
       "    .dataframe tbody tr th:only-of-type {\n",
       "        vertical-align: middle;\n",
       "    }\n",
       "\n",
       "    .dataframe tbody tr th {\n",
       "        vertical-align: top;\n",
       "    }\n",
       "\n",
       "    .dataframe thead th {\n",
       "        text-align: right;\n",
       "    }\n",
       "</style>\n",
       "<table border=\"1\" class=\"dataframe\">\n",
       "  <thead>\n",
       "    <tr style=\"text-align: right;\">\n",
       "      <th></th>\n",
       "      <th></th>\n",
       "    </tr>\n",
       "  </thead>\n",
       "  <tbody>\n",
       "    <tr>\n",
       "      <th>Subscription ID</th>\n",
       "      <td>29e67936-a2a9-4c54-9dd6-26ef6c8c59e2</td>\n",
       "    </tr>\n",
       "    <tr>\n",
       "      <th>Workspace</th>\n",
       "      <td>timeseries-ws</td>\n",
       "    </tr>\n",
       "    <tr>\n",
       "      <th>SKU</th>\n",
       "      <td>Basic</td>\n",
       "    </tr>\n",
       "    <tr>\n",
       "      <th>Resource Group</th>\n",
       "      <td>timeseries-course</td>\n",
       "    </tr>\n",
       "    <tr>\n",
       "      <th>Location</th>\n",
       "      <td>southcentralus</td>\n",
       "    </tr>\n",
       "    <tr>\n",
       "      <th>Run History Name</th>\n",
       "      <td>automl-ojforecasting</td>\n",
       "    </tr>\n",
       "  </tbody>\n",
       "</table>\n",
       "</div>"
      ],
      "text/plain": [
       "                                                      \n",
       "Subscription ID   29e67936-a2a9-4c54-9dd6-26ef6c8c59e2\n",
       "Workspace         timeseries-ws                       \n",
       "SKU               Basic                               \n",
       "Resource Group    timeseries-course                   \n",
       "Location          southcentralus                      \n",
       "Run History Name  automl-ojforecasting                "
      ]
     },
     "execution_count": 6,
     "metadata": {},
     "output_type": "execute_result"
    }
   ],
   "source": [
    "ws = Workspace.from_config()\n",
    "\n",
    "# choose a name for the run history container in the workspace\n",
    "experiment_name = 'automl-ojforecasting'\n",
    "\n",
    "experiment = Experiment(ws, experiment_name)\n",
    "\n",
    "output = {}\n",
    "output['Subscription ID'] = ws.subscription_id\n",
    "output['Workspace'] = ws.name\n",
    "output['SKU'] = ws.sku\n",
    "output['Resource Group'] = ws.resource_group\n",
    "output['Location'] = ws.location\n",
    "output['Run History Name'] = experiment_name\n",
    "pd.set_option('display.max_colwidth', -1)\n",
    "outputDf = pd.DataFrame(data = output, index = [''])\n",
    "outputDf.T"
   ]
  },
  {
   "cell_type": "markdown",
   "metadata": {},
   "source": [
    "## Compute\n",
    "You will need to create a [compute target](https://docs.microsoft.com/en-us/azure/machine-learning/service/how-to-set-up-training-targets#amlcompute) for your AutoML run. In this tutorial, you create AmlCompute as your training compute resource.\n",
    "\n",
    "> Note that if you have an AzureML Data Scientist role, you will not have permission to create compute resources. Talk to your workspace or IT admin to create the compute targets described in this section, if they do not already exist.\n",
    "\n",
    "#### Creation of AmlCompute takes approximately 5 minutes. \n",
    "If the AmlCompute with that name is already in your workspace this code will skip the creation process.\n",
    "As with other Azure services, there are limits on certain resources (e.g. AmlCompute) associated with the Azure Machine Learning service. Please read [this article](https://docs.microsoft.com/en-us/azure/machine-learning/service/how-to-manage-quotas) on the default limits and how to request more quota."
   ]
  },
  {
   "cell_type": "code",
   "execution_count": 7,
   "metadata": {},
   "outputs": [
    {
     "name": "stdout",
     "output_type": "stream",
     "text": [
      "Creating...\n",
      "SucceededProvisioning operation finished, operation \"Succeeded\"\n",
      "Succeeded\n",
      "AmlCompute wait for completion finished\n",
      "\n",
      "Minimum number of nodes requested have been provisioned\n"
     ]
    }
   ],
   "source": [
    "from azureml.core.compute import ComputeTarget, AmlCompute\n",
    "from azureml.core.compute_target import ComputeTargetException\n",
    "\n",
    "# Choose a name for your CPU cluster\n",
    "amlcompute_cluster_name = \"oj-cluster\"\n",
    "\n",
    "# Verify that cluster does not exist already\n",
    "try:\n",
    "    compute_target = ComputeTarget(workspace=ws, name=amlcompute_cluster_name)\n",
    "    print('Found existing cluster, use it.')\n",
    "except ComputeTargetException:\n",
    "    compute_config = AmlCompute.provisioning_configuration(vm_size='STANDARD_D2_V2',\n",
    "                                                           max_nodes=2)\n",
    "    compute_target = ComputeTarget.create(ws, amlcompute_cluster_name, compute_config)\n",
    "\n",
    "compute_target.wait_for_completion(show_output=True)"
   ]
  },
  {
   "cell_type": "markdown",
   "metadata": {},
   "source": [
    "## Data\n",
    "You are now ready to load the historical orange juice sales data. We will load the CSV file into a plain pandas DataFrame; the time column in the CSV is called _WeekStarting_, so it will be specially parsed into the datetime type."
   ]
  },
  {
   "cell_type": "code",
   "execution_count": 10,
   "metadata": {},
   "outputs": [
    {
     "data": {
      "text/html": [
       "<div>\n",
       "<style scoped>\n",
       "    .dataframe tbody tr th:only-of-type {\n",
       "        vertical-align: middle;\n",
       "    }\n",
       "\n",
       "    .dataframe tbody tr th {\n",
       "        vertical-align: top;\n",
       "    }\n",
       "\n",
       "    .dataframe thead th {\n",
       "        text-align: right;\n",
       "    }\n",
       "</style>\n",
       "<table border=\"1\" class=\"dataframe\">\n",
       "  <thead>\n",
       "    <tr style=\"text-align: right;\">\n",
       "      <th></th>\n",
       "      <th>WeekStarting</th>\n",
       "      <th>Store</th>\n",
       "      <th>Brand</th>\n",
       "      <th>Quantity</th>\n",
       "      <th>Advert</th>\n",
       "      <th>Price</th>\n",
       "      <th>Age60</th>\n",
       "      <th>COLLEGE</th>\n",
       "      <th>INCOME</th>\n",
       "      <th>Hincome150</th>\n",
       "      <th>Large HH</th>\n",
       "      <th>Minorities</th>\n",
       "      <th>WorkingWoman</th>\n",
       "      <th>SSTRDIST</th>\n",
       "      <th>SSTRVOL</th>\n",
       "      <th>CPDIST5</th>\n",
       "      <th>CPWVOL5</th>\n",
       "    </tr>\n",
       "  </thead>\n",
       "  <tbody>\n",
       "    <tr>\n",
       "      <th>0</th>\n",
       "      <td>1990-06-14</td>\n",
       "      <td>2</td>\n",
       "      <td>dominicks</td>\n",
       "      <td>10560</td>\n",
       "      <td>1</td>\n",
       "      <td>1.59</td>\n",
       "      <td>0.232865</td>\n",
       "      <td>0.248935</td>\n",
       "      <td>10.553205</td>\n",
       "      <td>0.463887</td>\n",
       "      <td>0.103953</td>\n",
       "      <td>0.114280</td>\n",
       "      <td>0.303585</td>\n",
       "      <td>2.110122</td>\n",
       "      <td>1.142857</td>\n",
       "      <td>1.927280</td>\n",
       "      <td>0.376927</td>\n",
       "    </tr>\n",
       "    <tr>\n",
       "      <th>1</th>\n",
       "      <td>1990-06-14</td>\n",
       "      <td>2</td>\n",
       "      <td>minute.maid</td>\n",
       "      <td>4480</td>\n",
       "      <td>0</td>\n",
       "      <td>3.17</td>\n",
       "      <td>0.232865</td>\n",
       "      <td>0.248935</td>\n",
       "      <td>10.553205</td>\n",
       "      <td>0.463887</td>\n",
       "      <td>0.103953</td>\n",
       "      <td>0.114280</td>\n",
       "      <td>0.303585</td>\n",
       "      <td>2.110122</td>\n",
       "      <td>1.142857</td>\n",
       "      <td>1.927280</td>\n",
       "      <td>0.376927</td>\n",
       "    </tr>\n",
       "    <tr>\n",
       "      <th>2</th>\n",
       "      <td>1990-06-14</td>\n",
       "      <td>2</td>\n",
       "      <td>tropicana</td>\n",
       "      <td>8256</td>\n",
       "      <td>0</td>\n",
       "      <td>3.87</td>\n",
       "      <td>0.232865</td>\n",
       "      <td>0.248935</td>\n",
       "      <td>10.553205</td>\n",
       "      <td>0.463887</td>\n",
       "      <td>0.103953</td>\n",
       "      <td>0.114280</td>\n",
       "      <td>0.303585</td>\n",
       "      <td>2.110122</td>\n",
       "      <td>1.142857</td>\n",
       "      <td>1.927280</td>\n",
       "      <td>0.376927</td>\n",
       "    </tr>\n",
       "    <tr>\n",
       "      <th>3</th>\n",
       "      <td>1990-06-14</td>\n",
       "      <td>5</td>\n",
       "      <td>dominicks</td>\n",
       "      <td>1792</td>\n",
       "      <td>1</td>\n",
       "      <td>1.59</td>\n",
       "      <td>0.117368</td>\n",
       "      <td>0.321226</td>\n",
       "      <td>10.922371</td>\n",
       "      <td>0.535883</td>\n",
       "      <td>0.103092</td>\n",
       "      <td>0.053875</td>\n",
       "      <td>0.410568</td>\n",
       "      <td>3.801998</td>\n",
       "      <td>0.681818</td>\n",
       "      <td>1.600573</td>\n",
       "      <td>0.736307</td>\n",
       "    </tr>\n",
       "    <tr>\n",
       "      <th>4</th>\n",
       "      <td>1990-06-14</td>\n",
       "      <td>5</td>\n",
       "      <td>minute.maid</td>\n",
       "      <td>4224</td>\n",
       "      <td>0</td>\n",
       "      <td>2.99</td>\n",
       "      <td>0.117368</td>\n",
       "      <td>0.321226</td>\n",
       "      <td>10.922371</td>\n",
       "      <td>0.535883</td>\n",
       "      <td>0.103092</td>\n",
       "      <td>0.053875</td>\n",
       "      <td>0.410568</td>\n",
       "      <td>3.801998</td>\n",
       "      <td>0.681818</td>\n",
       "      <td>1.600573</td>\n",
       "      <td>0.736307</td>\n",
       "    </tr>\n",
       "  </tbody>\n",
       "</table>\n",
       "</div>"
      ],
      "text/plain": [
       "  WeekStarting  Store        Brand  Quantity  Advert  Price     Age60  \\\n",
       "0 1990-06-14    2      dominicks    10560     1       1.59   0.232865   \n",
       "1 1990-06-14    2      minute.maid  4480      0       3.17   0.232865   \n",
       "2 1990-06-14    2      tropicana    8256      0       3.87   0.232865   \n",
       "3 1990-06-14    5      dominicks    1792      1       1.59   0.117368   \n",
       "4 1990-06-14    5      minute.maid  4224      0       2.99   0.117368   \n",
       "\n",
       "    COLLEGE     INCOME  Hincome150  Large HH  Minorities  WorkingWoman  \\\n",
       "0  0.248935  10.553205  0.463887    0.103953  0.114280    0.303585       \n",
       "1  0.248935  10.553205  0.463887    0.103953  0.114280    0.303585       \n",
       "2  0.248935  10.553205  0.463887    0.103953  0.114280    0.303585       \n",
       "3  0.321226  10.922371  0.535883    0.103092  0.053875    0.410568       \n",
       "4  0.321226  10.922371  0.535883    0.103092  0.053875    0.410568       \n",
       "\n",
       "   SSTRDIST   SSTRVOL   CPDIST5   CPWVOL5  \n",
       "0  2.110122  1.142857  1.927280  0.376927  \n",
       "1  2.110122  1.142857  1.927280  0.376927  \n",
       "2  2.110122  1.142857  1.927280  0.376927  \n",
       "3  3.801998  0.681818  1.600573  0.736307  \n",
       "4  3.801998  0.681818  1.600573  0.736307  "
      ]
     },
     "execution_count": 10,
     "metadata": {},
     "output_type": "execute_result"
    }
   ],
   "source": [
    "time_column_name = 'WeekStarting'\n",
    "data = pd.read_csv(\"../../data/dominicks_OJ.csv\", parse_dates=[time_column_name])\n",
    "\n",
    "# Drop the columns 'logQuantity' as it is a leaky feature.\n",
    "data.drop('logQuantity', axis=1, inplace=True)\n",
    "\n",
    "data.head()"
   ]
  },
  {
   "cell_type": "markdown",
   "metadata": {},
   "source": [
    "Each row in the DataFrame holds a quantity of weekly sales for an OJ brand at a single store. The data also includes the sales price, a flag indicating if the OJ brand was advertised in the store that week, and some customer demographic information based on the store location. For historical reasons, the data also include the logarithm of the sales quantity. The Dominick's grocery data is commonly used to illustrate econometric modeling techniques where logarithms of quantities are generally preferred.    \n",
    "\n",
    "The task is now to build a time-series model for the _Quantity_ column. It is important to note that this dataset is comprised of many individual time-series - one for each unique combination of _Store_ and _Brand_. To distinguish the individual time-series, we define the **time_series_id_column_names** - the columns whose values determine the boundaries between time-series: "
   ]
  },
  {
   "cell_type": "code",
   "execution_count": 11,
   "metadata": {},
   "outputs": [
    {
     "name": "stdout",
     "output_type": "stream",
     "text": [
      "Data contains 249 individual time-series.\n"
     ]
    }
   ],
   "source": [
    "time_series_id_column_names = ['Store', 'Brand']\n",
    "nseries = data.groupby(time_series_id_column_names).ngroups\n",
    "print('Data contains {0} individual time-series.'.format(nseries))"
   ]
  },
  {
   "cell_type": "markdown",
   "metadata": {},
   "source": [
    "For demonstration purposes, we extract sales time-series for just a few of the stores:"
   ]
  },
  {
   "cell_type": "code",
   "execution_count": 12,
   "metadata": {},
   "outputs": [
    {
     "name": "stdout",
     "output_type": "stream",
     "text": [
      "Data subset contains 9 individual time-series.\n"
     ]
    }
   ],
   "source": [
    "use_stores = [2, 5, 8]\n",
    "data_subset = data[data.Store.isin(use_stores)]\n",
    "nseries = data_subset.groupby(time_series_id_column_names).ngroups\n",
    "print('Data subset contains {0} individual time-series.'.format(nseries))"
   ]
  },
  {
   "cell_type": "markdown",
   "metadata": {},
   "source": [
    "### Data Splitting\n",
    "We now split the data into a training and a testing set for later forecast evaluation. The test set will contain the final 20 weeks of observed sales for each time-series. The splits should be stratified by series, so we use a group-by statement on the time series identifier columns."
   ]
  },
  {
   "cell_type": "code",
   "execution_count": 13,
   "metadata": {},
   "outputs": [],
   "source": [
    "n_test_periods = 20\n",
    "\n",
    "def split_last_n_by_series_id(df, n):\n",
    "    \"\"\"Group df by series identifiers and split on last n rows for each group.\"\"\"\n",
    "    df_grouped = (df.sort_values(time_column_name) # Sort by ascending time\n",
    "                  .groupby(time_series_id_column_names, group_keys=False))\n",
    "    df_head = df_grouped.apply(lambda dfg: dfg.iloc[:-n])\n",
    "    df_tail = df_grouped.apply(lambda dfg: dfg.iloc[-n:])\n",
    "    return df_head, df_tail\n",
    "\n",
    "train, test = split_last_n_by_series_id(data_subset, n_test_periods)"
   ]
  },
  {
   "cell_type": "markdown",
   "metadata": {},
   "source": [
    "### Upload data to datastore\n",
    "The [Machine Learning service workspace](https://docs.microsoft.com/en-us/azure/machine-learning/service/concept-workspace), is paired with the storage account, which contains the default data store. We will use it to upload the train and test data and create [tabular datasets](https://docs.microsoft.com/en-us/python/api/azureml-core/azureml.data.tabulardataset?view=azure-ml-py) for training and testing. A tabular dataset defines a series of lazily-evaluated, immutable operations to load data from the data source into tabular representation."
   ]
  },
  {
   "cell_type": "code",
   "execution_count": 14,
   "metadata": {},
   "outputs": [],
   "source": [
    "train.to_csv (r'./dominicks_OJ_train.csv', index = None, header=True)\n",
    "test.to_csv (r'./dominicks_OJ_test.csv', index = None, header=True)"
   ]
  },
  {
   "cell_type": "code",
   "execution_count": 15,
   "metadata": {},
   "outputs": [
    {
     "name": "stdout",
     "output_type": "stream",
     "text": [
      "Uploading an estimated of 2 files\n",
      "Uploading ./dominicks_OJ_train.csv\n",
      "Uploaded ./dominicks_OJ_train.csv, 1 files out of an estimated total of 2\n",
      "Uploading ./dominicks_OJ_test.csv\n",
      "Uploaded ./dominicks_OJ_test.csv, 2 files out of an estimated total of 2\n",
      "Uploaded 2 files\n"
     ]
    },
    {
     "data": {
      "text/plain": [
       "$AZUREML_DATAREFERENCE_3c34caaffb7c4afb94aa10604dec832c"
      ]
     },
     "execution_count": 15,
     "metadata": {},
     "output_type": "execute_result"
    }
   ],
   "source": [
    "datastore = ws.get_default_datastore()\n",
    "datastore.upload_files(files = ['./dominicks_OJ_train.csv', './dominicks_OJ_test.csv'], target_path = 'dataset/', overwrite = True,show_progress = True)"
   ]
  },
  {
   "cell_type": "markdown",
   "metadata": {},
   "source": [
    "### Create dataset for training"
   ]
  },
  {
   "cell_type": "code",
   "execution_count": 16,
   "metadata": {},
   "outputs": [],
   "source": [
    "from azureml.core.dataset import Dataset\n",
    "train_dataset = Dataset.Tabular.from_delimited_files(path=datastore.path('dataset/dominicks_OJ_train.csv'))"
   ]
  },
  {
   "cell_type": "code",
   "execution_count": 17,
   "metadata": {},
   "outputs": [
    {
     "data": {
      "text/html": [
       "<div>\n",
       "<style scoped>\n",
       "    .dataframe tbody tr th:only-of-type {\n",
       "        vertical-align: middle;\n",
       "    }\n",
       "\n",
       "    .dataframe tbody tr th {\n",
       "        vertical-align: top;\n",
       "    }\n",
       "\n",
       "    .dataframe thead th {\n",
       "        text-align: right;\n",
       "    }\n",
       "</style>\n",
       "<table border=\"1\" class=\"dataframe\">\n",
       "  <thead>\n",
       "    <tr style=\"text-align: right;\">\n",
       "      <th></th>\n",
       "      <th>WeekStarting</th>\n",
       "      <th>Store</th>\n",
       "      <th>Brand</th>\n",
       "      <th>Quantity</th>\n",
       "      <th>Advert</th>\n",
       "      <th>Price</th>\n",
       "      <th>Age60</th>\n",
       "      <th>COLLEGE</th>\n",
       "      <th>INCOME</th>\n",
       "      <th>Hincome150</th>\n",
       "      <th>Large HH</th>\n",
       "      <th>Minorities</th>\n",
       "      <th>WorkingWoman</th>\n",
       "      <th>SSTRDIST</th>\n",
       "      <th>SSTRVOL</th>\n",
       "      <th>CPDIST5</th>\n",
       "      <th>CPWVOL5</th>\n",
       "    </tr>\n",
       "  </thead>\n",
       "  <tbody>\n",
       "    <tr>\n",
       "      <th>847</th>\n",
       "      <td>1992-04-09</td>\n",
       "      <td>8</td>\n",
       "      <td>tropicana</td>\n",
       "      <td>16192</td>\n",
       "      <td>0</td>\n",
       "      <td>2.50</td>\n",
       "      <td>0.252394</td>\n",
       "      <td>0.095173</td>\n",
       "      <td>10.59701</td>\n",
       "      <td>0.054227</td>\n",
       "      <td>0.13175</td>\n",
       "      <td>0.035243</td>\n",
       "      <td>0.283075</td>\n",
       "      <td>2.636333</td>\n",
       "      <td>1.5</td>\n",
       "      <td>2.905384</td>\n",
       "      <td>0.641016</td>\n",
       "    </tr>\n",
       "    <tr>\n",
       "      <th>848</th>\n",
       "      <td>1992-04-16</td>\n",
       "      <td>8</td>\n",
       "      <td>tropicana</td>\n",
       "      <td>6528</td>\n",
       "      <td>0</td>\n",
       "      <td>2.89</td>\n",
       "      <td>0.252394</td>\n",
       "      <td>0.095173</td>\n",
       "      <td>10.59701</td>\n",
       "      <td>0.054227</td>\n",
       "      <td>0.13175</td>\n",
       "      <td>0.035243</td>\n",
       "      <td>0.283075</td>\n",
       "      <td>2.636333</td>\n",
       "      <td>1.5</td>\n",
       "      <td>2.905384</td>\n",
       "      <td>0.641016</td>\n",
       "    </tr>\n",
       "    <tr>\n",
       "      <th>849</th>\n",
       "      <td>1992-04-23</td>\n",
       "      <td>8</td>\n",
       "      <td>tropicana</td>\n",
       "      <td>8320</td>\n",
       "      <td>0</td>\n",
       "      <td>2.89</td>\n",
       "      <td>0.252394</td>\n",
       "      <td>0.095173</td>\n",
       "      <td>10.59701</td>\n",
       "      <td>0.054227</td>\n",
       "      <td>0.13175</td>\n",
       "      <td>0.035243</td>\n",
       "      <td>0.283075</td>\n",
       "      <td>2.636333</td>\n",
       "      <td>1.5</td>\n",
       "      <td>2.905384</td>\n",
       "      <td>0.641016</td>\n",
       "    </tr>\n",
       "    <tr>\n",
       "      <th>850</th>\n",
       "      <td>1992-04-30</td>\n",
       "      <td>8</td>\n",
       "      <td>tropicana</td>\n",
       "      <td>30784</td>\n",
       "      <td>1</td>\n",
       "      <td>2.16</td>\n",
       "      <td>0.252394</td>\n",
       "      <td>0.095173</td>\n",
       "      <td>10.59701</td>\n",
       "      <td>0.054227</td>\n",
       "      <td>0.13175</td>\n",
       "      <td>0.035243</td>\n",
       "      <td>0.283075</td>\n",
       "      <td>2.636333</td>\n",
       "      <td>1.5</td>\n",
       "      <td>2.905384</td>\n",
       "      <td>0.641016</td>\n",
       "    </tr>\n",
       "    <tr>\n",
       "      <th>851</th>\n",
       "      <td>1992-05-07</td>\n",
       "      <td>8</td>\n",
       "      <td>tropicana</td>\n",
       "      <td>18048</td>\n",
       "      <td>0</td>\n",
       "      <td>2.89</td>\n",
       "      <td>0.252394</td>\n",
       "      <td>0.095173</td>\n",
       "      <td>10.59701</td>\n",
       "      <td>0.054227</td>\n",
       "      <td>0.13175</td>\n",
       "      <td>0.035243</td>\n",
       "      <td>0.283075</td>\n",
       "      <td>2.636333</td>\n",
       "      <td>1.5</td>\n",
       "      <td>2.905384</td>\n",
       "      <td>0.641016</td>\n",
       "    </tr>\n",
       "  </tbody>\n",
       "</table>\n",
       "</div>"
      ],
      "text/plain": [
       "    WeekStarting  Store      Brand  Quantity  Advert  Price     Age60  \\\n",
       "847 1992-04-09    8      tropicana  16192     0       2.50   0.252394   \n",
       "848 1992-04-16    8      tropicana  6528      0       2.89   0.252394   \n",
       "849 1992-04-23    8      tropicana  8320      0       2.89   0.252394   \n",
       "850 1992-04-30    8      tropicana  30784     1       2.16   0.252394   \n",
       "851 1992-05-07    8      tropicana  18048     0       2.89   0.252394   \n",
       "\n",
       "      COLLEGE    INCOME  Hincome150  Large HH  Minorities  WorkingWoman  \\\n",
       "847  0.095173  10.59701  0.054227    0.13175   0.035243    0.283075       \n",
       "848  0.095173  10.59701  0.054227    0.13175   0.035243    0.283075       \n",
       "849  0.095173  10.59701  0.054227    0.13175   0.035243    0.283075       \n",
       "850  0.095173  10.59701  0.054227    0.13175   0.035243    0.283075       \n",
       "851  0.095173  10.59701  0.054227    0.13175   0.035243    0.283075       \n",
       "\n",
       "     SSTRDIST  SSTRVOL   CPDIST5   CPWVOL5  \n",
       "847  2.636333  1.5      2.905384  0.641016  \n",
       "848  2.636333  1.5      2.905384  0.641016  \n",
       "849  2.636333  1.5      2.905384  0.641016  \n",
       "850  2.636333  1.5      2.905384  0.641016  \n",
       "851  2.636333  1.5      2.905384  0.641016  "
      ]
     },
     "execution_count": 17,
     "metadata": {},
     "output_type": "execute_result"
    }
   ],
   "source": [
    "train_dataset.to_pandas_dataframe().tail()"
   ]
  },
  {
   "cell_type": "markdown",
   "metadata": {},
   "source": [
    "## Modeling\n",
    "\n",
    "For forecasting tasks, AutoML uses pre-processing and estimation steps that are specific to time-series. AutoML will undertake the following pre-processing steps:\n",
    "* Detect time-series sample frequency (e.g. hourly, daily, weekly) and create new records for absent time points to make the series regular. A regular time series has a well-defined frequency and has a value at every sample point in a contiguous time span \n",
    "* Impute missing values in the target (via forward-fill) and feature columns (using median column values) \n",
    "* Create features based on time series identifiers to enable fixed effects across different series\n",
    "* Create time-based features to assist in learning seasonal patterns\n",
    "* Encode categorical variables to numeric quantities\n",
    "\n",
    "In this notebook, AutoML will train a single, regression-type model across **all** time-series in a given training set. This allows the model to generalize across related series. If you're looking for training multiple models for different time-series, please see the many-models notebook.\n",
    "\n",
    "You are almost ready to start an AutoML training job. First, we need to separate the target column from the rest of the DataFrame: "
   ]
  },
  {
   "cell_type": "code",
   "execution_count": 18,
   "metadata": {},
   "outputs": [],
   "source": [
    "target_column_name = 'Quantity'"
   ]
  },
  {
   "cell_type": "markdown",
   "metadata": {},
   "source": [
    "## Customization\n",
    "\n",
    "The featurization customization in forecasting is an advanced feature in AutoML which allows our customers to change the default forecasting featurization behaviors and column types through `FeaturizationConfig`. The supported scenarios include:\n",
    "\n",
    "1. Column purposes update: Override feature type for the specified column. Currently supports DateTime, Categorical and Numeric. This customization can be used in the scenario that the type of the column cannot correctly reflect its purpose. Some numerical columns, for instance, can be treated as Categorical columns which need to be converted to categorical while some can be treated as epoch timestamp which need to be converted to datetime. To tell our SDK to correctly preprocess these columns, a configuration need to be add with the columns and their desired types.\n",
    "2. Transformer parameters update: Currently supports parameter change for Imputer only. User can customize imputation methods. The supported imputing methods for target column are constant and ffill (forward fill). The supported imputing methods for feature columns are mean, median, most frequent, constant and ffill (forward fill). This customization can be used for the scenario that our customers know which imputation methods fit best to the input data. For instance, some datasets use NaN to represent 0 which the correct behavior should impute all the missing value with 0. To achieve this behavior, these columns need to be configured as constant imputation with `fill_value` 0.\n",
    "3. Drop columns: Columns to drop from being featurized. These usually are the columns which are leaky or the columns contain no useful data."
   ]
  },
  {
   "cell_type": "code",
   "execution_count": 19,
   "metadata": {
    "tags": [
     "sample-featurizationconfig-remarks"
    ]
   },
   "outputs": [],
   "source": [
    "featurization_config = FeaturizationConfig()\n",
    "# Force the CPWVOL5 feature to be numeric type.\n",
    "featurization_config.add_column_purpose('CPWVOL5', 'Numeric')\n",
    "# Fill missing values in the target column, Quantity, with zeros.\n",
    "featurization_config.add_transformer_params('Imputer', ['Quantity'], {\"strategy\": \"constant\", \"fill_value\": 0})\n",
    "# Fill missing values in the INCOME column with median value.\n",
    "featurization_config.add_transformer_params('Imputer', ['INCOME'], {\"strategy\": \"median\"})\n",
    "# Fill missing values in the Price column with forward fill (last value carried forward).\n",
    "featurization_config.add_transformer_params('Imputer', ['Price'], {\"strategy\": \"ffill\"})"
   ]
  },
  {
   "cell_type": "markdown",
   "metadata": {},
   "source": [
    "## Forecasting Parameters\n",
    "To define forecasting parameters for your experiment training, you can leverage the ForecastingParameters class. The table below details the forecasting parameter we will be passing into our experiment.\n",
    "\n",
    "\n",
    "|Property|Description|\n",
    "|-|-|\n",
    "|**time_column_name**|The name of your time column.|\n",
    "|**forecast_horizon**|The forecast horizon is how many periods forward you would like to forecast. This integer horizon is in units of the timeseries frequency (e.g. daily, weekly).|\n",
    "|**time_series_id_column_names**|The column names used to uniquely identify the time series in data that has multiple rows with the same timestamp. If the time series identifiers are not defined, the data set is assumed to be one time series.|\n",
    "|**freq**|Forecast frequency. This optional parameter represents the period with which the forecast is desired, for example, daily, weekly, yearly, etc. Use this parameter for the correction of time series containing irregular data points or for padding of short time series. The frequency needs to be a pandas offset alias. Please refer to [pandas documentation](https://pandas.pydata.org/pandas-docs/stable/user_guide/timeseries.html#dateoffset-objects) for more information."
   ]
  },
  {
   "cell_type": "markdown",
   "metadata": {},
   "source": [
    "## Train\n",
    "\n",
    "The [AutoMLConfig](https://docs.microsoft.com/en-us/python/api/azureml-train-automl-client/azureml.train.automl.automlconfig.automlconfig?view=azure-ml-py) object defines the settings and data for an AutoML training job. Here, we set necessary inputs like the task type, the number of AutoML iterations to try, the training data, and cross-validation parameters.\n",
    "\n",
    "For forecasting tasks, there are some additional parameters that can be set in the `ForecastingParameters` class: the name of the column holding the date/time, the timeseries id column names, and the maximum forecast horizon. A time column is required for forecasting, while the time_series_id is optional. If time_series_id columns are not given, AutoML assumes that the whole dataset is a single time-series. We also pass a list of columns to drop prior to modeling. The _logQuantity_ column is completely correlated with the target quantity, so it must be removed to prevent a target leak.\n",
    "\n",
    "The forecast horizon is given in units of the time-series frequency; for instance, the OJ series frequency is weekly, so a horizon of 20 means that a trained model will estimate sales up to 20 weeks beyond the latest date in the training data for each series. In this example, we set the forecast horizon to the number of samples per series in the test set (n_test_periods). Generally, the value of this parameter will be dictated by business needs. For example, a demand planning application that estimates the next month of sales should set the horizon according to suitable planning time-scales. Please see the [energy_demand notebook](https://github.com/Azure/MachineLearningNotebooks/tree/master/how-to-use-azureml/automated-machine-learning/forecasting-energy-demand) for more discussion of forecast horizon.\n",
    "\n",
    "We note here that AutoML can sweep over two types of time-series models:\n",
    "* Models that are trained for each series such as ARIMA and Facebook's Prophet.\n",
    "* Models trained across multiple time-series using a regression approach.\n",
    "\n",
    "In the first case, AutoML loops over all time-series in your dataset and trains one model (e.g. AutoArima or Prophet, as the case may be) for each series. This can result in long runtimes to train these models if there are a lot of series in the data. One way to mitigate this problem is to fit models for different series in parallel if you have multiple compute cores available. To enable this behavior, set the `max_cores_per_iteration` parameter in your AutoMLConfig as shown in the example in the next cell. \n",
    "\n",
    "\n",
    "Finally, a note about the cross-validation (CV) procedure for time-series data. AutoML uses out-of-sample error estimates to select a best pipeline/model, so it is important that the CV fold splitting is done correctly. Time-series can violate the basic statistical assumptions of the canonical K-Fold CV strategy, so AutoML implements a [rolling origin validation](https://robjhyndman.com/hyndsight/tscv/) procedure to create CV folds for time-series data. To use this procedure, you just need to specify the desired number of CV folds in the AutoMLConfig object. It is also possible to bypass CV and use your own validation set by setting the *validation_data* parameter of AutoMLConfig.\n",
    "\n",
    "Here is a summary of AutoMLConfig parameters used for training the OJ model:\n",
    "\n",
    "|Property|Description|\n",
    "|-|-|\n",
    "|**task**|forecasting|\n",
    "|**primary_metric**|This is the metric that you want to optimize.<br> Forecasting supports the following primary metrics <br><i>spearman_correlation</i><br><i>normalized_root_mean_squared_error</i><br><i>r2_score</i><br><i>normalized_mean_absolute_error</i>\n",
    "|**experiment_timeout_hours**|Experimentation timeout in hours.|\n",
    "|**enable_early_stopping**|If early stopping is on, training will stop when the primary metric is no longer improving.|\n",
    "|**training_data**|Input dataset, containing both features and label column.|\n",
    "|**label_column_name**|The name of the label column.|\n",
    "|**compute_target**|The remote compute for training.|\n",
    "|**n_cross_validations**|Number of cross-validation folds to use for model/pipeline selection|\n",
    "|**enable_voting_ensemble**|Allow AutoML to create a Voting ensemble of the best performing models|\n",
    "|**enable_stack_ensemble**|Allow AutoML to create a Stack ensemble of the best performing models|\n",
    "|**debug_log**|Log file path for writing debugging information|\n",
    "|**featurization**| 'auto' / 'off' / FeaturizationConfig Indicator for whether featurization step should be done automatically or not, or whether customized featurization should be used. Setting this enables AutoML to perform featurization on the input to handle *missing data*, and to perform some common *feature extraction*.|\n",
    "|**max_cores_per_iteration**|Maximum number of cores to utilize per iteration. A value of -1 indicates all available cores should be used"
   ]
  },
  {
   "cell_type": "code",
   "execution_count": 20,
   "metadata": {},
   "outputs": [],
   "source": [
    "from azureml.automl.core.forecasting_parameters import ForecastingParameters\n",
    "forecasting_parameters = ForecastingParameters(\n",
    "    time_column_name=time_column_name,\n",
    "    forecast_horizon=n_test_periods,\n",
    "    time_series_id_column_names=time_series_id_column_names,\n",
    "    freq='W-THU' # Set the forecast frequency to be weekly (start on each Thursday)\n",
    ")\n",
    "\n",
    "automl_config = AutoMLConfig(task='forecasting',\n",
    "                             debug_log='automl_oj_sales_errors.log',\n",
    "                             primary_metric='normalized_mean_absolute_error',\n",
    "                             experiment_timeout_hours=0.25,\n",
    "                             training_data=train_dataset,\n",
    "                             label_column_name=target_column_name,\n",
    "                             compute_target=compute_target,\n",
    "                             enable_early_stopping=True,\n",
    "                             featurization=featurization_config,\n",
    "                             n_cross_validations=3,\n",
    "                             verbosity=logging.INFO,\n",
    "                             max_cores_per_iteration=-1,\n",
    "                             forecasting_parameters=forecasting_parameters)"
   ]
  },
  {
   "cell_type": "markdown",
   "metadata": {},
   "source": [
    "You can now submit a new training run. Depending on the data and number of iterations this operation may take several minutes.\n",
    "Information from each iteration will be printed to the console.  Validation errors and current status will be shown when setting `show_output=True` and the execution will be synchronous."
   ]
  },
  {
   "cell_type": "code",
   "execution_count": 21,
   "metadata": {},
   "outputs": [
    {
     "name": "stdout",
     "output_type": "stream",
     "text": [
      "Submitting remote run.\n"
     ]
    },
    {
     "data": {
      "text/html": [
       "<table style=\"width:100%\"><tr><th>Experiment</th><th>Id</th><th>Type</th><th>Status</th><th>Details Page</th><th>Docs Page</th></tr><tr><td>automl-ojforecasting</td><td>AutoML_f907e8cf-849d-4ffc-a64f-ed1db1359887</td><td>automl</td><td>NotStarted</td><td><a href=\"https://ml.azure.com/runs/AutoML_f907e8cf-849d-4ffc-a64f-ed1db1359887?wsid=/subscriptions/29e67936-a2a9-4c54-9dd6-26ef6c8c59e2/resourcegroups/timeseries-course/workspaces/timeseries-ws&amp;tid=730a34de-9192-47e3-93ac-f319e522053d\" target=\"_blank\" rel=\"noopener\">Link to Azure Machine Learning studio</a></td><td><a href=\"https://docs.microsoft.com/en-us/python/api/overview/azure/ml/intro?view=azure-ml-py\" target=\"_blank\" rel=\"noopener\">Link to Documentation</a></td></tr></table>"
      ],
      "text/plain": [
       "<IPython.core.display.HTML object>"
      ]
     },
     "metadata": {},
     "output_type": "display_data"
    }
   ],
   "source": [
    "remote_run = experiment.submit(automl_config, show_output=False)"
   ]
  },
  {
   "cell_type": "code",
   "execution_count": 22,
   "metadata": {},
   "outputs": [
    {
     "data": {
      "text/plain": [
       "{'runId': 'AutoML_f907e8cf-849d-4ffc-a64f-ed1db1359887',\n",
       " 'target': 'oj-cluster',\n",
       " 'status': 'Completed',\n",
       " 'startTimeUtc': '2021-05-14T13:07:01.3791Z',\n",
       " 'endTimeUtc': '2021-05-14T13:29:11.454284Z',\n",
       " 'properties': {'num_iterations': '1000',\n",
       "  'training_type': 'TrainFull',\n",
       "  'acquisition_function': 'EI',\n",
       "  'primary_metric': 'normalized_mean_absolute_error',\n",
       "  'train_split': '0',\n",
       "  'acquisition_parameter': '0',\n",
       "  'num_cross_validation': '3',\n",
       "  'target': 'oj-cluster',\n",
       "  'AMLSettingsJsonString': '{\"path\":null,\"name\":\"automl-ojforecasting\",\"subscription_id\":\"29e67936-a2a9-4c54-9dd6-26ef6c8c59e2\",\"resource_group\":\"timeseries-course\",\"workspace_name\":\"timeseries-ws\",\"region\":\"southcentralus\",\"compute_target\":\"oj-cluster\",\"spark_service\":null,\"azure_service\":\"remote\",\"many_models\":false,\"pipeline_fetch_max_batch_size\":1,\"enable_batch_run\":false,\"enable_run_restructure\":false,\"start_auxiliary_runs_before_parent_complete\":false,\"enable_code_generation\":false,\"iterations\":1000,\"primary_metric\":\"normalized_mean_absolute_error\",\"task_type\":\"regression\",\"data_script\":null,\"test_size\":0.0,\"validation_size\":0.0,\"n_cross_validations\":3,\"y_min\":null,\"y_max\":null,\"num_classes\":null,\"featurization\":{\"_blocked_transformers\":null,\"_column_purposes\":{\"CPWVOL5\":\"Numeric\"},\"_transformer_params\":{\"Imputer\":[[[\"Quantity\"],{\"strategy\":\"constant\",\"fill_value\":0}],[[\"INCOME\"],{\"strategy\":\"median\"}],[[\"Price\"],{\"strategy\":\"ffill\"}]]},\"_dataset_language\":null,\"_drop_columns\":null},\"_ignore_package_version_incompatibilities\":false,\"is_timeseries\":true,\"max_cores_per_iteration\":-1,\"max_concurrent_iterations\":1,\"iteration_timeout_minutes\":null,\"mem_in_mb\":null,\"enforce_time_on_windows\":false,\"experiment_timeout_minutes\":15,\"experiment_exit_score\":null,\"whitelist_models\":null,\"blacklist_algos\":[\"TensorFlowDNN\",\"TensorFlowLinearRegressor\",\"Arimax\"],\"supported_models\":[\"AutoArima\",\"XGBoostRegressor\",\"LassoLars\",\"RandomForest\",\"TensorFlowDNN\",\"SeasonalAverage\",\"TensorFlowLinearRegressor\",\"LightGBM\",\"DecisionTree\",\"GradientBoosting\",\"Arimax\",\"ExtremeRandomTrees\",\"Average\",\"Prophet\",\"Naive\",\"ExponentialSmoothing\",\"ElasticNet\",\"TCNForecaster\",\"SeasonalNaive\",\"SGD\",\"KNN\"],\"private_models\":[],\"auto_blacklist\":true,\"blacklist_samples_reached\":false,\"exclude_nan_labels\":true,\"verbosity\":20,\"_debug_log\":\"azureml_automl.log\",\"show_warnings\":false,\"model_explainability\":true,\"service_url\":null,\"sdk_url\":null,\"sdk_packages\":null,\"enable_onnx_compatible_models\":false,\"enable_split_onnx_featurizer_estimator_models\":false,\"vm_type\":\"STANDARD_D2_V2\",\"telemetry_verbosity\":20,\"send_telemetry\":true,\"enable_dnn\":false,\"scenario\":\"SDK-1.13.0\",\"environment_label\":null,\"save_mlflow\":false,\"force_text_dnn\":false,\"enable_feature_sweeping\":false,\"time_column_name\":\"WeekStarting\",\"grain_column_names\":[\"Store\",\"Brand\"],\"drop_column_names\":[],\"max_horizon\":20,\"dropna\":false,\"overwrite_columns\":true,\"transform_dictionary\":{\"min\":\"_automl_target_col\",\"max\":\"_automl_target_col\",\"mean\":\"_automl_target_col\"},\"window_size\":null,\"country_or_region\":null,\"lags\":null,\"feature_lags\":null,\"seasonality\":\"auto\",\"use_stl\":null,\"short_series_handling\":true,\"freq\":\"W-THU\",\"short_series_handling_configuration\":\"auto\",\"target_aggregation_function\":null,\"enable_early_stopping\":true,\"early_stopping_n_iters\":10,\"metrics\":null,\"enable_metric_confidence\":false,\"enable_ensembling\":true,\"enable_stack_ensembling\":false,\"ensemble_iterations\":15,\"enable_tf\":false,\"enable_subsampling\":false,\"subsample_seed\":null,\"enable_nimbusml\":false,\"enable_streaming\":false,\"force_streaming\":false,\"track_child_runs\":true,\"allowed_private_models\":[],\"label_column_name\":\"Quantity\",\"weight_column_name\":null,\"cv_split_column_names\":null,\"enable_local_managed\":false,\"_local_managed_run_id\":null,\"cost_mode\":1,\"lag_length\":0,\"metric_operation\":\"minimize\",\"preprocess\":true}',\n",
       "  'DataPrepJsonString': '{\\\\\"training_data\\\\\": {\\\\\"datasetId\\\\\": \\\\\"851d6784-62b1-46c7-a3ee-ca35530c6969\\\\\"}, \\\\\"datasets\\\\\": 0}',\n",
       "  'EnableSubsampling': 'False',\n",
       "  'runTemplate': 'AutoML',\n",
       "  'azureml.runsource': 'automl',\n",
       "  'display_task_type': 'forecasting',\n",
       "  'dependencies_versions': '{\"azureml-widgets\": \"1.28.0\", \"azureml-train-restclients-hyperdrive\": \"1.28.0\", \"azureml-train-core\": \"1.28.0\", \"azureml-train-automl\": \"1.28.0\", \"azureml-train-automl-runtime\": \"1.28.0\", \"azureml-train-automl-client\": \"1.28.0\", \"azureml-telemetry\": \"1.28.0\", \"azureml-pipeline-steps\": \"1.28.0\", \"azureml-pipeline-core\": \"1.28.0\", \"azureml-model-management-sdk\": \"1.0.1b6.post1\", \"azureml-interpret\": \"1.28.0\", \"azureml-defaults\": \"1.28.0\", \"azureml-dataset-runtime\": \"1.28.0\", \"azureml-dataprep\": \"2.15.0\", \"azureml-dataprep-rslex\": \"1.13.0\", \"azureml-dataprep-native\": \"33.0.0\", \"azureml-core\": \"1.28.0\", \"azureml-automl-runtime\": \"1.28.0.post1\", \"azureml-automl-core\": \"1.28.0\"}',\n",
       "  '_aml_system_scenario_identification': 'Remote.Parent',\n",
       "  'ClientType': 'SDK',\n",
       "  'environment_cpu_name': 'AzureML-AutoML',\n",
       "  'environment_cpu_label': 'prod',\n",
       "  'environment_gpu_name': 'AzureML-AutoML-GPU',\n",
       "  'environment_gpu_label': 'prod',\n",
       "  'root_attribution': 'automl',\n",
       "  'attribution': 'AutoML',\n",
       "  'Orchestrator': 'AutoML',\n",
       "  'CancelUri': 'https://southcentralus.api.azureml.ms/jasmine/v1.0/subscriptions/29e67936-a2a9-4c54-9dd6-26ef6c8c59e2/resourceGroups/timeseries-course/providers/Microsoft.MachineLearningServices/workspaces/timeseries-ws/experimentids/07c392d9-1926-4611-9d50-3246d3e45ca5/cancel/AutoML_f907e8cf-849d-4ffc-a64f-ed1db1359887',\n",
       "  'azureml.git.repository_uri': 'git@github.com:dgillen/timeseries.git',\n",
       "  'mlflow.source.git.repoURL': 'git@github.com:dgillen/timeseries.git',\n",
       "  'azureml.git.branch': 'master',\n",
       "  'mlflow.source.git.branch': 'master',\n",
       "  'azureml.git.commit': 'c7a1bed4eac4eaeb00198f8bc2c4e955c9428fad',\n",
       "  'mlflow.source.git.commit': 'c7a1bed4eac4eaeb00198f8bc2c4e955c9428fad',\n",
       "  'azureml.git.dirty': 'True',\n",
       "  'ClientSdkVersion': '1.27.0.post1',\n",
       "  'snapshotId': '00000000-0000-0000-0000-000000000000',\n",
       "  'SetupRunId': 'AutoML_f907e8cf-849d-4ffc-a64f-ed1db1359887_setup',\n",
       "  'SetupRunContainerId': 'dcid.AutoML_f907e8cf-849d-4ffc-a64f-ed1db1359887_setup',\n",
       "  'forecasting_target_lags': '[0]',\n",
       "  'forecasting_target_rolling_window_size': '0',\n",
       "  'forecasting_max_horizon': '20',\n",
       "  'forecasting_freq': 'W-THU',\n",
       "  'ProblemInfoJsonString': '{\"dataset_num_categorical\": 0, \"is_sparse\": false, \"subsampling\": false, \"dataset_classes\": 402, \"dataset_features\": 35, \"dataset_samples\": 903, \"single_frequency_class_detected\": false, \"series_column_count\": 2, \"series_count\": 9, \"series_len_min\": 90, \"series_len_max\": 98, \"series_len_avg\": 94.66666666666667, \"series_len_perc_25\": 90.0, \"series_len_perc_50\": 96.0, \"series_len_perc_75\": 98.0}'},\n",
       " 'inputDatasets': [{'dataset': {'id': '851d6784-62b1-46c7-a3ee-ca35530c6969'}, 'consumptionDetails': {'type': 'RunInput', 'inputName': 'training_data', 'mechanism': 'Direct'}}],\n",
       " 'outputDatasets': [],\n",
       " 'logFiles': {},\n",
       " 'submittedBy': 'David Gillen'}"
      ]
     },
     "execution_count": 22,
     "metadata": {},
     "output_type": "execute_result"
    }
   ],
   "source": [
    "remote_run.wait_for_completion()"
   ]
  },
  {
   "cell_type": "markdown",
   "metadata": {},
   "source": [
    "### Retrieve the Best Model\n",
    "Each run within an Experiment stores serialized (i.e. pickled) pipelines from the AutoML iterations. We can now retrieve the pipeline with the best performance on the validation dataset:"
   ]
  },
  {
   "cell_type": "code",
   "execution_count": 23,
   "metadata": {},
   "outputs": [
    {
     "name": "stderr",
     "output_type": "stream",
     "text": [
      "ERROR:fbprophet:Importing plotly failed. Interactive plots will not work.\n"
     ]
    },
    {
     "name": "stdout",
     "output_type": "stream",
     "text": [
      "[('timeseriestransformer', TimeSeriesTransformer(\n",
      "    pipeline_type=TimeSeriesPipelineType.FULL,\n",
      "    max_horizon=20,\n",
      "    use_stl=None,\n",
      "    seasonality=4,\n",
      "    force_time_index_features=None,\n",
      "    grain_column_names=['Store', 'Brand'],\n",
      "    drop_column_names=[],\n",
      "    origin_time_colname='origin',\n",
      "    group=None,\n",
      "    country_or_region=None,\n",
      "    freq='W-THU',\n",
      "    time_column_name='WeekStarting',\n",
      "    pipeline=Pipeline(\n",
      "        memory=None,\n",
      "        steps=[('make_numeric_na_dummies', MissingDummiesTransformer(\n",
      "            numerical_columns=['Advert', 'Price', 'Age60', 'COLLEGE', 'INCOME', 'Hincome150', 'Large HH', 'Minorities', 'WorkingWoman', 'SSTRDIST', 'SSTRVOL', 'CPDIST5', 'CPWVOL5']\n",
      "        )), ('impute_na_numeric_datetime', TimeSeriesImputer(\n",
      "            end=None,\n",
      "            freq='W-THU',\n",
      "            impute_by_horizon=False,\n",
      "            input_column=['Advert', 'Price', 'Age60', 'COLLEGE', 'INCOME', 'Hincome150', 'Large HH', 'Minorities', 'WorkingWoman', 'SSTRDIST', 'SSTRVOL', 'CPDIST5', 'CPWVOL5'],\n",
      "            limit=None,\n",
      "            limit_direction='forward',\n",
      "            method=OrderedDict([('ffill', ['Price'])]),\n",
      "            option='fillna',\n",
      "            order=None,\n",
      "            origin=None,\n",
      "            value={'Advert': 0.0, 'Age60': 0.232864734, 'COLLEGE': 0.248934934, 'INCOME': 10.59700966, 'Hincome150': 0.463887065, 'Large HH': 0.103953406, 'Minorities': 0.053875277, 'WorkingWoman': 0.303585347, 'SSTRDIST': 2.636332801, 'SSTRVOL': 1.142857143, 'CPDIST5': 1.927279669, 'CPWVOL5': 0.641015947}\n",
      "        )), ('grain_dropper', ShortGrainDropper()), ('restore_dtypes_transform', RestoreDtypesTransformer(\n",
      "            target_column='_automl_target_col',\n",
      "            dtypes={'WorkingWoman': dtype('float64'), 'Hincome150': dtype('float64'), 'Age60': dtype('float64'), '_automl_target_col': dtype('int64'), 'Minorities': dtype('float64'), 'INCOME': dtype('float64'), 'CPWVOL5': dtype('float64'), 'SSTRVOL': dtype('float64'), 'Large HH': dtype('float64'), 'COLLEGE': dtype('float64'), 'CPDIST5': dtype('float64'), 'Price': dtype('float64'), 'SSTRDIST': dtype('float64'), 'Advert': dtype('int64')}\n",
      "        )), ('make_grain_features', GrainIndexFeaturizer(\n",
      "            grain_feature_prefix='grain',\n",
      "            overwrite_columns=True,\n",
      "            prefix_sep='_',\n",
      "            ts_frequency=<Week: weekday=3>\n",
      "        )), ('make_categoricals_numeric', NumericalizeTransformer(\n",
      "            include_columns=set(),\n",
      "            exclude_columns={'CPWVOL5'}\n",
      "        )), ('make_time_index_featuers', TimeIndexFeaturizer(\n",
      "            correlation_cutoff=0.99,\n",
      "            country_or_region=None,\n",
      "            datetime_columns=None,\n",
      "            force_feature_list=None,\n",
      "            freq='W-THU',\n",
      "            overwrite_columns=True,\n",
      "            prune_features=True\n",
      "        )), ('make_categoricals_onehot', CategoryBinarizer(\n",
      "            columns=[],\n",
      "            drop_first=False,\n",
      "            dummy_na=False,\n",
      "            encode_all_categoricals=False,\n",
      "            prefix=None,\n",
      "            prefix_sep='_'\n",
      "        ))],\n",
      "        verbose=False\n",
      "    ),\n",
      "    featurization_config=FeaturizationConfig(\n",
      "        blocked_transformers=None,\n",
      "        column_purposes={'CPWVOL5': 'Numeric'},\n",
      "        transformer_params={'Imputer': [[['_automl_target_col'], {'strategy': 'constant', 'fill_value': 0}], [['INCOME'], {'strategy': 'median'}], [['Price'], {'strategy': 'ffill'}]]},\n",
      "        dataset_language=None,\n",
      "        drop_columns=None\n",
      "    ),\n",
      "    time_index_non_holiday_features=['_automl_year', '_automl_half', '_automl_quarter', '_automl_month', '_automl_day', '_automl_qday'],\n",
      "    lookback_features_removed=False\n",
      ")), ('prefittedsoftvotingregressor', PreFittedSoftVotingRegressor(\n",
      "    estimators=[('11', Pipeline(memory=None,\n",
      "             steps=[('minmaxscaler', MinMaxScaler(copy=True, feature_range=(0, 1))),\n",
      "                    ('decisiontreeregressor',\n",
      "                     DecisionTreeRegressor(ccp_alpha=0.0, criterion='mse',\n",
      "                                           max_depth=None, max_features=0.9,\n",
      "                                           max_leaf_nodes=None,\n",
      "                                           min_impurity_decrease=0.0,\n",
      "                                           min_impurity_split=None,\n",
      "                                           min_samples_leaf=0.013373400896808276,\n",
      "                                           min_samples_split=0.018261584682702607,\n",
      "                                           min_weight_fraction_leaf=0.0,\n",
      "                                           presort='deprecated', random_state=None,\n",
      "                                           splitter='best'))],\n",
      "             verbose=False)), ('7', Pipeline(memory=None,\n",
      "             steps=[('robustscaler',\n",
      "                     RobustScaler(copy=True, quantile_range=[10, 90],\n",
      "                                  with_centering=True, with_scaling=False)),\n",
      "                    ('decisiontreeregressor',\n",
      "                     DecisionTreeRegressor(ccp_alpha=0.0, criterion='mse',\n",
      "                                           max_depth=None, max_features=0.9,\n",
      "                                           max_leaf_nodes=None,\n",
      "                                           min_impurity_decrease=0.0,\n",
      "                                           min_impurity_split=None,\n",
      "                                           min_samples_leaf=0.007594568292413517,\n",
      "                                           min_samples_split=0.0037087774117744725,\n",
      "                                           min_weight_fraction_leaf=0.0,\n",
      "                                           presort='deprecated', random_state=None,\n",
      "                                           splitter='best'))],\n",
      "             verbose=False)), ('8', Pipeline(memory=None,\n",
      "             steps=[('standardscalerwrapper',\n",
      "                     StandardScalerWrapper(\n",
      "        copy=True,\n",
      "        with_mean=False,\n",
      "        with_std=False\n",
      "    )),\n",
      "                    ('decisiontreeregressor',\n",
      "                     DecisionTreeRegressor(ccp_alpha=0.0, criterion='mse',\n",
      "                                           max_depth=None, max_features=None,\n",
      "                                           max_leaf_nodes=None,\n",
      "                                           min_impurity_decrease=0.0,\n",
      "                                           min_impurity_split=None,\n",
      "                                           min_samples_leaf=0.029530863384643957,\n",
      "                                           min_samples_split=0.005285388593079247,\n",
      "                                           min_weight_fraction_leaf=0.0,\n",
      "                                           presort='deprecated', random_state=None,\n",
      "                                           splitter='best'))],\n",
      "             verbose=False)), ('10', Pipeline(memory=None,\n",
      "             steps=[('standardscalerwrapper',\n",
      "                     StandardScalerWrapper(\n",
      "        copy=True,\n",
      "        with_mean=False,\n",
      "        with_std=True\n",
      "    )),\n",
      "                    ('lassolars',\n",
      "                     LassoLars(alpha=0.001, copy_X=True, eps=2.220446049250313e-16,\n",
      "                               fit_intercept=True, fit_path=True, max_iter=500,\n",
      "                               normalize=False, positive=False, precompute='auto',\n",
      "                               verbose=False))],\n",
      "             verbose=False)), ('4', Pipeline(memory=None,\n",
      "             steps=[('average',\n",
      "                     Average(\n",
      "        timeseries_param_dict={'time_column_name': 'WeekStarting', 'grain_column_names': ['Store', 'Brand'], 'drop_column_names': [], 'overwrite_columns': True, 'dropna': False, 'transform_dictionary': {'min': '_automl_target_col', 'max': '_automl_target_col', 'mean': '_automl_target_col'}, 'max_horizon': 20, 'origin_time_colname...ality': 4, 'use_stl': None, 'freq': <Week: weekday=3>, 'short_series_handling_configuration': 'auto', 'target_lags': [0], 'target_rolling_window_size': 0, 'arimax_raw_columns': ['Hincome150', 'WeekStarting', 'Brand', 'SSTRVOL', 'Large HH', 'CPDIST5', 'Price', 'Store', 'Advert', 'WorkingWoman', 'Age60', 'Minorities', 'INCOME', 'CPWVOL5', 'COLLEGE', 'SSTRDIST']}\n",
      "    ))],\n",
      "             verbose=False))],\n",
      "    weights=[0.5, 0.2857142857142857, 0.07142857142857142, 0.07142857142857142, 0.07142857142857142]\n",
      "))]\n"
     ]
    }
   ],
   "source": [
    "best_run, fitted_model = remote_run.get_output()\n",
    "print(fitted_model.steps)\n",
    "model_name = best_run.properties['model_name']"
   ]
  },
  {
   "cell_type": "markdown",
   "metadata": {},
   "source": [
    "## Transparency\n",
    "\n",
    "View updated featurization summary"
   ]
  },
  {
   "cell_type": "code",
   "execution_count": 24,
   "metadata": {},
   "outputs": [],
   "source": [
    "custom_featurizer = fitted_model.named_steps['timeseriestransformer']"
   ]
  },
  {
   "cell_type": "code",
   "execution_count": 25,
   "metadata": {},
   "outputs": [
    {
     "data": {
      "text/plain": [
       "[{'RawFeatureName': 'Advert',\n",
       "  'TypeDetected': 'Numeric',\n",
       "  'Dropped': 'No',\n",
       "  'EngineeredFeatureCount': 2,\n",
       "  'Transformations': ['MedianImputer', 'ImputationMarker']},\n",
       " {'RawFeatureName': 'Price',\n",
       "  'TypeDetected': 'Numeric',\n",
       "  'Dropped': 'No',\n",
       "  'EngineeredFeatureCount': 2,\n",
       "  'Transformations': ['FowardFillImputer', 'ImputationMarker']},\n",
       " {'RawFeatureName': 'Age60',\n",
       "  'TypeDetected': 'Numeric',\n",
       "  'Dropped': 'No',\n",
       "  'EngineeredFeatureCount': 2,\n",
       "  'Transformations': ['MedianImputer', 'ImputationMarker']},\n",
       " {'RawFeatureName': 'COLLEGE',\n",
       "  'TypeDetected': 'Numeric',\n",
       "  'Dropped': 'No',\n",
       "  'EngineeredFeatureCount': 2,\n",
       "  'Transformations': ['MedianImputer', 'ImputationMarker']},\n",
       " {'RawFeatureName': 'INCOME',\n",
       "  'TypeDetected': 'Numeric',\n",
       "  'Dropped': 'No',\n",
       "  'EngineeredFeatureCount': 2,\n",
       "  'Transformations': ['MedianImputer', 'ImputationMarker']},\n",
       " {'RawFeatureName': 'Hincome150',\n",
       "  'TypeDetected': 'Numeric',\n",
       "  'Dropped': 'No',\n",
       "  'EngineeredFeatureCount': 2,\n",
       "  'Transformations': ['MedianImputer', 'ImputationMarker']},\n",
       " {'RawFeatureName': 'Large HH',\n",
       "  'TypeDetected': 'Numeric',\n",
       "  'Dropped': 'No',\n",
       "  'EngineeredFeatureCount': 2,\n",
       "  'Transformations': ['MedianImputer', 'ImputationMarker']},\n",
       " {'RawFeatureName': 'Minorities',\n",
       "  'TypeDetected': 'Numeric',\n",
       "  'Dropped': 'No',\n",
       "  'EngineeredFeatureCount': 2,\n",
       "  'Transformations': ['MedianImputer', 'ImputationMarker']},\n",
       " {'RawFeatureName': 'WorkingWoman',\n",
       "  'TypeDetected': 'Numeric',\n",
       "  'Dropped': 'No',\n",
       "  'EngineeredFeatureCount': 2,\n",
       "  'Transformations': ['MedianImputer', 'ImputationMarker']},\n",
       " {'RawFeatureName': 'SSTRDIST',\n",
       "  'TypeDetected': 'Numeric',\n",
       "  'Dropped': 'No',\n",
       "  'EngineeredFeatureCount': 2,\n",
       "  'Transformations': ['MedianImputer', 'ImputationMarker']},\n",
       " {'RawFeatureName': 'SSTRVOL',\n",
       "  'TypeDetected': 'Numeric',\n",
       "  'Dropped': 'No',\n",
       "  'EngineeredFeatureCount': 2,\n",
       "  'Transformations': ['MedianImputer', 'ImputationMarker']},\n",
       " {'RawFeatureName': 'CPDIST5',\n",
       "  'TypeDetected': 'Numeric',\n",
       "  'Dropped': 'No',\n",
       "  'EngineeredFeatureCount': 2,\n",
       "  'Transformations': ['MedianImputer', 'ImputationMarker']},\n",
       " {'RawFeatureName': 'CPWVOL5',\n",
       "  'TypeDetected': 'Numeric',\n",
       "  'Dropped': 'No',\n",
       "  'EngineeredFeatureCount': 2,\n",
       "  'Transformations': ['MedianImputer', 'ImputationMarker']},\n",
       " {'RawFeatureName': '_automl_target_col',\n",
       "  'TypeDetected': 'Numeric',\n",
       "  'Dropped': 'No',\n",
       "  'EngineeredFeatureCount': 1,\n",
       "  'Transformations': ['ImputationMarker']},\n",
       " {'RawFeatureName': 'Store',\n",
       "  'TypeDetected': 'Ignore',\n",
       "  'Dropped': 'Yes',\n",
       "  'EngineeredFeatureCount': 1,\n",
       "  'Transformations': ['GrainMarker-LabelEncoder']},\n",
       " {'RawFeatureName': 'Brand',\n",
       "  'TypeDetected': 'Ignore',\n",
       "  'Dropped': 'Yes',\n",
       "  'EngineeredFeatureCount': 1,\n",
       "  'Transformations': ['GrainMarker-LabelEncoder']},\n",
       " {'RawFeatureName': 'WeekStarting',\n",
       "  'TypeDetected': 'DateTime',\n",
       "  'Dropped': 'No',\n",
       "  'EngineeredFeatureCount': 6,\n",
       "  'Transformations': ['DateTimeTransformer']}]"
      ]
     },
     "execution_count": 25,
     "metadata": {},
     "output_type": "execute_result"
    }
   ],
   "source": [
    "custom_featurizer.get_featurization_summary()"
   ]
  },
  {
   "cell_type": "markdown",
   "metadata": {},
   "source": [
    "# Forecasting\n",
    "\n",
    "Now that we have retrieved the best pipeline/model, it can be used to make predictions on test data. First, we remove the target values from the test set:"
   ]
  },
  {
   "cell_type": "code",
   "execution_count": 26,
   "metadata": {},
   "outputs": [],
   "source": [
    "X_test = test\n",
    "y_test = X_test.pop(target_column_name).values"
   ]
  },
  {
   "cell_type": "code",
   "execution_count": 27,
   "metadata": {},
   "outputs": [
    {
     "data": {
      "text/html": [
       "<div>\n",
       "<style scoped>\n",
       "    .dataframe tbody tr th:only-of-type {\n",
       "        vertical-align: middle;\n",
       "    }\n",
       "\n",
       "    .dataframe tbody tr th {\n",
       "        vertical-align: top;\n",
       "    }\n",
       "\n",
       "    .dataframe thead th {\n",
       "        text-align: right;\n",
       "    }\n",
       "</style>\n",
       "<table border=\"1\" class=\"dataframe\">\n",
       "  <thead>\n",
       "    <tr style=\"text-align: right;\">\n",
       "      <th></th>\n",
       "      <th>WeekStarting</th>\n",
       "      <th>Store</th>\n",
       "      <th>Brand</th>\n",
       "      <th>Advert</th>\n",
       "      <th>Price</th>\n",
       "      <th>Age60</th>\n",
       "      <th>COLLEGE</th>\n",
       "      <th>INCOME</th>\n",
       "      <th>Hincome150</th>\n",
       "      <th>Large HH</th>\n",
       "      <th>Minorities</th>\n",
       "      <th>WorkingWoman</th>\n",
       "      <th>SSTRDIST</th>\n",
       "      <th>SSTRVOL</th>\n",
       "      <th>CPDIST5</th>\n",
       "      <th>CPWVOL5</th>\n",
       "    </tr>\n",
       "  </thead>\n",
       "  <tbody>\n",
       "    <tr>\n",
       "      <th>24192</th>\n",
       "      <td>1992-05-21</td>\n",
       "      <td>2</td>\n",
       "      <td>dominicks</td>\n",
       "      <td>0</td>\n",
       "      <td>1.69</td>\n",
       "      <td>0.23</td>\n",
       "      <td>0.25</td>\n",
       "      <td>10.55</td>\n",
       "      <td>0.46</td>\n",
       "      <td>0.10</td>\n",
       "      <td>0.11</td>\n",
       "      <td>0.30</td>\n",
       "      <td>2.11</td>\n",
       "      <td>1.14</td>\n",
       "      <td>1.93</td>\n",
       "      <td>0.38</td>\n",
       "    </tr>\n",
       "    <tr>\n",
       "      <th>24441</th>\n",
       "      <td>1992-05-28</td>\n",
       "      <td>2</td>\n",
       "      <td>dominicks</td>\n",
       "      <td>0</td>\n",
       "      <td>1.69</td>\n",
       "      <td>0.23</td>\n",
       "      <td>0.25</td>\n",
       "      <td>10.55</td>\n",
       "      <td>0.46</td>\n",
       "      <td>0.10</td>\n",
       "      <td>0.11</td>\n",
       "      <td>0.30</td>\n",
       "      <td>2.11</td>\n",
       "      <td>1.14</td>\n",
       "      <td>1.93</td>\n",
       "      <td>0.38</td>\n",
       "    </tr>\n",
       "    <tr>\n",
       "      <th>24675</th>\n",
       "      <td>1992-06-04</td>\n",
       "      <td>2</td>\n",
       "      <td>dominicks</td>\n",
       "      <td>0</td>\n",
       "      <td>1.74</td>\n",
       "      <td>0.23</td>\n",
       "      <td>0.25</td>\n",
       "      <td>10.55</td>\n",
       "      <td>0.46</td>\n",
       "      <td>0.10</td>\n",
       "      <td>0.11</td>\n",
       "      <td>0.30</td>\n",
       "      <td>2.11</td>\n",
       "      <td>1.14</td>\n",
       "      <td>1.93</td>\n",
       "      <td>0.38</td>\n",
       "    </tr>\n",
       "    <tr>\n",
       "      <th>24909</th>\n",
       "      <td>1992-06-11</td>\n",
       "      <td>2</td>\n",
       "      <td>dominicks</td>\n",
       "      <td>0</td>\n",
       "      <td>2.09</td>\n",
       "      <td>0.23</td>\n",
       "      <td>0.25</td>\n",
       "      <td>10.55</td>\n",
       "      <td>0.46</td>\n",
       "      <td>0.10</td>\n",
       "      <td>0.11</td>\n",
       "      <td>0.30</td>\n",
       "      <td>2.11</td>\n",
       "      <td>1.14</td>\n",
       "      <td>1.93</td>\n",
       "      <td>0.38</td>\n",
       "    </tr>\n",
       "    <tr>\n",
       "      <th>25152</th>\n",
       "      <td>1992-06-18</td>\n",
       "      <td>2</td>\n",
       "      <td>dominicks</td>\n",
       "      <td>0</td>\n",
       "      <td>2.05</td>\n",
       "      <td>0.23</td>\n",
       "      <td>0.25</td>\n",
       "      <td>10.55</td>\n",
       "      <td>0.46</td>\n",
       "      <td>0.10</td>\n",
       "      <td>0.11</td>\n",
       "      <td>0.30</td>\n",
       "      <td>2.11</td>\n",
       "      <td>1.14</td>\n",
       "      <td>1.93</td>\n",
       "      <td>0.38</td>\n",
       "    </tr>\n",
       "  </tbody>\n",
       "</table>\n",
       "</div>"
      ],
      "text/plain": [
       "      WeekStarting  Store      Brand  Advert  Price  Age60  COLLEGE  INCOME  \\\n",
       "24192 1992-05-21    2      dominicks  0      1.69   0.23   0.25     10.55     \n",
       "24441 1992-05-28    2      dominicks  0      1.69   0.23   0.25     10.55     \n",
       "24675 1992-06-04    2      dominicks  0      1.74   0.23   0.25     10.55     \n",
       "24909 1992-06-11    2      dominicks  0      2.09   0.23   0.25     10.55     \n",
       "25152 1992-06-18    2      dominicks  0      2.05   0.23   0.25     10.55     \n",
       "\n",
       "       Hincome150  Large HH  Minorities  WorkingWoman  SSTRDIST  SSTRVOL  \\\n",
       "24192 0.46        0.10      0.11        0.30          2.11      1.14       \n",
       "24441 0.46        0.10      0.11        0.30          2.11      1.14       \n",
       "24675 0.46        0.10      0.11        0.30          2.11      1.14       \n",
       "24909 0.46        0.10      0.11        0.30          2.11      1.14       \n",
       "25152 0.46        0.10      0.11        0.30          2.11      1.14       \n",
       "\n",
       "       CPDIST5  CPWVOL5  \n",
       "24192 1.93     0.38      \n",
       "24441 1.93     0.38      \n",
       "24675 1.93     0.38      \n",
       "24909 1.93     0.38      \n",
       "25152 1.93     0.38      "
      ]
     },
     "execution_count": 27,
     "metadata": {},
     "output_type": "execute_result"
    }
   ],
   "source": [
    "X_test.head()"
   ]
  },
  {
   "cell_type": "markdown",
   "metadata": {},
   "source": [
    "To produce predictions on the test set, we need to know the feature values at all dates in the test set. This requirement is somewhat reasonable for the OJ sales data since the features mainly consist of price, which is usually set in advance, and customer demographics which are approximately constant for each store over the 20 week forecast horizon in the testing data."
   ]
  },
  {
   "cell_type": "code",
   "execution_count": 28,
   "metadata": {},
   "outputs": [],
   "source": [
    "# forecast returns the predictions and the featurized data, aligned to X_test.\n",
    "# This contains the assumptions that were made in the forecast\n",
    "y_predictions, X_trans = fitted_model.forecast(X_test)"
   ]
  },
  {
   "cell_type": "markdown",
   "metadata": {},
   "source": [
    "If you are used to scikit pipelines, perhaps you expected `predict(X_test)`. However, forecasting requires a more general interface that also supplies the past target `y` values. Please use `forecast(X,y)` as `predict(X)` is reserved for internal purposes on forecasting models.\n",
    "\n",
    "The [forecast function notebook](../forecasting-forecast-function/auto-ml-forecasting-function.ipynb)."
   ]
  },
  {
   "cell_type": "markdown",
   "metadata": {},
   "source": [
    "# Evaluate\n",
    "\n",
    "To evaluate the accuracy of the forecast, we'll compare against the actual sales quantities for some select metrics, included the mean absolute percentage error (MAPE). For more metrics that can be used for evaluation after training, please see [supported metrics](https://docs.microsoft.com/en-us/azure/machine-learning/how-to-understand-automated-ml#regressionforecasting-metrics), and [how to calculate residuals](https://docs.microsoft.com/en-us/azure/machine-learning/how-to-understand-automated-ml#residuals).\n",
    "\n",
    "We'll add predictions and actuals into a single dataframe for convenience in calculating the metrics."
   ]
  },
  {
   "cell_type": "code",
   "execution_count": 29,
   "metadata": {},
   "outputs": [],
   "source": [
    "assign_dict = {'predicted': y_predictions, target_column_name: y_test}\n",
    "df_all = X_test.assign(**assign_dict)"
   ]
  },
  {
   "cell_type": "code",
   "execution_count": 30,
   "metadata": {},
   "outputs": [
    {
     "name": "stdout",
     "output_type": "stream",
     "text": [
      "[Test data scores]\n",
      "\n",
      "median_absolute_error:   4005.090\n",
      "root_mean_squared_error:   18646.748\n",
      "normalized_median_absolute_error:   0.030\n",
      "r2_score:   0.178\n",
      "explained_variance:   0.182\n",
      "root_mean_squared_log_error:   0.733\n",
      "normalized_root_mean_squared_error:   0.141\n",
      "spearman_correlation:   0.637\n",
      "normalized_mean_absolute_error:   0.078\n",
      "normalized_root_mean_squared_log_error:   0.161\n",
      "mean_absolute_percentage_error:   78.163\n",
      "mean_absolute_error:   10287.466\n"
     ]
    },
    {
     "data": {
      "image/png": "[encoded data removed]",
      "text/plain": [
       "<matplotlib.figure.Figure at 0x7f953ab15e10>"
      ]
     },
     "metadata": {
      "needs_background": "light"
     },
     "output_type": "display_data"
    }
   ],
   "source": [
    "from azureml.automl.core.shared import constants\n",
    "from azureml.automl.runtime.shared.score import scoring\n",
    "from matplotlib import pyplot as plt\n",
    "\n",
    "# use automl scoring module\n",
    "scores = scoring.score_regression(\n",
    "    y_test=df_all[target_column_name],\n",
    "    y_pred=df_all['predicted'],\n",
    "    metrics=list(constants.Metric.SCALAR_REGRESSION_SET))\n",
    "\n",
    "print(\"[Test data scores]\\n\")\n",
    "for key, value in scores.items():    \n",
    "    print('{}:   {:.3f}'.format(key, value))\n",
    "    \n",
    "# Plot outputs\n",
    "%matplotlib inline\n",
    "test_pred = plt.scatter(df_all[target_column_name], df_all['predicted'], color='b')\n",
    "test_test = plt.scatter(df_all[target_column_name], df_all[target_column_name], color='g')\n",
    "plt.legend((test_pred, test_test), ('prediction', 'truth'), loc='upper left', fontsize=8)\n",
    "plt.show()"
   ]
  },
  {
   "cell_type": "markdown",
   "metadata": {},
   "source": [
    "# Operationalize"
   ]
  },
  {
   "cell_type": "markdown",
   "metadata": {},
   "source": [
    "_Operationalization_ means getting the model into the cloud so that other can run it after you close the notebook. We will create a docker running on Azure Container Instances with the model."
   ]
  },
  {
   "cell_type": "code",
   "execution_count": 31,
   "metadata": {},
   "outputs": [
    {
     "name": "stdout",
     "output_type": "stream",
     "text": [
      "AutoMLf907e8cf812\n"
     ]
    }
   ],
   "source": [
    "description = 'AutoML OJ forecaster'\n",
    "tags = None\n",
    "model = remote_run.register_model(model_name = model_name, description = description, tags = tags)\n",
    "\n",
    "print(remote_run.model_id)"
   ]
  },
  {
   "cell_type": "markdown",
   "metadata": {},
   "source": [
    "### Develop the scoring script\n",
    "\n",
    "For the deployment we need a function which will run the forecast on serialized data. It can be obtained from the best_run."
   ]
  },
  {
   "cell_type": "code",
   "execution_count": 32,
   "metadata": {},
   "outputs": [],
   "source": [
    "script_file_name = 'score_fcast.py'\n",
    "best_run.download_file('outputs/scoring_file_v_1_0_0.py', script_file_name)"
   ]
  },
  {
   "cell_type": "markdown",
   "metadata": {},
   "source": [
    "### Deploy the model as a Web Service on Azure Container Instance"
   ]
  },
  {
   "cell_type": "code",
   "execution_count": 33,
   "metadata": {},
   "outputs": [
    {
     "name": "stdout",
     "output_type": "stream",
     "text": [
      "automl-oj-forecast-01\n",
      "Tips: You can try get_logs(): https://aka.ms/debugimage#dockerlog or local deployment: https://aka.ms/debugimage#debug-locally to debug if deployment takes longer than 10 minutes.\n",
      "Running\n",
      "2021-05-14 15:44:08+00:00 Creating Container Registry if not exists..\n",
      "2021-05-14 15:44:18+00:00 Registering the environment..\n",
      "2021-05-14 15:44:19+00:00 Use the existing image.\n",
      "2021-05-14 15:44:19+00:00 Generating deployment configuration.\n",
      "2021-05-14 15:44:20+00:00 Submitting deployment to compute.\n",
      "2021-05-14 15:44:24+00:00 Checking the status of deployment automl-oj-forecast-01..\n",
      "2021-05-14 15:45:04+00:00 Checking the status of inference endpoint automl-oj-forecast-01.\n",
      "Succeeded\n",
      "ACI service creation operation finished, operation \"Succeeded\"\n",
      "Healthy\n"
     ]
    }
   ],
   "source": [
    "from azureml.core.model import InferenceConfig\n",
    "from azureml.core.webservice import AciWebservice\n",
    "from azureml.core.webservice import Webservice\n",
    "from azureml.core.model import Model\n",
    "\n",
    "inference_config = InferenceConfig(environment = best_run.get_environment(), \n",
    "                                   entry_script = script_file_name)\n",
    "\n",
    "aciconfig = AciWebservice.deploy_configuration(cpu_cores = 1, \n",
    "                                               memory_gb = 2, \n",
    "                                               tags = {'type': \"automl-forecasting\"},\n",
    "                                               description = \"Automl forecasting sample service\")\n",
    "\n",
    "aci_service_name = 'automl-oj-forecast-01'\n",
    "print(aci_service_name)\n",
    "aci_service = Model.deploy(ws, aci_service_name, [model], inference_config, aciconfig)\n",
    "aci_service.wait_for_deployment(True)\n",
    "print(aci_service.state)"
   ]
  },
  {
   "cell_type": "code",
   "execution_count": null,
   "metadata": {},
   "outputs": [],
   "source": [
    "aci_service.get_logs()"
   ]
  },
  {
   "cell_type": "markdown",
   "metadata": {},
   "source": [
    "### Call the service"
   ]
  },
  {
   "cell_type": "code",
   "execution_count": 34,
   "metadata": {},
   "outputs": [],
   "source": [
    "import json\n",
    "X_query = X_test.copy()\n",
    "# We have to convert datetime to string, because Timestamps cannot be serialized to JSON.\n",
    "X_query[time_column_name] = X_query[time_column_name].astype(str)\n",
    "# The Service object accept the complex dictionary, which is internally converted to JSON string.\n",
    "# The section 'data' contains the data frame in the form of dictionary.\n",
    "test_sample = json.dumps({'data': X_query.to_dict(orient='records')})\n",
    "response = aci_service.run(input_data = test_sample)\n",
    "# translate from networkese to datascientese\n",
    "try: \n",
    "    res_dict = json.loads(response)\n",
    "    y_fcst_all = pd.DataFrame(res_dict['index'])\n",
    "    y_fcst_all[time_column_name] = pd.to_datetime(y_fcst_all[time_column_name], unit = 'ms')\n",
    "    y_fcst_all['forecast'] = res_dict['forecast']    \n",
    "except:\n",
    "    print(res_dict)"
   ]
  },
  {
   "cell_type": "code",
   "execution_count": 35,
   "metadata": {},
   "outputs": [
    {
     "data": {
      "text/html": [
       "<div>\n",
       "<style scoped>\n",
       "    .dataframe tbody tr th:only-of-type {\n",
       "        vertical-align: middle;\n",
       "    }\n",
       "\n",
       "    .dataframe tbody tr th {\n",
       "        vertical-align: top;\n",
       "    }\n",
       "\n",
       "    .dataframe thead th {\n",
       "        text-align: right;\n",
       "    }\n",
       "</style>\n",
       "<table border=\"1\" class=\"dataframe\">\n",
       "  <thead>\n",
       "    <tr style=\"text-align: right;\">\n",
       "      <th></th>\n",
       "      <th>WeekStarting</th>\n",
       "      <th>Store</th>\n",
       "      <th>Brand</th>\n",
       "      <th>forecast</th>\n",
       "    </tr>\n",
       "  </thead>\n",
       "  <tbody>\n",
       "    <tr>\n",
       "      <th>0</th>\n",
       "      <td>1992-05-21</td>\n",
       "      <td>2</td>\n",
       "      <td>dominicks</td>\n",
       "      <td>9231.96</td>\n",
       "    </tr>\n",
       "    <tr>\n",
       "      <th>1</th>\n",
       "      <td>1992-05-28</td>\n",
       "      <td>2</td>\n",
       "      <td>dominicks</td>\n",
       "      <td>9270.70</td>\n",
       "    </tr>\n",
       "    <tr>\n",
       "      <th>2</th>\n",
       "      <td>1992-06-04</td>\n",
       "      <td>2</td>\n",
       "      <td>dominicks</td>\n",
       "      <td>11134.62</td>\n",
       "    </tr>\n",
       "    <tr>\n",
       "      <th>3</th>\n",
       "      <td>1992-06-11</td>\n",
       "      <td>2</td>\n",
       "      <td>dominicks</td>\n",
       "      <td>3839.54</td>\n",
       "    </tr>\n",
       "    <tr>\n",
       "      <th>4</th>\n",
       "      <td>1992-06-18</td>\n",
       "      <td>2</td>\n",
       "      <td>dominicks</td>\n",
       "      <td>5148.38</td>\n",
       "    </tr>\n",
       "  </tbody>\n",
       "</table>\n",
       "</div>"
      ],
      "text/plain": [
       "  WeekStarting  Store      Brand  forecast\n",
       "0 1992-05-21    2      dominicks 9231.96  \n",
       "1 1992-05-28    2      dominicks 9270.70  \n",
       "2 1992-06-04    2      dominicks 11134.62 \n",
       "3 1992-06-11    2      dominicks 3839.54  \n",
       "4 1992-06-18    2      dominicks 5148.38  "
      ]
     },
     "execution_count": 35,
     "metadata": {},
     "output_type": "execute_result"
    }
   ],
   "source": [
    "y_fcst_all.head()"
   ]
  },
  {
   "cell_type": "markdown",
   "metadata": {},
   "source": [
    "### Delete the web service if desired"
   ]
  },
  {
   "cell_type": "code",
   "execution_count": null,
   "metadata": {},
   "outputs": [],
   "source": [
    "serv = Webservice(ws, 'automl-oj-forecast-01')\n",
    "serv.delete()     # don't do it accidentally"
   ]
  }
 ],
 "metadata": {
  "authors": [
   {
    "name": "jialiu"
   }
  ],
  "category": "tutorial",
  "celltoolbar": "Raw Cell Format",
  "compute": [
   "Remote"
  ],
  "datasets": [
   "Orange Juice Sales"
  ],
  "deployment": [
   "Azure Container Instance"
  ],
  "exclude_from_index": false,
  "framework": [
   "Azure ML AutoML"
  ],
  "friendly_name": "Forecasting orange juice sales with deployment",
  "index_order": 1,
  "kernelspec": {
   "display_name": "azure_automl",
   "language": "python",
   "name": "azure_automl"
  },
  "language_info": {
   "codemirror_mode": {
    "name": "ipython",
    "version": 3
   },
   "file_extension": ".py",
   "mimetype": "text/x-python",
   "name": "python",
   "nbconvert_exporter": "python",
   "pygments_lexer": "ipython3",
   "version": "3.6.7"
  },
  "tags": [
   "None"
  ],
  "task": "Forecasting"
 },
 "nbformat": 4,
 "nbformat_minor": 4
}
